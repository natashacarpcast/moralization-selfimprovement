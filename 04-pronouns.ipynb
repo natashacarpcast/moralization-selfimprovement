{
 "cells": [
  {
   "cell_type": "markdown",
   "metadata": {},
   "source": [
    "### Set up"
   ]
  },
  {
   "cell_type": "code",
   "execution_count": 1,
   "metadata": {},
   "outputs": [],
   "source": [
    "import pandas as pd"
   ]
  },
  {
   "cell_type": "code",
   "execution_count": 6,
   "metadata": {},
   "outputs": [
    {
     "name": "stderr",
     "output_type": "stream",
     "text": [
      "/var/folders/5q/yq3hk8g1793ckqmn2n3xpr6c0000gn/T/ipykernel_3192/2352316312.py:1: DtypeWarning: Columns (11) have mixed types. Specify dtype option on import or set low_memory=False.\n",
      "  file_df = pd.read_csv(\"data/engineered_morality.csv\")\n"
     ]
    }
   ],
   "source": [
    "file_df = pd.read_csv(\"data/engineered_morality.csv\")\n",
    "#Get only selfimprovement posts\n",
    "data = file_df[file_df.Subreddit == \"selfimprovement\"]"
   ]
  },
  {
   "cell_type": "markdown",
   "metadata": {},
   "source": [
    "Confirm correct size of data"
   ]
  },
  {
   "cell_type": "code",
   "execution_count": 7,
   "metadata": {},
   "outputs": [
    {
     "data": {
      "text/plain": [
       "(506574, 45)"
      ]
     },
     "execution_count": 7,
     "metadata": {},
     "output_type": "execute_result"
    }
   ],
   "source": [
    "data.shape"
   ]
  },
  {
   "cell_type": "markdown",
   "metadata": {},
   "source": [
    "### Check distribution of pronouns variables"
   ]
  },
  {
   "cell_type": "code",
   "execution_count": 9,
   "metadata": {},
   "outputs": [
    {
     "data": {
      "text/plain": [
       "count    506574.000000\n",
       "mean          5.902450\n",
       "std           4.943825\n",
       "min           0.000000\n",
       "25%           1.520000\n",
       "50%           4.840000\n",
       "75%           9.860000\n",
       "max          32.990000\n",
       "Name: i, dtype: float64"
      ]
     },
     "execution_count": 9,
     "metadata": {},
     "output_type": "execute_result"
    }
   ],
   "source": [
    "data.i.describe()"
   ]
  },
  {
   "cell_type": "code",
   "execution_count": 10,
   "metadata": {},
   "outputs": [
    {
     "data": {
      "text/plain": [
       "count    506574.000000\n",
       "mean          4.530415\n",
       "std           4.028162\n",
       "min           0.000000\n",
       "25%           0.840000\n",
       "50%           3.850000\n",
       "75%           7.410000\n",
       "max          52.310000\n",
       "Name: you, dtype: float64"
      ]
     },
     "execution_count": 10,
     "metadata": {},
     "output_type": "execute_result"
    }
   ],
   "source": [
    "data.you.describe()"
   ]
  },
  {
   "cell_type": "code",
   "execution_count": 11,
   "metadata": {},
   "outputs": [
    {
     "data": {
      "text/plain": [
       "count    506574.000000\n",
       "mean          0.481751\n",
       "std           1.472977\n",
       "min           0.000000\n",
       "25%           0.000000\n",
       "50%           0.000000\n",
       "75%           0.000000\n",
       "max          24.000000\n",
       "Name: shehe, dtype: float64"
      ]
     },
     "execution_count": 11,
     "metadata": {},
     "output_type": "execute_result"
    }
   ],
   "source": [
    "data.shehe.describe()"
   ]
  },
  {
   "cell_type": "code",
   "execution_count": 12,
   "metadata": {},
   "outputs": [
    {
     "data": {
      "text/plain": [
       "count    506574.000000\n",
       "mean          0.799768\n",
       "std           1.368394\n",
       "min           0.000000\n",
       "25%           0.000000\n",
       "50%           0.000000\n",
       "75%           1.180000\n",
       "max          22.410000\n",
       "Name: they, dtype: float64"
      ]
     },
     "execution_count": 12,
     "metadata": {},
     "output_type": "execute_result"
    }
   ],
   "source": [
    "data.they.describe()"
   ]
  },
  {
   "cell_type": "markdown",
   "metadata": {},
   "source": [
    "The distributions shows that there's more first person language than second or third language."
   ]
  },
  {
   "cell_type": "markdown",
   "metadata": {},
   "source": [
    "### Explore different cut offs points for categorizing posts by predominantly using first language vs not."
   ]
  },
  {
   "cell_type": "code",
   "execution_count": 13,
   "metadata": {},
   "outputs": [
    {
     "data": {
      "text/html": [
       "<div>\n",
       "<style scoped>\n",
       "    .dataframe tbody tr th:only-of-type {\n",
       "        vertical-align: middle;\n",
       "    }\n",
       "\n",
       "    .dataframe tbody tr th {\n",
       "        vertical-align: top;\n",
       "    }\n",
       "\n",
       "    .dataframe thead th {\n",
       "        text-align: right;\n",
       "    }\n",
       "</style>\n",
       "<table border=\"1\" class=\"dataframe\">\n",
       "  <thead>\n",
       "    <tr style=\"text-align: right;\">\n",
       "      <th></th>\n",
       "      <th>id</th>\n",
       "      <th>type</th>\n",
       "      <th>cleaned_text</th>\n",
       "      <th>i</th>\n",
       "      <th>shehe</th>\n",
       "      <th>they</th>\n",
       "    </tr>\n",
       "  </thead>\n",
       "  <tbody>\n",
       "    <tr>\n",
       "      <th>34234</th>\n",
       "      <td>jilrzz</td>\n",
       "      <td>submission</td>\n",
       "      <td>living in fear is not living at all time is everything we dont get unlimited time to live our life we born we breathe we die you may live up to your or into your nobody knows in that case dont go wasting your precious time worrying living in fear and anxious about everything by living in fear it stops us from taking risks and doing things out of our comfort zone for example if you dont go out on the branch youre never going to get the best fruit take chances take risks many people have changed their mindset over the years they realise they dont have much time on this world and we should do whatever we want what is that called growing one day youll come to realise that one thing youre worrying about isnt needed and its not worthy of taking your time this phase will happen to everyone who is currently going through a tough time everyday is an opportunity for you to grow up and become better one day youll find out who you truly are and what you want to achieve in life dont let this fear scare you off get right up into its face and say bring it im not backing down anymore when youre growing into the person youve always want to become never forget where you once were and how youve improved as a person the fact youve grown into a better person without taking any criticism shows how strong you truly are youve done so on our own feet its your decision and youll do everything in your power to be better its time to forget the past mistakes regrets and situations if theres time to change as a person it is now one day youll wake up and before you know it itll be youre an year old and realising that you have completely forgot what it feels like to have year old scrapes or a year old heartbreak or even a year old panic all those feelings emotions and memories would be gone from your system after all of the pain it may seem like a good thing but then you realise a new pain has set within you and its the saddest thing in the world youre at an age where you should enjoying learning new things loving others and doing the things you love to do not to panic worrying or crying but that being said its impossible to go through life without those feelings so whenever you feel like crying or bursting out your emotions please do its a way of releasing the darkness in your head and let it get some air when youre crying wipe those tears away as much as you want and fight through it be a warrior and continue to live your life</td>\n",
       "      <td>0.21</td>\n",
       "      <td>0.0</td>\n",
       "      <td>0.63</td>\n",
       "    </tr>\n",
       "    <tr>\n",
       "      <th>433364</th>\n",
       "      <td>jkjuuz8</td>\n",
       "      <td>comment</td>\n",
       "      <td>body mind spirit everything is connected get up and get moving walk run exercise whatever just get moving try to walk every day set a goal for ho wlong and ust do it or run if you can or go to th egym whatever you can do to get physically up on your feet and moving also start eating better its time to grow up enough with the video games the porn and the kid diet of junk food or sweets or whatever you have ben putting into your body try to cut that stuff back or out all together drink water lots of water this also meansstay off linegreat you quit porn and video games but are you still on line sitting on your ass all day surfing the interne and sort of getting high from that well drop all of that its doing nothing for you same with watching tv or movies all day look you dont have to drop all of these things all a once but cut all of this bs the old you down some sleep get to bed get to sleep and then get up in the morning get showeed and dressed as far as a job goesgo volunteer for a while i guarantee your parents woudl be thrilled to se you get up and at it helping others like a job a routine and you can tell them you are trying to make some changes helping others can do alot for your mental health and well being start to look at what others are doing for work ask people tell them you are looking to get your ass going looking for work a career stop worrying about college degrees and a work resume and whetehr you shoudl be a computer or tech wiz theres lots you can do and you will feel better working most any job for a while justget back into a routine most important dont focus on where you been who you have been and where you think you should be or should have been by now none of that matters now its the past and its over you can chart a new path for your life right now you may have already done so just by coming here and declaring it dont think of thi as a mile journey its not for you its about one thing one step at a time and then after that its one more step you can manage one step at a time one after another consstently will get you there answers and help will come willshow upfor you as you get moving and take action doors will open opportunities will arise you dont have to have every answer or move figured out now just get going begin you can do this you really can good luck sleep enoug</td>\n",
       "      <td>0.21</td>\n",
       "      <td>0.0</td>\n",
       "      <td>0.42</td>\n",
       "    </tr>\n",
       "    <tr>\n",
       "      <th>183297</th>\n",
       "      <td>eutam93</td>\n",
       "      <td>comment</td>\n",
       "      <td>first of all no one is cool everyone has a shit show inside them waiting to jump out you took a big step by reaching out for that you should give yourself some praise so many people live their lives in quiet desperation and never change you took a hard first step they may look or sound cool but thats just them playing their fiddle pandering to their crowd people are on the whole complex and messy you should never feel like its a one sided thing you cannot have a conversation by yourself sometimes its just about finding the right response to the message youre putting out there in the world secondly if you feel like youre boring or have nothing to say pick up a new hobby hobbies are great for meeting new people finding new topics of conversation and expressing yourself in different ways exercise is a great option makes you feel good about you and trains your mind and body to get comfortable with conflict struggle and perseverance running is a great way to do that for the low cost of a comfortable pair of shoes you dont have to be fast you just have to try hurts like hell at first but just try min to start walk some then build from there books and ted talks are also a great way to enrich your mind expand your horizons and fuel future topics of conversation believe me everyone has felt very similar feelings you are now maybe not to the same degree maybe worse but you are not alone with respect to the job try looking around for a local gig any job can be a good thing preferably something working with other people to give you an opportunity to practice but thats easier said than done if you dont have the necessary skills try looking up free courses to learn even simple things like microsoft office or data entry is an easy way to get started think small easy steps do one then another then another then boom youre further than you were yesterday celebrate the little wins along the way lastly as jim rohn intuitively said we are the average of the top five people we spend the most time with if someone is negative in your life take steps to minimize their influence on you wishing you the best of luck and support on your journey keep your chin up and remember there are good people in the world who will appreciate you for who you are but you have to appreciate yourself first sometimes people just need you to show them what they may not take the time to find themselves practice is key and failure inevitable what makes a difference is the willingness to try despite</td>\n",
       "      <td>0.21</td>\n",
       "      <td>0.0</td>\n",
       "      <td>2.15</td>\n",
       "    </tr>\n",
       "    <tr>\n",
       "      <th>435059</th>\n",
       "      <td>jlc4d70</td>\n",
       "      <td>comment</td>\n",
       "      <td>yes of course you feel exhausted it is exhausting when our mind turns against us in these ways it sounds like youre just getting stuck in perfectionistic all or nothing thinking which may be stemming from low self esteem you start off well with trying to identify the things that are causing you to feel down and actively trying to do things to improve your mental state and life you also are very aware of the flaws in your thinking or when your thinking is becoming unproductive and are actively seeking ways to solve this this is something you should be proud of because it is something you are doing right with the rest youve set yourself up to fail with making things too all or nothing this is unrealistic real life causes unpredictable things to happen that require us to be more flexible during the day with our schedule in planning things out you need to allow time and space for something unexpected to happen during your day so that when those things do happen like you wind up waking up late youre prepared for how to accept it and manage it and you dont allow one thing to suck the joy out of your entire day you also need to improve your self talk basically this amounts to training yourself to talk to yourself the way you would a child that you love it is essentially learning to parent yourself this is especially good practice for you because youre about to become a father if it helps try to imagine what you would say to your child if they were in the same situation as you how would you encourage them most of us would never dare speak to others the way we talk to ourselves so dont put up with hateful thoughts towards yourself part of parenting yourself and cultivating more positive self talk is learning how to validate your own feelings so for example in the instance where you fall into catastrophic thinking with worrying that your friend will be mad at you you can acknowledge that the thinking itself is irrational while also acknowledging the very valid emotions beneath the thought you can say something like im feeling anxious and scared right now you can go on to explore where this feeling is stemming from could be from non related past traumas or something else but here it is about sitting in a place of non judgment with your thoughts and your feelings when we judge ourselves for having a thought or a feeling it becomes much more magnified and harder to accept and release you will be much less exhausted if you train yourself to remove your judgments towards your thoughts and your feelings they are just thoughts they are just feelings you dont have to attach to them you can observe them with a child like curiosity</td>\n",
       "      <td>0.21</td>\n",
       "      <td>0.0</td>\n",
       "      <td>1.24</td>\n",
       "    </tr>\n",
       "    <tr>\n",
       "      <th>148861</th>\n",
       "      <td>e2haa7q</td>\n",
       "      <td>comment</td>\n",
       "      <td>but i have these horrible negative thought patterns that are very hard to overlook you are doing the thinking yes you got to this point with practice you started thinking a certain way about a certain thing and it served a purpose and made sense at the time so you adopted it as your go to thought process you got really good at it now you have to practice yourself out of it one way to do that is to call yourself on your own bullshit you are not god you dont know everything so why do you think that negative thought pattern has any more right to claim truth than any other thought pattern also good exists in every bad situation always there is always a positive something in every situation in life so next time ask yourself to prove the negative thought lets say youre dwelling on the idea that your youth was wasted prove it and that proof must be right or else its just an opinion or an errant thought process spoiler alert you cant prove it because there is no alternative universe to compare your life to so there you are believing a thought and getting all kinds of emotional responses that is utterly made up you can no more prove that you have wasted your youth at than you can prove that it wasnt wasted you have at best a chance either way but lets say you did waste your youth which was according to your post years ago remember that good is always present in the bad so even if you are right that you didnt do stuff then and you regret it now that situation may have given birth to other things that were actually pretty good maybe you met someone you wouldnt have otherwise met maybe you got a job somewhere that had you really done what you think people in their do you wouldnt have got the job it could be anything but there is a chance if you look closely at the last years of your life you can find good things that happened as a result hey maybe that all led you to this point right now where youre thinking at you want to try some new things maybe had you gone nuts at youd not reached this self reflective point in your life remember you are not god nothing you know right now is accurate we are all pretty much making most of this up and honestly if there is anything that you can tell yourself in those moments when youre convinced youve f d up its that there is no proof of it so there is no way to know for sure so you are not stuck in having to think that way</td>\n",
       "      <td>0.21</td>\n",
       "      <td>0.0</td>\n",
       "      <td>0.21</td>\n",
       "    </tr>\n",
       "  </tbody>\n",
       "</table>\n",
       "</div>"
      ],
      "text/plain": [
       "             id        type  \\\n",
       "34234    jilrzz  submission   \n",
       "433364  jkjuuz8     comment   \n",
       "183297  eutam93     comment   \n",
       "435059  jlc4d70     comment   \n",
       "148861  e2haa7q     comment   \n",
       "\n",
       "                                                                                                                                                                                                                                                                                                                                                                                                                                                                                                                                                                                                                                                                                                                                                                                                                                                                                                                                                                                                                                                                                                                                                                                                                                                                                                                                                                                                                                                                                                                                                                                                                                                                                                                                                                                                                                                                                                                                                                                                                                                                                                                                                                                                                                                                                                                                                                                                                                                                                                                                                                                                                                                                                                                                                               cleaned_text  \\\n",
       "34234                                                                                                                                                                                                                              living in fear is not living at all time is everything we dont get unlimited time to live our life we born we breathe we die you may live up to your or into your nobody knows in that case dont go wasting your precious time worrying living in fear and anxious about everything by living in fear it stops us from taking risks and doing things out of our comfort zone for example if you dont go out on the branch youre never going to get the best fruit take chances take risks many people have changed their mindset over the years they realise they dont have much time on this world and we should do whatever we want what is that called growing one day youll come to realise that one thing youre worrying about isnt needed and its not worthy of taking your time this phase will happen to everyone who is currently going through a tough time everyday is an opportunity for you to grow up and become better one day youll find out who you truly are and what you want to achieve in life dont let this fear scare you off get right up into its face and say bring it im not backing down anymore when youre growing into the person youve always want to become never forget where you once were and how youve improved as a person the fact youve grown into a better person without taking any criticism shows how strong you truly are youve done so on our own feet its your decision and youll do everything in your power to be better its time to forget the past mistakes regrets and situations if theres time to change as a person it is now one day youll wake up and before you know it itll be youre an year old and realising that you have completely forgot what it feels like to have year old scrapes or a year old heartbreak or even a year old panic all those feelings emotions and memories would be gone from your system after all of the pain it may seem like a good thing but then you realise a new pain has set within you and its the saddest thing in the world youre at an age where you should enjoying learning new things loving others and doing the things you love to do not to panic worrying or crying but that being said its impossible to go through life without those feelings so whenever you feel like crying or bursting out your emotions please do its a way of releasing the darkness in your head and let it get some air when youre crying wipe those tears away as much as you want and fight through it be a warrior and continue to live your life   \n",
       "433364                                                                                                                                                                                                                                                                                                                                          body mind spirit everything is connected get up and get moving walk run exercise whatever just get moving try to walk every day set a goal for ho wlong and ust do it or run if you can or go to th egym whatever you can do to get physically up on your feet and moving also start eating better its time to grow up enough with the video games the porn and the kid diet of junk food or sweets or whatever you have ben putting into your body try to cut that stuff back or out all together drink water lots of water this also meansstay off linegreat you quit porn and video games but are you still on line sitting on your ass all day surfing the interne and sort of getting high from that well drop all of that its doing nothing for you same with watching tv or movies all day look you dont have to drop all of these things all a once but cut all of this bs the old you down some sleep get to bed get to sleep and then get up in the morning get showeed and dressed as far as a job goesgo volunteer for a while i guarantee your parents woudl be thrilled to se you get up and at it helping others like a job a routine and you can tell them you are trying to make some changes helping others can do alot for your mental health and well being start to look at what others are doing for work ask people tell them you are looking to get your ass going looking for work a career stop worrying about college degrees and a work resume and whetehr you shoudl be a computer or tech wiz theres lots you can do and you will feel better working most any job for a while justget back into a routine most important dont focus on where you been who you have been and where you think you should be or should have been by now none of that matters now its the past and its over you can chart a new path for your life right now you may have already done so just by coming here and declaring it dont think of thi as a mile journey its not for you its about one thing one step at a time and then after that its one more step you can manage one step at a time one after another consstently will get you there answers and help will come willshow upfor you as you get moving and take action doors will open opportunities will arise you dont have to have every answer or move figured out now just get going begin you can do this you really can good luck sleep enoug   \n",
       "183297                                                                                                                                                                        first of all no one is cool everyone has a shit show inside them waiting to jump out you took a big step by reaching out for that you should give yourself some praise so many people live their lives in quiet desperation and never change you took a hard first step they may look or sound cool but thats just them playing their fiddle pandering to their crowd people are on the whole complex and messy you should never feel like its a one sided thing you cannot have a conversation by yourself sometimes its just about finding the right response to the message youre putting out there in the world secondly if you feel like youre boring or have nothing to say pick up a new hobby hobbies are great for meeting new people finding new topics of conversation and expressing yourself in different ways exercise is a great option makes you feel good about you and trains your mind and body to get comfortable with conflict struggle and perseverance running is a great way to do that for the low cost of a comfortable pair of shoes you dont have to be fast you just have to try hurts like hell at first but just try min to start walk some then build from there books and ted talks are also a great way to enrich your mind expand your horizons and fuel future topics of conversation believe me everyone has felt very similar feelings you are now maybe not to the same degree maybe worse but you are not alone with respect to the job try looking around for a local gig any job can be a good thing preferably something working with other people to give you an opportunity to practice but thats easier said than done if you dont have the necessary skills try looking up free courses to learn even simple things like microsoft office or data entry is an easy way to get started think small easy steps do one then another then another then boom youre further than you were yesterday celebrate the little wins along the way lastly as jim rohn intuitively said we are the average of the top five people we spend the most time with if someone is negative in your life take steps to minimize their influence on you wishing you the best of luck and support on your journey keep your chin up and remember there are good people in the world who will appreciate you for who you are but you have to appreciate yourself first sometimes people just need you to show them what they may not take the time to find themselves practice is key and failure inevitable what makes a difference is the willingness to try despite   \n",
       "435059  yes of course you feel exhausted it is exhausting when our mind turns against us in these ways it sounds like youre just getting stuck in perfectionistic all or nothing thinking which may be stemming from low self esteem you start off well with trying to identify the things that are causing you to feel down and actively trying to do things to improve your mental state and life you also are very aware of the flaws in your thinking or when your thinking is becoming unproductive and are actively seeking ways to solve this this is something you should be proud of because it is something you are doing right with the rest youve set yourself up to fail with making things too all or nothing this is unrealistic real life causes unpredictable things to happen that require us to be more flexible during the day with our schedule in planning things out you need to allow time and space for something unexpected to happen during your day so that when those things do happen like you wind up waking up late youre prepared for how to accept it and manage it and you dont allow one thing to suck the joy out of your entire day you also need to improve your self talk basically this amounts to training yourself to talk to yourself the way you would a child that you love it is essentially learning to parent yourself this is especially good practice for you because youre about to become a father if it helps try to imagine what you would say to your child if they were in the same situation as you how would you encourage them most of us would never dare speak to others the way we talk to ourselves so dont put up with hateful thoughts towards yourself part of parenting yourself and cultivating more positive self talk is learning how to validate your own feelings so for example in the instance where you fall into catastrophic thinking with worrying that your friend will be mad at you you can acknowledge that the thinking itself is irrational while also acknowledging the very valid emotions beneath the thought you can say something like im feeling anxious and scared right now you can go on to explore where this feeling is stemming from could be from non related past traumas or something else but here it is about sitting in a place of non judgment with your thoughts and your feelings when we judge ourselves for having a thought or a feeling it becomes much more magnified and harder to accept and release you will be much less exhausted if you train yourself to remove your judgments towards your thoughts and your feelings they are just thoughts they are just feelings you dont have to attach to them you can observe them with a child like curiosity   \n",
       "148861                                                                                                                                                                                                                                                                                 but i have these horrible negative thought patterns that are very hard to overlook you are doing the thinking yes you got to this point with practice you started thinking a certain way about a certain thing and it served a purpose and made sense at the time so you adopted it as your go to thought process you got really good at it now you have to practice yourself out of it one way to do that is to call yourself on your own bullshit you are not god you dont know everything so why do you think that negative thought pattern has any more right to claim truth than any other thought pattern also good exists in every bad situation always there is always a positive something in every situation in life so next time ask yourself to prove the negative thought lets say youre dwelling on the idea that your youth was wasted prove it and that proof must be right or else its just an opinion or an errant thought process spoiler alert you cant prove it because there is no alternative universe to compare your life to so there you are believing a thought and getting all kinds of emotional responses that is utterly made up you can no more prove that you have wasted your youth at than you can prove that it wasnt wasted you have at best a chance either way but lets say you did waste your youth which was according to your post years ago remember that good is always present in the bad so even if you are right that you didnt do stuff then and you regret it now that situation may have given birth to other things that were actually pretty good maybe you met someone you wouldnt have otherwise met maybe you got a job somewhere that had you really done what you think people in their do you wouldnt have got the job it could be anything but there is a chance if you look closely at the last years of your life you can find good things that happened as a result hey maybe that all led you to this point right now where youre thinking at you want to try some new things maybe had you gone nuts at youd not reached this self reflective point in your life remember you are not god nothing you know right now is accurate we are all pretty much making most of this up and honestly if there is anything that you can tell yourself in those moments when youre convinced youve f d up its that there is no proof of it so there is no way to know for sure so you are not stuck in having to think that way   \n",
       "\n",
       "           i  shehe  they  \n",
       "34234   0.21    0.0  0.63  \n",
       "433364  0.21    0.0  0.42  \n",
       "183297  0.21    0.0  2.15  \n",
       "435059  0.21    0.0  1.24  \n",
       "148861  0.21    0.0  0.21  "
      ]
     },
     "metadata": {},
     "output_type": "display_data"
    }
   ],
   "source": [
    "with pd.option_context('display.max_colwidth', None):\n",
    "    display(data[data.i > 0.20].sort_values(by=\"i\", ascending=True)[[\"id\", \"type\", \"cleaned_text\",\"i\", \"shehe\", \"they\"]][0:5])"
   ]
  },
  {
   "cell_type": "markdown",
   "metadata": {},
   "source": [
    "At this point the posts are still not very \"I\" focused."
   ]
  },
  {
   "cell_type": "code",
   "execution_count": 14,
   "metadata": {},
   "outputs": [
    {
     "data": {
      "text/html": [
       "<div>\n",
       "<style scoped>\n",
       "    .dataframe tbody tr th:only-of-type {\n",
       "        vertical-align: middle;\n",
       "    }\n",
       "\n",
       "    .dataframe tbody tr th {\n",
       "        vertical-align: top;\n",
       "    }\n",
       "\n",
       "    .dataframe thead th {\n",
       "        text-align: right;\n",
       "    }\n",
       "</style>\n",
       "<table border=\"1\" class=\"dataframe\">\n",
       "  <thead>\n",
       "    <tr style=\"text-align: right;\">\n",
       "      <th></th>\n",
       "      <th>id</th>\n",
       "      <th>type</th>\n",
       "      <th>cleaned_text</th>\n",
       "      <th>i</th>\n",
       "      <th>shehe</th>\n",
       "      <th>they</th>\n",
       "    </tr>\n",
       "  </thead>\n",
       "  <tbody>\n",
       "    <tr>\n",
       "      <th>145413</th>\n",
       "      <td>dzo92g3</td>\n",
       "      <td>comment</td>\n",
       "      <td>its a disservice to lead on guys you are not interested in like that your average guy already faces a shitton of romantic rejections in his life something most women probably dont realize let alone can relate with so when he does bite the bait youll just leave someone hanging for what your slightly raised but still low self esteem now if you actually are interested in him then go ahead hell you could even approach him most guys never get approached by women so that alone will make you stand out from the crowd but beware to not come off too strong youre an outlier already however ive come to find that basing your self esteem on other peoples perception of you is always toxic in the long term instead try to find friends have fulfilling hobbies healthy habits and goals to aspire towards that way your self esteem will always be there regardless of whether yoz are single or not b c if you base it solely upon another human and that guy breaks up with you then hell take your self esteem with him and youll be left off even worse than when you started</td>\n",
       "      <td>0.51</td>\n",
       "      <td>2.53</td>\n",
       "      <td>0.00</td>\n",
       "    </tr>\n",
       "    <tr>\n",
       "      <th>213244</th>\n",
       "      <td>fqdn4m0</td>\n",
       "      <td>comment</td>\n",
       "      <td>this is a big realisation well done for coming to it for realising the pattern wasnt serving you and for seeking help to me this comes from the disconnect between your outer representation and your inner self people expect one thing and get another whether consciously or unconsciously they feel tricked and so they distance themselves from you ultimately the work is to merge the two this isnt a quick job perhaps its a lifetimes work but its moving in the right direction which feels good you dont need to completely solve it before you start to feel better about things we learn to hide the parts of us that have been hurt before thats not a bad way to get through a temporary crappy situation its not a great way to live a whole life though quite often it ends up in a strange feedback loop where we try and protect ourselves that doesnt quite work and we feel the need to protect ourselves more using the same old strategy perhaps it is the fear of being rejected or abandoned that prevents you on some level from creating an external personal which matches your inner one if you want to explore letting this go you can either seek a professional coach therapist to support you or try it on your own you need to go slower on your own but thats not always a bad thing i would add that this is less about turning yourself into something different that it is about letting your authentic self into the world that authentic self is exactly what the world and the people around you most need if you do want to explore then try experimenting in a safe way with your external identity be playful try changing small things when you are with people you trust you want to find the balance between something that feels exciting and a little scary you cant be playful if the results would be catastrophic aim for something that feels around of the maximum risk youre willing to take remember the fearful parts of you are just that parts of you they are not all of you if they panic and get overwhelmed they may feel like it but they are not if the fear starts to get overwhelming step back the effort a notch its ok to go slow</td>\n",
       "      <td>0.51</td>\n",
       "      <td>0.00</td>\n",
       "      <td>1.77</td>\n",
       "    </tr>\n",
       "    <tr>\n",
       "      <th>253676</th>\n",
       "      <td>gth0lho</td>\n",
       "      <td>comment</td>\n",
       "      <td>most people confuse being right or winning an argument with being more intelligent they delusionally believe they have some unique innate sense of right and wrong that is somehow more valuable than the information they are receiving from the objective reality most people have a im right until proven wrong mentality even if their beliefs are based on absolutely nothing are repeatedly debunked or just obviously inaccurate less stock should be put into proposing the winning side of an argument than uncovering the most accurate possible approximation of reality and both the idea of and desire for an absolute truth can be a roadblock to this there is too strong a tie between questioning a supposition and attacking morality which is why we have logical fallacies that prevent us from falling us into traps like this but people are ignorant of these and just want the next expert to tell them simply what is and what isnt they lack the mental framework to support anything in between the extremes of right and wrong or that the truth is rather on a multidimensional axis of unknown degree and that our current understanding can only ever get us pretty close</td>\n",
       "      <td>0.51</td>\n",
       "      <td>0.00</td>\n",
       "      <td>3.03</td>\n",
       "    </tr>\n",
       "    <tr>\n",
       "      <th>197216</th>\n",
       "      <td>faqxsl8</td>\n",
       "      <td>comment</td>\n",
       "      <td>sounds like youve made progress but you still give uo control a little bit its natural your default state should be happy it sounds like if you get the girl then youll be happy its kind of a catch as women are attracted to men who are confident know their identity but it sounds like youll get the confidence if you get the girl with women and anxiety it takes practice dating love relationships are not things were generally taught you have to develop that skill just like anything else you dont go to the gym and start with a pound bench press then beat yourself up when you cant lift it you dont step into the kitchen and beat yourself up if you cant make braised shirt ribs its a process and you have to develop the skill start by making female friends talk to strangers join groups with common interests and go with the house of just chatting getting to know other people take the pressure off rather than just winning or losing if you get the girl or not eventually youll become more social and then take the next steps that would be my advice</td>\n",
       "      <td>0.51</td>\n",
       "      <td>0.00</td>\n",
       "      <td>0.51</td>\n",
       "    </tr>\n",
       "    <tr>\n",
       "      <th>303660</th>\n",
       "      <td>hp55smw</td>\n",
       "      <td>comment</td>\n",
       "      <td>metaphor analogy time do you remember learning to tie your shoes how impossible it seemed when it was easy for your parents and those around you how do you think you would describe your first hand full of attempts at this if your not being nice probably pretty bad terrible even to radically change analogies think of bruce lee the reason he got to the level he did was because he sat there and put in tens of thousands of reps and before that he had to put in thousands of reps just to get the correct form the problem is perspective maybe expectations youre evaluating things and comparing them to others right now when your a kid its normal expected and part of the process to suck at tying your shoes its part of the process to suck at keeping form during kata repetitions basically but when you show up to the gym and compare your form on day one to someone elses form without knowing if they had been practicing for a year or their entire life youre not going to like what you see but you are also skewing the perspective wildly to set yourself up for that compare yourself to who you were yesterday not who someone else is today for a practical sense practice it like a skill both whatever you want to learn but also the skill of getting yourself to do it you could set goals time blocks to work on something for minutes regardless of what you think of it then do it again the next day and repeat for a week or two then compare it to your day attempt to your later attempts this should allow you to see for yourself the effects of reps effort rather than just me explaining motivational sounding things at you and hoping they sink in if you have trouble with or dont like that then maybe try doing something once and if you dislike it do it again but instead of aiming for perfect just aim to do it better compete against yourself i also struggle with this and some days are better than others and its always easier said then done but trying to keep a decent perspective on it can make it easier and help get you moving hope this helps</td>\n",
       "      <td>0.51</td>\n",
       "      <td>1.03</td>\n",
       "      <td>1.03</td>\n",
       "    </tr>\n",
       "  </tbody>\n",
       "</table>\n",
       "</div>"
      ],
      "text/plain": [
       "             id     type  \\\n",
       "145413  dzo92g3  comment   \n",
       "213244  fqdn4m0  comment   \n",
       "253676  gth0lho  comment   \n",
       "197216  faqxsl8  comment   \n",
       "303660  hp55smw  comment   \n",
       "\n",
       "                                                                                                                                                                                                                                                                                                                                                                                                                                                                                                                                                                                                                                                                                                                                                                                                                                                                                                                                                                                                                                                                                                                                                                                                                                                                                                                                                                                                                                                                                                                                                                                                                                                                                                                                                                                                                                                                                                                                                                                                                                                                                                                                                                                                   cleaned_text  \\\n",
       "145413                                                                                                                                                                                                                                                                                                                                                                                                                                                                                                                                                                                                                                                                                                                                                                                                                                                                                                                                                                                                                                                                                                       its a disservice to lead on guys you are not interested in like that your average guy already faces a shitton of romantic rejections in his life something most women probably dont realize let alone can relate with so when he does bite the bait youll just leave someone hanging for what your slightly raised but still low self esteem now if you actually are interested in him then go ahead hell you could even approach him most guys never get approached by women so that alone will make you stand out from the crowd but beware to not come off too strong youre an outlier already however ive come to find that basing your self esteem on other peoples perception of you is always toxic in the long term instead try to find friends have fulfilling hobbies healthy habits and goals to aspire towards that way your self esteem will always be there regardless of whether yoz are single or not b c if you base it solely upon another human and that guy breaks up with you then hell take your self esteem with him and youll be left off even worse than when you started   \n",
       "213244  this is a big realisation well done for coming to it for realising the pattern wasnt serving you and for seeking help to me this comes from the disconnect between your outer representation and your inner self people expect one thing and get another whether consciously or unconsciously they feel tricked and so they distance themselves from you ultimately the work is to merge the two this isnt a quick job perhaps its a lifetimes work but its moving in the right direction which feels good you dont need to completely solve it before you start to feel better about things we learn to hide the parts of us that have been hurt before thats not a bad way to get through a temporary crappy situation its not a great way to live a whole life though quite often it ends up in a strange feedback loop where we try and protect ourselves that doesnt quite work and we feel the need to protect ourselves more using the same old strategy perhaps it is the fear of being rejected or abandoned that prevents you on some level from creating an external personal which matches your inner one if you want to explore letting this go you can either seek a professional coach therapist to support you or try it on your own you need to go slower on your own but thats not always a bad thing i would add that this is less about turning yourself into something different that it is about letting your authentic self into the world that authentic self is exactly what the world and the people around you most need if you do want to explore then try experimenting in a safe way with your external identity be playful try changing small things when you are with people you trust you want to find the balance between something that feels exciting and a little scary you cant be playful if the results would be catastrophic aim for something that feels around of the maximum risk youre willing to take remember the fearful parts of you are just that parts of you they are not all of you if they panic and get overwhelmed they may feel like it but they are not if the fear starts to get overwhelming step back the effort a notch its ok to go slow   \n",
       "253676                                                                                                                                                                                                                                                                                                                                                                                                                                                                                                                                                                                                                                                                                                                                                                                                                                                                                                                                                                                                 most people confuse being right or winning an argument with being more intelligent they delusionally believe they have some unique innate sense of right and wrong that is somehow more valuable than the information they are receiving from the objective reality most people have a im right until proven wrong mentality even if their beliefs are based on absolutely nothing are repeatedly debunked or just obviously inaccurate less stock should be put into proposing the winning side of an argument than uncovering the most accurate possible approximation of reality and both the idea of and desire for an absolute truth can be a roadblock to this there is too strong a tie between questioning a supposition and attacking morality which is why we have logical fallacies that prevent us from falling us into traps like this but people are ignorant of these and just want the next expert to tell them simply what is and what isnt they lack the mental framework to support anything in between the extremes of right and wrong or that the truth is rather on a multidimensional axis of unknown degree and that our current understanding can only ever get us pretty close   \n",
       "197216                                                                                                                                                                                                                                                                                                                                                                                                                                                                                                                                                                                                                                                                                                                                                                                                                                                                                                                                                                                                                                                                                                                sounds like youve made progress but you still give uo control a little bit its natural your default state should be happy it sounds like if you get the girl then youll be happy its kind of a catch as women are attracted to men who are confident know their identity but it sounds like youll get the confidence if you get the girl with women and anxiety it takes practice dating love relationships are not things were generally taught you have to develop that skill just like anything else you dont go to the gym and start with a pound bench press then beat yourself up when you cant lift it you dont step into the kitchen and beat yourself up if you cant make braised shirt ribs its a process and you have to develop the skill start by making female friends talk to strangers join groups with common interests and go with the house of just chatting getting to know other people take the pressure off rather than just winning or losing if you get the girl or not eventually youll become more social and then take the next steps that would be my advice   \n",
       "303660                                                                               metaphor analogy time do you remember learning to tie your shoes how impossible it seemed when it was easy for your parents and those around you how do you think you would describe your first hand full of attempts at this if your not being nice probably pretty bad terrible even to radically change analogies think of bruce lee the reason he got to the level he did was because he sat there and put in tens of thousands of reps and before that he had to put in thousands of reps just to get the correct form the problem is perspective maybe expectations youre evaluating things and comparing them to others right now when your a kid its normal expected and part of the process to suck at tying your shoes its part of the process to suck at keeping form during kata repetitions basically but when you show up to the gym and compare your form on day one to someone elses form without knowing if they had been practicing for a year or their entire life youre not going to like what you see but you are also skewing the perspective wildly to set yourself up for that compare yourself to who you were yesterday not who someone else is today for a practical sense practice it like a skill both whatever you want to learn but also the skill of getting yourself to do it you could set goals time blocks to work on something for minutes regardless of what you think of it then do it again the next day and repeat for a week or two then compare it to your day attempt to your later attempts this should allow you to see for yourself the effects of reps effort rather than just me explaining motivational sounding things at you and hoping they sink in if you have trouble with or dont like that then maybe try doing something once and if you dislike it do it again but instead of aiming for perfect just aim to do it better compete against yourself i also struggle with this and some days are better than others and its always easier said then done but trying to keep a decent perspective on it can make it easier and help get you moving hope this helps   \n",
       "\n",
       "           i  shehe  they  \n",
       "145413  0.51   2.53  0.00  \n",
       "213244  0.51   0.00  1.77  \n",
       "253676  0.51   0.00  3.03  \n",
       "197216  0.51   0.00  0.51  \n",
       "303660  0.51   1.03  1.03  "
      ]
     },
     "metadata": {},
     "output_type": "display_data"
    }
   ],
   "source": [
    "with pd.option_context('display.max_colwidth', None):\n",
    "    display(data[data.i > 0.50].sort_values(by=\"i\", ascending=True)[[\"id\", \"type\", \"cleaned_text\",\"i\", \"shehe\", \"they\"]][0:5])"
   ]
  },
  {
   "cell_type": "markdown",
   "metadata": {},
   "source": [
    "Still not very \"I\" focused"
   ]
  },
  {
   "cell_type": "code",
   "execution_count": 15,
   "metadata": {},
   "outputs": [
    {
     "data": {
      "text/html": [
       "<div>\n",
       "<style scoped>\n",
       "    .dataframe tbody tr th:only-of-type {\n",
       "        vertical-align: middle;\n",
       "    }\n",
       "\n",
       "    .dataframe tbody tr th {\n",
       "        vertical-align: top;\n",
       "    }\n",
       "\n",
       "    .dataframe thead th {\n",
       "        text-align: right;\n",
       "    }\n",
       "</style>\n",
       "<table border=\"1\" class=\"dataframe\">\n",
       "  <thead>\n",
       "    <tr style=\"text-align: right;\">\n",
       "      <th></th>\n",
       "      <th>id</th>\n",
       "      <th>type</th>\n",
       "      <th>cleaned_text</th>\n",
       "      <th>i</th>\n",
       "      <th>shehe</th>\n",
       "      <th>they</th>\n",
       "    </tr>\n",
       "  </thead>\n",
       "  <tbody>\n",
       "    <tr>\n",
       "      <th>433941</th>\n",
       "      <td>jktssk9</td>\n",
       "      <td>comment</td>\n",
       "      <td>i partly agree with the other comments a true friend would be blunt but he also wouldnt pile it on like that then again maybe he really had enough of your shit and he finally decided to break and tell you exactly what was wrong with you maybe hes introverted but also neurotically obsessed which means he would see your flaws but not be brave enough to just tell you until you opened up that way in the end i think its a judgment call on your part but i hope you recognise that just because your feelings were hurt you cant start to create reasons in your head as to why you broke it off to mask the real reason because thats what a clinically self obsessed person would do tell themselves lies and start to believe them because only their feelings matter and others opinions dont matter</td>\n",
       "      <td>2.01</td>\n",
       "      <td>3.36</td>\n",
       "      <td>2.01</td>\n",
       "    </tr>\n",
       "    <tr>\n",
       "      <th>78678</th>\n",
       "      <td>140wwsz</td>\n",
       "      <td>submission</td>\n",
       "      <td>the solitary most important thing you need to do on your self improvement journey is learn correctly learning is comprised of two aspects acknowledging reading watching listening retaining remembering what you learned when you need to apply it applying doing what you need to do when the time comes this post will help you optimize all three how to acknowledge correctly the process of acknowledging requires two things attention focusing sensory organs reception comprehension of the focus its easy to optimize attention focus on what youre reading listening to or watching do one thing at a time to optimize reception try to summarize what you learned as you go along if its a complex topic try to summarize each paragraph every minute clip or soundbite look up every single word you dont understand until the concepts make sense once you have effectively learned how to acknowledge new information the next most important thing is depositing it into long term memory how to retain retention is extremely simple but few people understand how to actually do it correctly what im about to teach you i learned while interning under a counselor whos job it was to help teach first generation college students the correct way to memorize information repetition does not help reviewing does repetition is like walking it will get you there but slowly reviewing is like taking a car its much faster at encoding long term memory how to review to review something write a prompt on a piece of paper now i want you to think of the answer without examining a reference that process of recalling carves a mental grove in your brain linking a trigger the prompt to a response the information if you instead used a notecard and immediately examined the answer your brain didnt have to do anything so minimal learning occurs if you repeat instead of review the second you stop repeating the information begins to fade after learning how to review i can recall some texts verbatim i havent read in years how to apply once youve learned how to receive information retain the information the only thing standing in your way is application when it comes down to applying its mostly our reluctance to act that stands in our way to overcome this focus on habit formation pick the habit you just learned about pick the absolute smallest step do it for days then up the intensity when i started at the gym i literally just lifted the bar because thats all i could do i now lift with x weights years later thats it optimize your intake optimize your retention optimize your application then you will grow</td>\n",
       "      <td>2.01</td>\n",
       "      <td>0.00</td>\n",
       "      <td>0.00</td>\n",
       "    </tr>\n",
       "    <tr>\n",
       "      <th>180816</th>\n",
       "      <td>eshv52c</td>\n",
       "      <td>comment</td>\n",
       "      <td>two things firstly you are wrong in regards to no structural progress youve come a long way to figure this issue out by addressing it with these positive actions meditation mindfulness e g focusing at self esteem and gratitude healthy sleep regimen healthy food regimen healthy physical exercise regimen an excellent effort identifying where your own weaknesses lay you can begin to craft them secondly your inherent nature cannot be gotten rid of per se take your less desireable qualities and mold them into tools for other facets in life not a simple task it takes a lot of persistence willpower and mindfulness being consistent while exercising self control and self reassurance to overcome these things is key even if for minute at a time you are more mindful than the last effort you win i am not an expert and have personal dealings with this issue in similar ways on a daily basis i try to improve myself even if for one thought at at time interestingly ive found that the most valuable tool to start building is trust with yourself practice being completely honest with yourself about something that youve had a hard time admitting as objectively and compassionately as possible no self abuse please if you can be honest with yourself first a lot of other things in life sort of fall into place striving for a more objective viewpoint in life can do wonders at least it did for me have a great upcoming week</td>\n",
       "      <td>2.01</td>\n",
       "      <td>0.00</td>\n",
       "      <td>0.80</td>\n",
       "    </tr>\n",
       "    <tr>\n",
       "      <th>435272</th>\n",
       "      <td>jlffrdg</td>\n",
       "      <td>comment</td>\n",
       "      <td>my problem at was i wanted more to hang out amd be with my friends and put school on the back burner cuz yeah at life is very boring all the more reason to get your education or skill building in motion it takes time so you will be bored for a few years but time flies and by the time youre completing school youll be able to start competing at a young age be able to plan vacations and look for property to own get it all out of the way now youll be mature by and life will be much better and youll be able to afford to do anything you like easier said than done but the point is knock all of that out while youre bored and focus on you the social life the women the money will all come when you least expect it</td>\n",
       "      <td>2.01</td>\n",
       "      <td>0.00</td>\n",
       "      <td>0.00</td>\n",
       "    </tr>\n",
       "    <tr>\n",
       "      <th>465040</th>\n",
       "      <td>jxkykj9</td>\n",
       "      <td>comment</td>\n",
       "      <td>sher also teaches that its okay to lack self confidence to have self doubt to be scared go after your dreams anyway ive personally found that all my dreams are on the other side of fear and the fear is a test guarding the treasure getting your dreams often involves doing new scary things and being willing to do that is how you grow and gain wisdom just dont be reckless about it calculated risks only thats how adventures often go little frodo baggins would never have been able to defeat mighty sauron if he hadnt been willing to do the scariest thing ever and notice he didnt do it alone there was gandalf and aragorn and legolas the entire nine walkers his course of action all very carefully discussed and sam was with him too the entire way every single step no one expects an adventure to be all pleasantness and good times do they the hardships and dangers are precisely what makes the whole whole journey so rewarding in the end it makes for fantastic inspiring stories there i was homeless and no idea if id ever get out now theres a tale worth hearing eh lol</td>\n",
       "      <td>2.01</td>\n",
       "      <td>2.01</td>\n",
       "      <td>0.50</td>\n",
       "    </tr>\n",
       "  </tbody>\n",
       "</table>\n",
       "</div>"
      ],
      "text/plain": [
       "             id        type  \\\n",
       "433941  jktssk9     comment   \n",
       "78678   140wwsz  submission   \n",
       "180816  eshv52c     comment   \n",
       "435272  jlffrdg     comment   \n",
       "465040  jxkykj9     comment   \n",
       "\n",
       "                                                                                                                                                                                                                                                                                                                                                                                                                                                                                                                                                                                                                                                                                                                                                                                                                                                                                                                                                                                                                                                                                                                                                                                                                                                                                                                                                                                                                                                                                                                                                                                                                                                                                                                                                                                                                                                                                                                                                                                                                                                                                                                                                                                                                                                                                                                                                                                                                                                                                                                                                                                                                                                                                  cleaned_text  \\\n",
       "433941                                                                                                                                                                                                                                                                                                                                                                                                                                                                                                                                                                                                                                                                                                                                                                                                                                                                                                                                                                                                                                                                                                                                                                                                                                                                                                                                                                                                                                                                                                                                                                                                                                                                                                                                                                                                                                                                     i partly agree with the other comments a true friend would be blunt but he also wouldnt pile it on like that then again maybe he really had enough of your shit and he finally decided to break and tell you exactly what was wrong with you maybe hes introverted but also neurotically obsessed which means he would see your flaws but not be brave enough to just tell you until you opened up that way in the end i think its a judgment call on your part but i hope you recognise that just because your feelings were hurt you cant start to create reasons in your head as to why you broke it off to mask the real reason because thats what a clinically self obsessed person would do tell themselves lies and start to believe them because only their feelings matter and others opinions dont matter   \n",
       "78678   the solitary most important thing you need to do on your self improvement journey is learn correctly learning is comprised of two aspects acknowledging reading watching listening retaining remembering what you learned when you need to apply it applying doing what you need to do when the time comes this post will help you optimize all three how to acknowledge correctly the process of acknowledging requires two things attention focusing sensory organs reception comprehension of the focus its easy to optimize attention focus on what youre reading listening to or watching do one thing at a time to optimize reception try to summarize what you learned as you go along if its a complex topic try to summarize each paragraph every minute clip or soundbite look up every single word you dont understand until the concepts make sense once you have effectively learned how to acknowledge new information the next most important thing is depositing it into long term memory how to retain retention is extremely simple but few people understand how to actually do it correctly what im about to teach you i learned while interning under a counselor whos job it was to help teach first generation college students the correct way to memorize information repetition does not help reviewing does repetition is like walking it will get you there but slowly reviewing is like taking a car its much faster at encoding long term memory how to review to review something write a prompt on a piece of paper now i want you to think of the answer without examining a reference that process of recalling carves a mental grove in your brain linking a trigger the prompt to a response the information if you instead used a notecard and immediately examined the answer your brain didnt have to do anything so minimal learning occurs if you repeat instead of review the second you stop repeating the information begins to fade after learning how to review i can recall some texts verbatim i havent read in years how to apply once youve learned how to receive information retain the information the only thing standing in your way is application when it comes down to applying its mostly our reluctance to act that stands in our way to overcome this focus on habit formation pick the habit you just learned about pick the absolute smallest step do it for days then up the intensity when i started at the gym i literally just lifted the bar because thats all i could do i now lift with x weights years later thats it optimize your intake optimize your retention optimize your application then you will grow   \n",
       "180816                                                                                                                                                                                                                                                                                                                                                                                                                                                                                                                                                                                                                                                                                                                                                                                                                                                                                                                                                                                                                                                                                                                                                                                                                two things firstly you are wrong in regards to no structural progress youve come a long way to figure this issue out by addressing it with these positive actions meditation mindfulness e g focusing at self esteem and gratitude healthy sleep regimen healthy food regimen healthy physical exercise regimen an excellent effort identifying where your own weaknesses lay you can begin to craft them secondly your inherent nature cannot be gotten rid of per se take your less desireable qualities and mold them into tools for other facets in life not a simple task it takes a lot of persistence willpower and mindfulness being consistent while exercising self control and self reassurance to overcome these things is key even if for minute at a time you are more mindful than the last effort you win i am not an expert and have personal dealings with this issue in similar ways on a daily basis i try to improve myself even if for one thought at at time interestingly ive found that the most valuable tool to start building is trust with yourself practice being completely honest with yourself about something that youve had a hard time admitting as objectively and compassionately as possible no self abuse please if you can be honest with yourself first a lot of other things in life sort of fall into place striving for a more objective viewpoint in life can do wonders at least it did for me have a great upcoming week   \n",
       "435272                                                                                                                                                                                                                                                                                                                                                                                                                                                                                                                                                                                                                                                                                                                                                                                                                                                                                                                                                                                                                                                                                                                                                                                                                                                                                                                                                                                                                                                                                                                                                                                                                                                                                                                                                                                                                                                                                                                                                my problem at was i wanted more to hang out amd be with my friends and put school on the back burner cuz yeah at life is very boring all the more reason to get your education or skill building in motion it takes time so you will be bored for a few years but time flies and by the time youre completing school youll be able to start competing at a young age be able to plan vacations and look for property to own get it all out of the way now youll be mature by and life will be much better and youll be able to afford to do anything you like easier said than done but the point is knock all of that out while youre bored and focus on you the social life the women the money will all come when you least expect it   \n",
       "465040                                                                                                                                                                                                                                                                                                                                                                                                                                                                                                                                                                                                                                                                                                                                                                                                                                                                                                                                                                                                                                                                                                                                                                                                                                                                                                                                                                                                                                                                                                                                                                          sher also teaches that its okay to lack self confidence to have self doubt to be scared go after your dreams anyway ive personally found that all my dreams are on the other side of fear and the fear is a test guarding the treasure getting your dreams often involves doing new scary things and being willing to do that is how you grow and gain wisdom just dont be reckless about it calculated risks only thats how adventures often go little frodo baggins would never have been able to defeat mighty sauron if he hadnt been willing to do the scariest thing ever and notice he didnt do it alone there was gandalf and aragorn and legolas the entire nine walkers his course of action all very carefully discussed and sam was with him too the entire way every single step no one expects an adventure to be all pleasantness and good times do they the hardships and dangers are precisely what makes the whole whole journey so rewarding in the end it makes for fantastic inspiring stories there i was homeless and no idea if id ever get out now theres a tale worth hearing eh lol   \n",
       "\n",
       "           i  shehe  they  \n",
       "433941  2.01   3.36  2.01  \n",
       "78678   2.01   0.00  0.00  \n",
       "180816  2.01   0.00  0.80  \n",
       "435272  2.01   0.00  0.00  \n",
       "465040  2.01   2.01  0.50  "
      ]
     },
     "metadata": {},
     "output_type": "display_data"
    }
   ],
   "source": [
    "with pd.option_context('display.max_colwidth', None):\n",
    "    display(data[data.i > 2].sort_values(by=\"i\", ascending=True)[[\"id\", \"type\", \"cleaned_text\",\"i\", \"shehe\", \"they\"]][0:5])"
   ]
  },
  {
   "cell_type": "markdown",
   "metadata": {},
   "source": [
    "Still not very \"I\" focused"
   ]
  },
  {
   "cell_type": "code",
   "execution_count": 16,
   "metadata": {},
   "outputs": [
    {
     "data": {
      "text/html": [
       "<div>\n",
       "<style scoped>\n",
       "    .dataframe tbody tr th:only-of-type {\n",
       "        vertical-align: middle;\n",
       "    }\n",
       "\n",
       "    .dataframe tbody tr th {\n",
       "        vertical-align: top;\n",
       "    }\n",
       "\n",
       "    .dataframe thead th {\n",
       "        text-align: right;\n",
       "    }\n",
       "</style>\n",
       "<table border=\"1\" class=\"dataframe\">\n",
       "  <thead>\n",
       "    <tr style=\"text-align: right;\">\n",
       "      <th></th>\n",
       "      <th>id</th>\n",
       "      <th>type</th>\n",
       "      <th>cleaned_text</th>\n",
       "      <th>i</th>\n",
       "      <th>shehe</th>\n",
       "      <th>they</th>\n",
       "    </tr>\n",
       "  </thead>\n",
       "  <tbody>\n",
       "    <tr>\n",
       "      <th>323369</th>\n",
       "      <td>i289ue4</td>\n",
       "      <td>comment</td>\n",
       "      <td>appreciate the response if you dont mind my pushing a bit further here though what in your opinion dictates that everyone should be treated with love why should everyone be treated with love ill often hear people say you deserve love or i deserve to be happy statements like these have always struck me as a bit odd based on what do any of us deserve love or deserve to be happy the simple fact of being born basing love and worthiness on performance while potentially dysfunctional at least makes sense to me there is a cause and effect relationship i can wrap my head around but without that what is the basis for any of us claiming we are entitled to love happiness or anything else</td>\n",
       "      <td>5.51</td>\n",
       "      <td>0.0</td>\n",
       "      <td>0.00</td>\n",
       "    </tr>\n",
       "    <tr>\n",
       "      <th>234294</th>\n",
       "      <td>gc4g7a3</td>\n",
       "      <td>comment</td>\n",
       "      <td>its enticing to retreat into your shell but i also found that its a great time to start on things youve been wanting to change do explore the main challenge is to start the habit after spending a lot of time in the bedroom i started trying something different for a change downloaded a habit forming tracker app set simple goals e g steps a day the outdoors help meditate read this led to me then deciding i wanted to build up muscle and lose some weight downloaded a nutrition tracker and its going well it feels like a game completing small goals each day and definitely helped my mood i think moving more helps so much i started finding ways to learn new things online too</td>\n",
       "      <td>5.51</td>\n",
       "      <td>0.0</td>\n",
       "      <td>0.00</td>\n",
       "    </tr>\n",
       "    <tr>\n",
       "      <th>126885</th>\n",
       "      <td>dggzp5g</td>\n",
       "      <td>comment</td>\n",
       "      <td>yes i use a pretty dated samsung which one day might have been considered smart but nowadays is pretty ancient i can make calls text play shitty games and google things if i need to aside from that i have no social media apps and i only use my phone as a tool for when i need it many people use their phone as an escape or coping mechanism for social interaction next time you go to a party gather experiment not bringing your phone it forces you to live life in addition if youre bored on a train journey or something youll find that relaxing into the journey and thinking over things in your mind is more beneficial than distracting yourself to make it go faster</td>\n",
       "      <td>5.51</td>\n",
       "      <td>0.0</td>\n",
       "      <td>0.79</td>\n",
       "    </tr>\n",
       "    <tr>\n",
       "      <th>377332</th>\n",
       "      <td>ixr71yu</td>\n",
       "      <td>comment</td>\n",
       "      <td>look young man i understand your frustration but there is a light at the end of the tunnel i hope after reading that you will see it cause i dont like to motivate without getting into details i have assisted your situation from what you have shared and i find that there are two main aspects you need to improve in order to make realistic improvements your mental state self talk your emotional control your ability to say no when you want to do any destructive behavior those two elements are the only things you should start reading about and applying in your life i hope i gave you enough signs to start your own personal journey if you still have questions feel free to write them</td>\n",
       "      <td>5.51</td>\n",
       "      <td>0.0</td>\n",
       "      <td>0.79</td>\n",
       "    </tr>\n",
       "    <tr>\n",
       "      <th>126714</th>\n",
       "      <td>dgalog8</td>\n",
       "      <td>comment</td>\n",
       "      <td>i would say commit to reading as much as you can i try to read a book a week but i read fast and have hours of commuting on the train every day so maybe you only have time for a book a month either way just read a ton start reading a little bit of everything at first eventually you will find subjects you really enjoy reading about and focus more on those most of what i read are business finance books history s literature and fantasy fiction i know some people who love reading science journals and philosophy books my wife reads a lot of self help type books and whatever oprah suggests my opinion is the more you read the more intelligent you are</td>\n",
       "      <td>5.51</td>\n",
       "      <td>0.0</td>\n",
       "      <td>0.00</td>\n",
       "    </tr>\n",
       "  </tbody>\n",
       "</table>\n",
       "</div>"
      ],
      "text/plain": [
       "             id     type  \\\n",
       "323369  i289ue4  comment   \n",
       "234294  gc4g7a3  comment   \n",
       "126885  dggzp5g  comment   \n",
       "377332  ixr71yu  comment   \n",
       "126714  dgalog8  comment   \n",
       "\n",
       "                                                                                                                                                                                                                                                                                                                                                                                                                                                                                                                                                                                                                                                                                                         cleaned_text  \\\n",
       "323369  appreciate the response if you dont mind my pushing a bit further here though what in your opinion dictates that everyone should be treated with love why should everyone be treated with love ill often hear people say you deserve love or i deserve to be happy statements like these have always struck me as a bit odd based on what do any of us deserve love or deserve to be happy the simple fact of being born basing love and worthiness on performance while potentially dysfunctional at least makes sense to me there is a cause and effect relationship i can wrap my head around but without that what is the basis for any of us claiming we are entitled to love happiness or anything else   \n",
       "234294            its enticing to retreat into your shell but i also found that its a great time to start on things youve been wanting to change do explore the main challenge is to start the habit after spending a lot of time in the bedroom i started trying something different for a change downloaded a habit forming tracker app set simple goals e g steps a day the outdoors help meditate read this led to me then deciding i wanted to build up muscle and lose some weight downloaded a nutrition tracker and its going well it feels like a game completing small goals each day and definitely helped my mood i think moving more helps so much i started finding ways to learn new things online too   \n",
       "126885                       yes i use a pretty dated samsung which one day might have been considered smart but nowadays is pretty ancient i can make calls text play shitty games and google things if i need to aside from that i have no social media apps and i only use my phone as a tool for when i need it many people use their phone as an escape or coping mechanism for social interaction next time you go to a party gather experiment not bringing your phone it forces you to live life in addition if youre bored on a train journey or something youll find that relaxing into the journey and thinking over things in your mind is more beneficial than distracting yourself to make it go faster   \n",
       "377332   look young man i understand your frustration but there is a light at the end of the tunnel i hope after reading that you will see it cause i dont like to motivate without getting into details i have assisted your situation from what you have shared and i find that there are two main aspects you need to improve in order to make realistic improvements your mental state self talk your emotional control your ability to say no when you want to do any destructive behavior those two elements are the only things you should start reading about and applying in your life i hope i gave you enough signs to start your own personal journey if you still have questions feel free to write them   \n",
       "126714                                    i would say commit to reading as much as you can i try to read a book a week but i read fast and have hours of commuting on the train every day so maybe you only have time for a book a month either way just read a ton start reading a little bit of everything at first eventually you will find subjects you really enjoy reading about and focus more on those most of what i read are business finance books history s literature and fantasy fiction i know some people who love reading science journals and philosophy books my wife reads a lot of self help type books and whatever oprah suggests my opinion is the more you read the more intelligent you are   \n",
       "\n",
       "           i  shehe  they  \n",
       "323369  5.51    0.0  0.00  \n",
       "234294  5.51    0.0  0.00  \n",
       "126885  5.51    0.0  0.79  \n",
       "377332  5.51    0.0  0.79  \n",
       "126714  5.51    0.0  0.00  "
      ]
     },
     "metadata": {},
     "output_type": "display_data"
    }
   ],
   "source": [
    "with pd.option_context('display.max_colwidth', None):\n",
    "    display(data[data.i > 5.5].sort_values(by=\"i\", ascending=True)[[\"id\", \"type\", \"cleaned_text\",\"i\", \"shehe\", \"they\"]][0:5])"
   ]
  },
  {
   "cell_type": "markdown",
   "metadata": {},
   "source": [
    "5.5 looks like a good cut off point. Every post above it is gonna be categorized as predominanty first-person focused."
   ]
  },
  {
   "cell_type": "code",
   "execution_count": 17,
   "metadata": {},
   "outputs": [
    {
     "name": "stderr",
     "output_type": "stream",
     "text": [
      "/var/folders/5q/yq3hk8g1793ckqmn2n3xpr6c0000gn/T/ipykernel_3192/2608856400.py:1: SettingWithCopyWarning: \n",
      "A value is trying to be set on a copy of a slice from a DataFrame.\n",
      "Try using .loc[row_indexer,col_indexer] = value instead\n",
      "\n",
      "See the caveats in the documentation: https://pandas.pydata.org/pandas-docs/stable/user_guide/indexing.html#returning-a-view-versus-a-copy\n",
      "  data[\"person_focus\"] = data[\"i\"].apply(lambda x: \"First person\" if x > 5.5 else \"Not first person\")\n"
     ]
    }
   ],
   "source": [
    "data[\"person_focus\"] = data[\"i\"].apply(lambda x: \"First person\" if x > 5.5 else \"Not first person\")"
   ]
  },
  {
   "cell_type": "markdown",
   "metadata": {},
   "source": [
    "### See distribution"
   ]
  },
  {
   "cell_type": "code",
   "execution_count": 19,
   "metadata": {},
   "outputs": [
    {
     "data": {
      "text/plain": [
       "person_focus\n",
       "Not first person    271353\n",
       "First person        235221\n",
       "Name: count, dtype: int64"
      ]
     },
     "execution_count": 19,
     "metadata": {},
     "output_type": "execute_result"
    }
   ],
   "source": [
    "data.person_focus.value_counts()"
   ]
  },
  {
   "cell_type": "markdown",
   "metadata": {},
   "source": [
    "Almost evenly distributed! Save in csv"
   ]
  },
  {
   "cell_type": "code",
   "execution_count": 27,
   "metadata": {},
   "outputs": [],
   "source": [
    "data[[\"id\", \"person_focus\"]].to_csv(\"data/selfimpr_by_person_focus.csv\")"
   ]
  },
  {
   "cell_type": "markdown",
   "metadata": {},
   "source": [
    "Ensure correct parsing"
   ]
  },
  {
   "cell_type": "code",
   "execution_count": 29,
   "metadata": {},
   "outputs": [
    {
     "name": "stdout",
     "output_type": "stream",
     "text": [
      "506574\n",
      "506574\n"
     ]
    }
   ],
   "source": [
    "saved = pd.read_csv(\"data/selfimpr_by_person_focus.csv\")\n",
    "print(data.shape[0])\n",
    "print(saved.shape[0])\n"
   ]
  },
  {
   "cell_type": "markdown",
   "metadata": {},
   "source": [
    "Merge with topics (reduced) data and save as well"
   ]
  },
  {
   "cell_type": "code",
   "execution_count": 30,
   "metadata": {},
   "outputs": [],
   "source": [
    "topics = pd.read_csv(\"data/selfimpr_topics.csv\")[[\"id\",\"dominant_topic\"]]"
   ]
  },
  {
   "cell_type": "code",
   "execution_count": 17,
   "metadata": {},
   "outputs": [],
   "source": [
    "merged = data.merge(topics, how=\"inner\", on=\"id\")"
   ]
  },
  {
   "cell_type": "code",
   "execution_count": 18,
   "metadata": {},
   "outputs": [],
   "source": [
    "merged.to_csv(\"data/selfimpr_finaldata.csv\")"
   ]
  }
 ],
 "metadata": {
  "kernelspec": {
   "display_name": "thesis10",
   "language": "python",
   "name": "python3"
  },
  "language_info": {
   "codemirror_mode": {
    "name": "ipython",
    "version": 3
   },
   "file_extension": ".py",
   "mimetype": "text/x-python",
   "name": "python",
   "nbconvert_exporter": "python",
   "pygments_lexer": "ipython3",
   "version": "3.10.14"
  },
  "orig_nbformat": 4
 },
 "nbformat": 4,
 "nbformat_minor": 2
}
