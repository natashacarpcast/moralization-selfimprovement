{
 "cells": [
  {
   "cell_type": "markdown",
   "metadata": {},
   "source": [
    "Import packages"
   ]
  },
  {
   "cell_type": "code",
   "execution_count": 12,
   "metadata": {},
   "outputs": [],
   "source": [
    "import pandas as pd\n",
    "from scipy import stats\n",
    "import numpy as np\n",
    "from scipy.stats import mannwhitneyu\n",
    "import seaborn as sns\n",
    "import matplotlib.pyplot as plt"
   ]
  },
  {
   "cell_type": "markdown",
   "metadata": {},
   "source": [
    "Load data"
   ]
  },
  {
   "cell_type": "code",
   "execution_count": 3,
   "metadata": {},
   "outputs": [
    {
     "name": "stderr",
     "output_type": "stream",
     "text": [
      "/var/folders/5q/yq3hk8g1793ckqmn2n3xpr6c0000gn/T/ipykernel_15625/3194509895.py:1: DtypeWarning: Columns (10) have mixed types. Specify dtype option on import or set low_memory=False.\n",
      "  selfimprovement = pd.read_csv(\"data/liwc+mfd2-results.csv\")\n",
      "/var/folders/5q/yq3hk8g1793ckqmn2n3xpr6c0000gn/T/ipykernel_15625/3194509895.py:2: DtypeWarning: Columns (10) have mixed types. Specify dtype option on import or set low_memory=False.\n",
      "  investing = pd.read_csv(\"data_to_compare/liwc/investing-liwc+mfd2.csv\")\n",
      "/var/folders/5q/yq3hk8g1793ckqmn2n3xpr6c0000gn/T/ipykernel_15625/3194509895.py:3: DtypeWarning: Columns (10) have mixed types. Specify dtype option on import or set low_memory=False.\n",
      "  homeowners = pd.read_csv(\"data_to_compare/liwc/homeowners-liwc+mfd2.csv\")\n"
     ]
    }
   ],
   "source": [
    "selfimprovement = pd.read_csv(\"data/selfimpr_liwc.csv\")\n",
    "investing = pd.read_csv(\"data/investing-liwc.csv\")\n",
    "homeowners = pd.read_csv(\"data/homeowners_liwc.csv\")"
   ]
  },
  {
   "cell_type": "code",
   "execution_count": 5,
   "metadata": {},
   "outputs": [
    {
     "data": {
      "text/plain": [
       "Index(['Unnamed: 0', 'id', 'created', 'author', 'score', 'num_comments',\n",
       "       'link', 'cleaned_text', 'word_count', 'type', 'link_id', 'year',\n",
       "       'month', 'Segment_1', 'emo_pos', 'emo_neg', 'emo_anx', 'emo_anger',\n",
       "       'emo_sad', 'moral', 'Segment', 'Care_Virtue', 'Care_Vice',\n",
       "       'Fairness_Virtue', 'Fairness_Vice', 'Loyalty_Virtue', 'Loyalty_Vice',\n",
       "       'Authority_Virtue', 'Authority_Vice', 'Sanctity_Virtue',\n",
       "       'Sanctity_Vice'],\n",
       "      dtype='object')"
      ]
     },
     "execution_count": 5,
     "metadata": {},
     "output_type": "execute_result"
    }
   ],
   "source": [
    "selfimprovement.columns"
   ]
  },
  {
   "cell_type": "markdown",
   "metadata": {},
   "source": [
    "# Is moral language present in discussions about self-improvement?"
   ]
  },
  {
   "cell_type": "markdown",
   "metadata": {},
   "source": [
    "### Basic descriptive statistics"
   ]
  },
  {
   "cell_type": "code",
   "execution_count": 3,
   "metadata": {},
   "outputs": [
    {
     "data": {
      "text/plain": [
       "count    507516.000000\n",
       "mean          0.320543\n",
       "std           0.688991\n",
       "min           0.000000\n",
       "25%           0.000000\n",
       "50%           0.000000\n",
       "75%           0.380000\n",
       "max          14.810000\n",
       "Name: moral, dtype: float64"
      ]
     },
     "execution_count": 3,
     "metadata": {},
     "output_type": "execute_result"
    }
   ],
   "source": [
    "selfimprovement.moral.describe()"
   ]
  },
  {
   "cell_type": "code",
   "execution_count": 4,
   "metadata": {},
   "outputs": [
    {
     "data": {
      "text/plain": [
       "count    504192.000000\n",
       "mean          0.191849\n",
       "std           0.545491\n",
       "min           0.000000\n",
       "25%           0.000000\n",
       "50%           0.000000\n",
       "75%           0.000000\n",
       "max          11.110000\n",
       "Name: moral, dtype: float64"
      ]
     },
     "execution_count": 4,
     "metadata": {},
     "output_type": "execute_result"
    }
   ],
   "source": [
    "investing.moral.describe()"
   ]
  },
  {
   "cell_type": "code",
   "execution_count": 5,
   "metadata": {},
   "outputs": [
    {
     "data": {
      "text/plain": [
       "count    502533.000000\n",
       "mean          0.154164\n",
       "std           0.491306\n",
       "min           0.000000\n",
       "25%           0.000000\n",
       "50%           0.000000\n",
       "75%           0.000000\n",
       "max          13.890000\n",
       "Name: moral, dtype: float64"
      ]
     },
     "execution_count": 5,
     "metadata": {},
     "output_type": "execute_result"
    }
   ],
   "source": [
    "homeowners.moral.describe()"
   ]
  },
  {
   "cell_type": "markdown",
   "metadata": {},
   "source": [
    "### Statistical tests"
   ]
  },
  {
   "cell_type": "markdown",
   "metadata": {},
   "source": [
    "Kruskall wallis between the three subreddits"
   ]
  },
  {
   "cell_type": "code",
   "execution_count": 9,
   "metadata": {},
   "outputs": [
    {
     "name": "stdout",
     "output_type": "stream",
     "text": [
      "H-statistic: 42853.6702055584\n",
      "p-value: 0.00e+00\n"
     ]
    }
   ],
   "source": [
    "h_stat, p_value = stats.kruskal(selfimprovement.moral, homeowners.moral, investing.moral)\n",
    "print(\"H-statistic:\", h_stat)\n",
    "print(f\"p-value: {p_value:.2e}\")"
   ]
  },
  {
   "cell_type": "markdown",
   "metadata": {},
   "source": [
    "There is a large difference in at least one of the subreddits. Now run Mann-Whitney U to see differences on the specific subreddits"
   ]
  },
  {
   "cell_type": "code",
   "execution_count": 17,
   "metadata": {},
   "outputs": [
    {
     "name": "stdout",
     "output_type": "stream",
     "text": [
      "Selfimprovement vs Homeowners p-value (greater): 0.00e+00\n",
      "Selfimprovement vs Investing p-value (greater): 0.00e+00\n"
     ]
    }
   ],
   "source": [
    "# One-tailed test: selfimprovement > homeowners\n",
    "u_stat, p_value = stats.mannwhitneyu(selfimprovement.moral, homeowners.moral, alternative='greater')\n",
    "print(f\"Selfimprovement vs Homeowners p-value (greater): {p_value:.2e}\")\n",
    "\n",
    "# One-tailed test: selfimprovement > investing\n",
    "u_stat, p_value = stats.mannwhitneyu(selfimprovement.moral, investing.moral, alternative='greater')\n",
    "print(f\"Selfimprovement vs Investing p-value (greater): {p_value:.2e}\")\n"
   ]
  },
  {
   "cell_type": "markdown",
   "metadata": {},
   "source": [
    "# How is the use of moral language associated with negative emotion in the context of self-improvement?"
   ]
  },
  {
   "cell_type": "code",
   "execution_count": 4,
   "metadata": {},
   "outputs": [
    {
     "name": "stdout",
     "output_type": "stream",
     "text": [
      "(138853, 31)\n",
      "(368663, 31)\n"
     ]
    }
   ],
   "source": [
    "selfimprovement_moralized = selfimprovement[selfimprovement.moral > 0.25]\n",
    "selfimprovement_not_moralized = selfimprovement[selfimprovement.moral <= 0.25]\n",
    "\n",
    "print(selfimprovement_moralized.shape)\n",
    "print(selfimprovement_not_moralized.shape)"
   ]
  },
  {
   "cell_type": "markdown",
   "metadata": {},
   "source": [
    "## Compare emo_neg scores"
   ]
  },
  {
   "cell_type": "markdown",
   "metadata": {},
   "source": [
    "Get scores"
   ]
  },
  {
   "cell_type": "code",
   "execution_count": 8,
   "metadata": {},
   "outputs": [],
   "source": [
    "emoneg_moralized = selfimprovement_moralized[\"emo_neg\"]\n",
    "emoneg_not_moralized = selfimprovement_not_moralized[\"emo_neg\"]"
   ]
  },
  {
   "cell_type": "markdown",
   "metadata": {},
   "source": [
    "Run Mann Whitney U test"
   ]
  },
  {
   "cell_type": "code",
   "execution_count": 9,
   "metadata": {},
   "outputs": [
    {
     "name": "stdout",
     "output_type": "stream",
     "text": [
      "U-statistic: 29251659541.5\n",
      "p-value (greater): 0.00e+00\n"
     ]
    }
   ],
   "source": [
    "u_stat, p_value = mannwhitneyu(\n",
    "    emoneg_moralized, \n",
    "    emoneg_not_moralized, \n",
    "    alternative='greater'\n",
    ")\n",
    "\n",
    "print(f\"U-statistic: {u_stat}\")\n",
    "print(f\"p-value (greater): {p_value:.2e}\")"
   ]
  },
  {
   "cell_type": "markdown",
   "metadata": {},
   "source": [
    "Check medians"
   ]
  },
  {
   "cell_type": "code",
   "execution_count": 15,
   "metadata": {},
   "outputs": [
    {
     "name": "stdout",
     "output_type": "stream",
     "text": [
      "Median emo_neg (moralized posts): 0.84\n",
      "Median emo_neg (not moralized posts): 0.37\n"
     ]
    }
   ],
   "source": [
    "print(\"Median emo_neg (moralized posts):\", emoneg_moralized.median())\n",
    "print(\"Median emo_neg (not moralized posts):\", emoneg_not_moralized.median())"
   ]
  },
  {
   "cell_type": "markdown",
   "metadata": {},
   "source": [
    "Visualize"
   ]
  },
  {
   "cell_type": "code",
   "execution_count": 21,
   "metadata": {},
   "outputs": [
    {
     "name": "stderr",
     "output_type": "stream",
     "text": [
      "/var/folders/5q/yq3hk8g1793ckqmn2n3xpr6c0000gn/T/ipykernel_15625/1310022919.py:1: FutureWarning: \n",
      "\n",
      "`shade` is now deprecated in favor of `fill`; setting `fill=True`.\n",
      "This will become an error in seaborn v0.14.0; please update your code.\n",
      "\n",
      "  sns.kdeplot(emoneg_moralized, label=\"Moralized\", shade=True)\n",
      "/var/folders/5q/yq3hk8g1793ckqmn2n3xpr6c0000gn/T/ipykernel_15625/1310022919.py:2: FutureWarning: \n",
      "\n",
      "`shade` is now deprecated in favor of `fill`; setting `fill=True`.\n",
      "This will become an error in seaborn v0.14.0; please update your code.\n",
      "\n",
      "  sns.kdeplot(emoneg_not_moralized, label=\"Not Moralized\", shade=True)\n"
     ]
    },
    {
     "data": {
      "image/png": "[encoded data removed]",
      "text/plain": [
       "<Figure size 640x480 with 1 Axes>"
      ]
     },
     "metadata": {},
     "output_type": "display_data"
    }
   ],
   "source": [
    "sns.kdeplot(emoneg_moralized, label=\"Moralized\", shade=True)\n",
    "sns.kdeplot(emoneg_not_moralized, label=\"Not Moralized\", shade=True)\n",
    "plt.title(\"Emo_neg scores by moralization\")\n",
    "plt.xlabel(\"emo_neg\")\n",
    "plt.legend()\n",
    "plt.show()"
   ]
  },
  {
   "cell_type": "markdown",
   "metadata": {},
   "source": [
    "## Compare anger scores"
   ]
  },
  {
   "cell_type": "code",
   "execution_count": 16,
   "metadata": {},
   "outputs": [],
   "source": [
    "emoang_moralized = selfimprovement_moralized[\"emo_anger\"]\n",
    "emoang_not_moralized = selfimprovement_not_moralized[\"emo_anger\"]"
   ]
  },
  {
   "cell_type": "markdown",
   "metadata": {},
   "source": [
    "Run Mann Whitney U test"
   ]
  },
  {
   "cell_type": "code",
   "execution_count": 17,
   "metadata": {},
   "outputs": [
    {
     "name": "stdout",
     "output_type": "stream",
     "text": [
      "U-statistic: 28400122240.5\n",
      "p-value (greater): 0.00e+00\n"
     ]
    }
   ],
   "source": [
    "u_stat_ang, p_value_ang = mannwhitneyu(\n",
    "    emoang_moralized, \n",
    "    emoang_not_moralized, \n",
    "    alternative='greater'\n",
    ")\n",
    "\n",
    "print(f\"U-statistic: {u_stat_ang}\")\n",
    "print(f\"p-value (greater): {p_value_ang:.2e}\")"
   ]
  },
  {
   "cell_type": "markdown",
   "metadata": {},
   "source": [
    "Check distributions"
   ]
  },
  {
   "cell_type": "code",
   "execution_count": 19,
   "metadata": {},
   "outputs": [
    {
     "data": {
      "text/plain": [
       "count    138853.000000\n",
       "mean          0.229045\n",
       "std           0.592559\n",
       "min           0.000000\n",
       "25%           0.000000\n",
       "50%           0.000000\n",
       "75%           0.000000\n",
       "max          11.540000\n",
       "Name: emo_anger, dtype: float64"
      ]
     },
     "execution_count": 19,
     "metadata": {},
     "output_type": "execute_result"
    }
   ],
   "source": [
    "emoang_moralized.describe()"
   ]
  },
  {
   "cell_type": "code",
   "execution_count": 20,
   "metadata": {},
   "outputs": [
    {
     "data": {
      "text/plain": [
       "count    368663.000000\n",
       "mean          0.143516\n",
       "std           0.519755\n",
       "min           0.000000\n",
       "25%           0.000000\n",
       "50%           0.000000\n",
       "75%           0.000000\n",
       "max          12.860000\n",
       "Name: emo_anger, dtype: float64"
      ]
     },
     "execution_count": 20,
     "metadata": {},
     "output_type": "execute_result"
    }
   ],
   "source": [
    "emoang_not_moralized.describe()"
   ]
  },
  {
   "cell_type": "code",
   "execution_count": 22,
   "metadata": {},
   "outputs": [
    {
     "name": "stderr",
     "output_type": "stream",
     "text": [
      "/var/folders/5q/yq3hk8g1793ckqmn2n3xpr6c0000gn/T/ipykernel_15625/256405047.py:1: FutureWarning: \n",
      "\n",
      "`shade` is now deprecated in favor of `fill`; setting `fill=True`.\n",
      "This will become an error in seaborn v0.14.0; please update your code.\n",
      "\n",
      "  sns.kdeplot(emoang_moralized, label=\"Moralized\", shade=True)\n",
      "/var/folders/5q/yq3hk8g1793ckqmn2n3xpr6c0000gn/T/ipykernel_15625/256405047.py:2: FutureWarning: \n",
      "\n",
      "`shade` is now deprecated in favor of `fill`; setting `fill=True`.\n",
      "This will become an error in seaborn v0.14.0; please update your code.\n",
      "\n",
      "  sns.kdeplot(emoang_not_moralized, label=\"Not Moralized\", shade=True)\n"
     ]
    },
    {
     "data": {
      "image/png": "[encoded data removed]",
      "text/plain": [
       "<Figure size 640x480 with 1 Axes>"
      ]
     },
     "metadata": {},
     "output_type": "display_data"
    }
   ],
   "source": [
    "sns.kdeplot(emoang_moralized, label=\"Moralized\", shade=True)\n",
    "sns.kdeplot(emoang_not_moralized, label=\"Not Moralized\", shade=True)\n",
    "plt.title(\"Emo_anger scores by moralization\")\n",
    "plt.xlabel(\"emo_anger\")\n",
    "plt.legend()\n",
    "plt.show()"
   ]
  }
 ],
 "metadata": {
  "kernelspec": {
   "display_name": "thesis10",
   "language": "python",
   "name": "python3"
  },
  "language_info": {
   "codemirror_mode": {
    "name": "ipython",
    "version": 3
   },
   "file_extension": ".py",
   "mimetype": "text/x-python",
   "name": "python",
   "nbconvert_exporter": "python",
   "pygments_lexer": "ipython3",
   "version": "3.10.14"
  },
  "orig_nbformat": 4
 },
 "nbformat": 4,
 "nbformat_minor": 2
}
