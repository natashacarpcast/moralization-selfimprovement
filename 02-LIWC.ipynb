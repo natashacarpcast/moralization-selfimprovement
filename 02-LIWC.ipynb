{
 "cells": [
  {
   "cell_type": "markdown",
   "metadata": {},
   "source": [
    "This notebook prepares the data for Tableau exploratory data analysis from results of LIWC software."
   ]
  },
  {
   "cell_type": "code",
   "execution_count": 1,
   "metadata": {},
   "outputs": [],
   "source": [
    "import pandas as pd\n"
   ]
  },
  {
   "cell_type": "code",
   "execution_count": 2,
   "metadata": {},
   "outputs": [
    {
     "name": "stderr",
     "output_type": "stream",
     "text": [
      "/var/folders/5q/yq3hk8g1793ckqmn2n3xpr6c0000gn/T/ipykernel_3127/1945107315.py:6: DtypeWarning: Columns (10) have mixed types. Specify dtype option on import or set low_memory=False.\n",
      "  selfimprovement = pd.read_csv(\"data/new_sanitycheck/selfimpr_liwc.csv\")\n",
      "/var/folders/5q/yq3hk8g1793ckqmn2n3xpr6c0000gn/T/ipykernel_3127/1945107315.py:7: DtypeWarning: Columns (10) have mixed types. Specify dtype option on import or set low_memory=False.\n",
      "  investing = pd.read_csv(\"data/new_sanitycheck/investing_liwc.csv\")\n",
      "/var/folders/5q/yq3hk8g1793ckqmn2n3xpr6c0000gn/T/ipykernel_3127/1945107315.py:8: DtypeWarning: Columns (10) have mixed types. Specify dtype option on import or set low_memory=False.\n",
      "  homeowners = pd.read_csv(\"data/new_sanitycheck/homeowners_liwc.csv\")\n"
     ]
    }
   ],
   "source": [
    "#Previous data\n",
    "#selfimprovement = pd.read_csv(\"data/selfimpr_liwc.csv\")\n",
    "#investing = pd.read_csv(\"data/investing_liwc.csv\")\n",
    "#homeowners = pd.read_csv(\"data/homeowners_liwc.csv\")\n",
    "#Sanity check data size April 6\n",
    "selfimprovement = pd.read_csv(\"data/new_sanitycheck/selfimpr_liwc.csv\")\n",
    "investing = pd.read_csv(\"data/new_sanitycheck/investing_liwc.csv\")\n",
    "homeowners = pd.read_csv(\"data/new_sanitycheck/homeowners_liwc.csv\")"
   ]
  },
  {
   "cell_type": "markdown",
   "metadata": {},
   "source": [
    "### Basic descriptive statistics"
   ]
  },
  {
   "cell_type": "code",
   "execution_count": 3,
   "metadata": {},
   "outputs": [
    {
     "data": {
      "text/plain": [
       "count    506574.000000\n",
       "mean          0.330980\n",
       "std           0.700334\n",
       "min           0.000000\n",
       "25%           0.000000\n",
       "50%           0.000000\n",
       "75%           0.410000\n",
       "max          14.810000\n",
       "Name: moral, dtype: float64"
      ]
     },
     "execution_count": 3,
     "metadata": {},
     "output_type": "execute_result"
    }
   ],
   "source": [
    "selfimprovement.moral.describe()"
   ]
  },
  {
   "cell_type": "code",
   "execution_count": 4,
   "metadata": {},
   "outputs": [
    {
     "data": {
      "text/plain": [
       "count    503158.000000\n",
       "mean          0.193725\n",
       "std           0.550578\n",
       "min           0.000000\n",
       "25%           0.000000\n",
       "50%           0.000000\n",
       "75%           0.000000\n",
       "max          13.210000\n",
       "Name: moral, dtype: float64"
      ]
     },
     "execution_count": 4,
     "metadata": {},
     "output_type": "execute_result"
    }
   ],
   "source": [
    "investing.moral.describe()"
   ]
  },
  {
   "cell_type": "code",
   "execution_count": 5,
   "metadata": {},
   "outputs": [
    {
     "data": {
      "text/plain": [
       "count    498733.000000\n",
       "mean          0.154216\n",
       "std           0.493689\n",
       "min           0.000000\n",
       "25%           0.000000\n",
       "50%           0.000000\n",
       "75%           0.000000\n",
       "max          13.890000\n",
       "Name: moral, dtype: float64"
      ]
     },
     "execution_count": 5,
     "metadata": {},
     "output_type": "execute_result"
    }
   ],
   "source": [
    "homeowners.moral.describe()"
   ]
  },
  {
   "cell_type": "markdown",
   "metadata": {},
   "source": [
    "### Observe proportions of moral language across subreddits"
   ]
  },
  {
   "cell_type": "markdown",
   "metadata": {},
   "source": [
    "Get total sizes"
   ]
  },
  {
   "cell_type": "code",
   "execution_count": 6,
   "metadata": {},
   "outputs": [],
   "source": [
    "#Call shape method to get shape of dataframe and select the number of rows\n",
    "total_si = selfimprovement.shape[0]\n",
    "total_i = investing.shape[0]\n",
    "total_h = homeowners.shape[0]"
   ]
  },
  {
   "cell_type": "markdown",
   "metadata": {},
   "source": [
    "Get number of posts with moralization score higher than 0.25 (the LIWC's reported mean for their corpus of Reddit + other sources)"
   ]
  },
  {
   "cell_type": "code",
   "execution_count": 7,
   "metadata": {},
   "outputs": [],
   "source": [
    "moral_si = selfimprovement[selfimprovement.moral > 0.25]\n",
    "moral_i = investing[investing.moral > 0.25]\n",
    "moral_h = homeowners[homeowners.moral > 0.25]\n",
    "\n",
    "#Repear workflow to get number of rows\n",
    "moral_si_n = moral_si.shape[0]\n",
    "moral_i_n = moral_i.shape[0]\n",
    "moral_h_n = moral_h.shape[0]"
   ]
  },
  {
   "cell_type": "markdown",
   "metadata": {},
   "source": [
    "Calculate proportion of moralization language across the three subreddits"
   ]
  },
  {
   "cell_type": "code",
   "execution_count": 8,
   "metadata": {},
   "outputs": [],
   "source": [
    "percentage_si = (moral_si_n / total_si) * 100\n",
    "percentage_i = (moral_i_n / total_i) * 100\n",
    "percentage_h = (moral_h_n / total_h) * 100"
   ]
  },
  {
   "cell_type": "code",
   "execution_count": 9,
   "metadata": {},
   "outputs": [
    {
     "name": "stdout",
     "output_type": "stream",
     "text": [
      "Proportion of moralized posts in the r/selfimprovement subreddit: 28.08%\n",
      "Proportion of moralized posts in the r/investing subreddit:15.58%\n",
      "Proportion of moralized posts in the r/homeowners subreddit:12.64%\n"
     ]
    }
   ],
   "source": [
    "print(f\"Proportion of moralized posts in the r/selfimprovement subreddit: {percentage_si:.2f}%\")\n",
    "print(f\"Proportion of moralized posts in the r/investing subreddit:{percentage_i:.2f}%\")\n",
    "print(f\"Proportion of moralized posts in the r/homeowners subreddit:{percentage_h:.2f}%\")"
   ]
  },
  {
   "cell_type": "markdown",
   "metadata": {},
   "source": [
    "## Feature engineering with foundations scores"
   ]
  },
  {
   "cell_type": "markdown",
   "metadata": {},
   "source": [
    "Some feature engineering to create combined scores for each foundation, and combined scores for virtue and vice"
   ]
  },
  {
   "cell_type": "code",
   "execution_count": 10,
   "metadata": {},
   "outputs": [],
   "source": [
    "def feature_engineering(df):\n",
    "\n",
    "    # Calculate total for each foundation\n",
    "    df[\"Care_total\"] = df[\"Care_Virtue\"] + df[\"Care_Vice\"]\n",
    "    df[\"Fairness_total\"] = df[\"Fairness_Virtue\"] + df[\"Fairness_Vice\"]\n",
    "    df[\"Loyalty_total\"] = df[\"Loyalty_Virtue\"] + df[\"Loyalty_Vice\"]\n",
    "    df[\"Authority_total\"] = df[\"Authority_Virtue\"] + df[\"Authority_Vice\"]\n",
    "    df[\"Sanctity_total\"] = df[\"Sanctity_Virtue\"] + df[\"Sanctity_Vice\"]\n",
    "\n",
    "    # Vice and virtue scores\n",
    "    df[\"Virtue_total\"] = (df[\"Care_Virtue\"] + df[\"Fairness_Virtue\"] \n",
    "                          + df[\"Loyalty_Virtue\"] + df[\"Authority_Virtue\"] \n",
    "                          + df[\"Sanctity_Virtue\"])\n",
    "    \n",
    "    df[\"Vice_total\"] = (df[\"Care_Vice\"] + df[\"Fairness_Vice\"] \n",
    "                    + df[\"Loyalty_Vice\"] + df[\"Authority_Vice\"] \n",
    "                    + df[\"Sanctity_Vice\"])\n",
    "    \n",
    "    # Overall total score across all foundations\n",
    "    df[\"Foundations_total_score\"] = (\n",
    "        df[\"Care_total\"] + df[\"Fairness_total\"] + df[\"Loyalty_total\"] +\n",
    "        df[\"Authority_total\"] + df[\"Sanctity_total\"])\n",
    "    \n",
    "    return df"
   ]
  },
  {
   "cell_type": "code",
   "execution_count": 11,
   "metadata": {},
   "outputs": [],
   "source": [
    "selfimprovement2 = feature_engineering(selfimprovement)\n",
    "investing2 = feature_engineering(investing)\n",
    "homeowners2 = feature_engineering(homeowners)"
   ]
  },
  {
   "cell_type": "markdown",
   "metadata": {},
   "source": [
    "Create one single df to use in Tableau"
   ]
  },
  {
   "cell_type": "code",
   "execution_count": 12,
   "metadata": {},
   "outputs": [],
   "source": [
    "selfimprovement2[\"Subreddit\"] = \"selfimprovement\"\n",
    "investing2[\"Subreddit\"] = \"investing\"\n",
    "homeowners2[\"Subreddit\"] = \"homeowners\""
   ]
  },
  {
   "cell_type": "code",
   "execution_count": 13,
   "metadata": {},
   "outputs": [],
   "source": [
    "all_reddits = pd.concat([selfimprovement2, investing2, homeowners2], ignore_index=True)"
   ]
  },
  {
   "cell_type": "code",
   "execution_count": 14,
   "metadata": {},
   "outputs": [
    {
     "data": {
      "text/html": [
       "<div>\n",
       "<style scoped>\n",
       "    .dataframe tbody tr th:only-of-type {\n",
       "        vertical-align: middle;\n",
       "    }\n",
       "\n",
       "    .dataframe tbody tr th {\n",
       "        vertical-align: top;\n",
       "    }\n",
       "\n",
       "    .dataframe thead th {\n",
       "        text-align: right;\n",
       "    }\n",
       "</style>\n",
       "<table border=\"1\" class=\"dataframe\">\n",
       "  <thead>\n",
       "    <tr style=\"text-align: right;\">\n",
       "      <th></th>\n",
       "      <th>Unnamed: 0</th>\n",
       "      <th>id</th>\n",
       "      <th>created</th>\n",
       "      <th>author</th>\n",
       "      <th>score</th>\n",
       "      <th>num_comments</th>\n",
       "      <th>link</th>\n",
       "      <th>cleaned_text</th>\n",
       "      <th>word_count</th>\n",
       "      <th>type</th>\n",
       "      <th>...</th>\n",
       "      <th>Sanctity_Vice</th>\n",
       "      <th>Care_total</th>\n",
       "      <th>Fairness_total</th>\n",
       "      <th>Loyalty_total</th>\n",
       "      <th>Authority_total</th>\n",
       "      <th>Sanctity_total</th>\n",
       "      <th>Virtue_total</th>\n",
       "      <th>Vice_total</th>\n",
       "      <th>Foundations_total_score</th>\n",
       "      <th>Subreddit</th>\n",
       "    </tr>\n",
       "  </thead>\n",
       "  <tbody>\n",
       "    <tr>\n",
       "      <th>0</th>\n",
       "      <td>0</td>\n",
       "      <td>hk5r2</td>\n",
       "      <td>2011-05-25 17:27</td>\n",
       "      <td>u/[deleted]</td>\n",
       "      <td>1</td>\n",
       "      <td>3.0</td>\n",
       "      <td>https://www.reddit.com/r/selfimprovement/comme...</td>\n",
       "      <td>i had an appointment today with the dentist ov...</td>\n",
       "      <td>64</td>\n",
       "      <td>submission</td>\n",
       "      <td>...</td>\n",
       "      <td>0.00</td>\n",
       "      <td>0.00</td>\n",
       "      <td>0.00</td>\n",
       "      <td>0.00</td>\n",
       "      <td>0.00</td>\n",
       "      <td>0.00</td>\n",
       "      <td>0.00</td>\n",
       "      <td>0.00</td>\n",
       "      <td>0.00</td>\n",
       "      <td>selfimprovement</td>\n",
       "    </tr>\n",
       "    <tr>\n",
       "      <th>1</th>\n",
       "      <td>1</td>\n",
       "      <td>iqimz</td>\n",
       "      <td>2011-07-15 11:15</td>\n",
       "      <td>u/dustinsmusings</td>\n",
       "      <td>3</td>\n",
       "      <td>0.0</td>\n",
       "      <td>https://www.reddit.com/r/selfimprovement/comme...</td>\n",
       "      <td>i created this site several months ago and i s...</td>\n",
       "      <td>116</td>\n",
       "      <td>submission</td>\n",
       "      <td>...</td>\n",
       "      <td>0.00</td>\n",
       "      <td>2.59</td>\n",
       "      <td>0.00</td>\n",
       "      <td>0.86</td>\n",
       "      <td>0.00</td>\n",
       "      <td>0.00</td>\n",
       "      <td>3.45</td>\n",
       "      <td>0.00</td>\n",
       "      <td>3.45</td>\n",
       "      <td>selfimprovement</td>\n",
       "    </tr>\n",
       "    <tr>\n",
       "      <th>2</th>\n",
       "      <td>2</td>\n",
       "      <td>pfzt5</td>\n",
       "      <td>2012-02-08 01:40</td>\n",
       "      <td>u/aeoz</td>\n",
       "      <td>6</td>\n",
       "      <td>4.0</td>\n",
       "      <td>https://www.reddit.com/r/selfimprovement/comme...</td>\n",
       "      <td>hello everyone i have recently took over this ...</td>\n",
       "      <td>195</td>\n",
       "      <td>submission</td>\n",
       "      <td>...</td>\n",
       "      <td>0.00</td>\n",
       "      <td>2.05</td>\n",
       "      <td>0.00</td>\n",
       "      <td>0.00</td>\n",
       "      <td>0.00</td>\n",
       "      <td>0.00</td>\n",
       "      <td>2.05</td>\n",
       "      <td>0.00</td>\n",
       "      <td>2.05</td>\n",
       "      <td>selfimprovement</td>\n",
       "    </tr>\n",
       "    <tr>\n",
       "      <th>3</th>\n",
       "      <td>3</td>\n",
       "      <td>pk714</td>\n",
       "      <td>2012-02-10 19:16</td>\n",
       "      <td>u/[deleted]</td>\n",
       "      <td>1</td>\n",
       "      <td>0.0</td>\n",
       "      <td>https://www.reddit.com/r/selfimprovement/comme...</td>\n",
       "      <td>i grew up with body dysmorphia eating disorder...</td>\n",
       "      <td>582</td>\n",
       "      <td>submission</td>\n",
       "      <td>...</td>\n",
       "      <td>0.17</td>\n",
       "      <td>2.24</td>\n",
       "      <td>0.17</td>\n",
       "      <td>0.34</td>\n",
       "      <td>0.00</td>\n",
       "      <td>0.69</td>\n",
       "      <td>2.75</td>\n",
       "      <td>0.69</td>\n",
       "      <td>3.44</td>\n",
       "      <td>selfimprovement</td>\n",
       "    </tr>\n",
       "    <tr>\n",
       "      <th>4</th>\n",
       "      <td>4</td>\n",
       "      <td>q0q8x</td>\n",
       "      <td>2012-02-22 03:24</td>\n",
       "      <td>u/[deleted]</td>\n",
       "      <td>1</td>\n",
       "      <td>0.0</td>\n",
       "      <td>https://www.reddit.com/r/selfimprovement/comme...</td>\n",
       "      <td>i have to ask when do you get to a point where...</td>\n",
       "      <td>561</td>\n",
       "      <td>submission</td>\n",
       "      <td>...</td>\n",
       "      <td>0.53</td>\n",
       "      <td>1.43</td>\n",
       "      <td>0.00</td>\n",
       "      <td>0.00</td>\n",
       "      <td>0.00</td>\n",
       "      <td>1.06</td>\n",
       "      <td>0.89</td>\n",
       "      <td>1.60</td>\n",
       "      <td>2.49</td>\n",
       "      <td>selfimprovement</td>\n",
       "    </tr>\n",
       "    <tr>\n",
       "      <th>...</th>\n",
       "      <td>...</td>\n",
       "      <td>...</td>\n",
       "      <td>...</td>\n",
       "      <td>...</td>\n",
       "      <td>...</td>\n",
       "      <td>...</td>\n",
       "      <td>...</td>\n",
       "      <td>...</td>\n",
       "      <td>...</td>\n",
       "      <td>...</td>\n",
       "      <td>...</td>\n",
       "      <td>...</td>\n",
       "      <td>...</td>\n",
       "      <td>...</td>\n",
       "      <td>...</td>\n",
       "      <td>...</td>\n",
       "      <td>...</td>\n",
       "      <td>...</td>\n",
       "      <td>...</td>\n",
       "      <td>...</td>\n",
       "      <td>...</td>\n",
       "    </tr>\n",
       "    <tr>\n",
       "      <th>1508460</th>\n",
       "      <td>498728</td>\n",
       "      <td>kfrkhs5</td>\n",
       "      <td>2023-12-31 17:29</td>\n",
       "      <td>u/Earl_your_friend</td>\n",
       "      <td>1</td>\n",
       "      <td>NaN</td>\n",
       "      <td>https://www.reddit.com/r/homeowners/comments/1...</td>\n",
       "      <td>i lived next to a guy who sold and bought scap...</td>\n",
       "      <td>194</td>\n",
       "      <td>comment</td>\n",
       "      <td>...</td>\n",
       "      <td>0.52</td>\n",
       "      <td>0.52</td>\n",
       "      <td>0.52</td>\n",
       "      <td>0.00</td>\n",
       "      <td>1.55</td>\n",
       "      <td>0.52</td>\n",
       "      <td>2.07</td>\n",
       "      <td>1.04</td>\n",
       "      <td>3.11</td>\n",
       "      <td>homeowners</td>\n",
       "    </tr>\n",
       "    <tr>\n",
       "      <th>1508461</th>\n",
       "      <td>498729</td>\n",
       "      <td>kfrl16r</td>\n",
       "      <td>2023-12-31 17:33</td>\n",
       "      <td>u/UntypicalCouple</td>\n",
       "      <td>8</td>\n",
       "      <td>NaN</td>\n",
       "      <td>https://www.reddit.com/r/homeowners/comments/1...</td>\n",
       "      <td>you do realize that not all businesses can be ...</td>\n",
       "      <td>63</td>\n",
       "      <td>comment</td>\n",
       "      <td>...</td>\n",
       "      <td>0.00</td>\n",
       "      <td>0.00</td>\n",
       "      <td>0.00</td>\n",
       "      <td>0.00</td>\n",
       "      <td>3.17</td>\n",
       "      <td>1.59</td>\n",
       "      <td>4.76</td>\n",
       "      <td>0.00</td>\n",
       "      <td>4.76</td>\n",
       "      <td>homeowners</td>\n",
       "    </tr>\n",
       "    <tr>\n",
       "      <th>1508462</th>\n",
       "      <td>498730</td>\n",
       "      <td>kfrm79i</td>\n",
       "      <td>2023-12-31 17:41</td>\n",
       "      <td>u/blockneighborradio</td>\n",
       "      <td>2</td>\n",
       "      <td>NaN</td>\n",
       "      <td>https://www.reddit.com/r/homeowners/comments/1...</td>\n",
       "      <td>the neighbor isnt going to do anything stupid ...</td>\n",
       "      <td>50</td>\n",
       "      <td>comment</td>\n",
       "      <td>...</td>\n",
       "      <td>0.00</td>\n",
       "      <td>0.00</td>\n",
       "      <td>0.00</td>\n",
       "      <td>0.00</td>\n",
       "      <td>0.00</td>\n",
       "      <td>0.00</td>\n",
       "      <td>0.00</td>\n",
       "      <td>0.00</td>\n",
       "      <td>0.00</td>\n",
       "      <td>homeowners</td>\n",
       "    </tr>\n",
       "    <tr>\n",
       "      <th>1508463</th>\n",
       "      <td>498731</td>\n",
       "      <td>kfrmlea</td>\n",
       "      <td>2023-12-31 17:43</td>\n",
       "      <td>u/chof2018</td>\n",
       "      <td>2</td>\n",
       "      <td>NaN</td>\n",
       "      <td>https://www.reddit.com/r/homeowners/comments/1...</td>\n",
       "      <td>i was this guy running a landscaping business ...</td>\n",
       "      <td>137</td>\n",
       "      <td>comment</td>\n",
       "      <td>...</td>\n",
       "      <td>0.00</td>\n",
       "      <td>0.00</td>\n",
       "      <td>0.73</td>\n",
       "      <td>0.00</td>\n",
       "      <td>1.46</td>\n",
       "      <td>0.00</td>\n",
       "      <td>2.19</td>\n",
       "      <td>0.00</td>\n",
       "      <td>2.19</td>\n",
       "      <td>homeowners</td>\n",
       "    </tr>\n",
       "    <tr>\n",
       "      <th>1508464</th>\n",
       "      <td>498732</td>\n",
       "      <td>kfrokme</td>\n",
       "      <td>2023-12-31 17:57</td>\n",
       "      <td>u/shaneacton1</td>\n",
       "      <td>-1</td>\n",
       "      <td>NaN</td>\n",
       "      <td>https://www.reddit.com/r/homeowners/comments/1...</td>\n",
       "      <td>its free to dig and lay brick youre a low inte...</td>\n",
       "      <td>64</td>\n",
       "      <td>comment</td>\n",
       "      <td>...</td>\n",
       "      <td>0.00</td>\n",
       "      <td>0.00</td>\n",
       "      <td>0.00</td>\n",
       "      <td>0.00</td>\n",
       "      <td>0.00</td>\n",
       "      <td>3.13</td>\n",
       "      <td>3.13</td>\n",
       "      <td>0.00</td>\n",
       "      <td>3.13</td>\n",
       "      <td>homeowners</td>\n",
       "    </tr>\n",
       "  </tbody>\n",
       "</table>\n",
       "<p>1508465 rows × 44 columns</p>\n",
       "</div>"
      ],
      "text/plain": [
       "         Unnamed: 0       id           created                author  score  \\\n",
       "0                 0    hk5r2  2011-05-25 17:27           u/[deleted]      1   \n",
       "1                 1    iqimz  2011-07-15 11:15      u/dustinsmusings      3   \n",
       "2                 2    pfzt5  2012-02-08 01:40                u/aeoz      6   \n",
       "3                 3    pk714  2012-02-10 19:16           u/[deleted]      1   \n",
       "4                 4    q0q8x  2012-02-22 03:24           u/[deleted]      1   \n",
       "...             ...      ...               ...                   ...    ...   \n",
       "1508460      498728  kfrkhs5  2023-12-31 17:29    u/Earl_your_friend      1   \n",
       "1508461      498729  kfrl16r  2023-12-31 17:33     u/UntypicalCouple      8   \n",
       "1508462      498730  kfrm79i  2023-12-31 17:41  u/blockneighborradio      2   \n",
       "1508463      498731  kfrmlea  2023-12-31 17:43            u/chof2018      2   \n",
       "1508464      498732  kfrokme  2023-12-31 17:57         u/shaneacton1     -1   \n",
       "\n",
       "         num_comments                                               link  \\\n",
       "0                 3.0  https://www.reddit.com/r/selfimprovement/comme...   \n",
       "1                 0.0  https://www.reddit.com/r/selfimprovement/comme...   \n",
       "2                 4.0  https://www.reddit.com/r/selfimprovement/comme...   \n",
       "3                 0.0  https://www.reddit.com/r/selfimprovement/comme...   \n",
       "4                 0.0  https://www.reddit.com/r/selfimprovement/comme...   \n",
       "...               ...                                                ...   \n",
       "1508460           NaN  https://www.reddit.com/r/homeowners/comments/1...   \n",
       "1508461           NaN  https://www.reddit.com/r/homeowners/comments/1...   \n",
       "1508462           NaN  https://www.reddit.com/r/homeowners/comments/1...   \n",
       "1508463           NaN  https://www.reddit.com/r/homeowners/comments/1...   \n",
       "1508464           NaN  https://www.reddit.com/r/homeowners/comments/1...   \n",
       "\n",
       "                                              cleaned_text  word_count  \\\n",
       "0        i had an appointment today with the dentist ov...          64   \n",
       "1        i created this site several months ago and i s...         116   \n",
       "2        hello everyone i have recently took over this ...         195   \n",
       "3        i grew up with body dysmorphia eating disorder...         582   \n",
       "4        i have to ask when do you get to a point where...         561   \n",
       "...                                                    ...         ...   \n",
       "1508460  i lived next to a guy who sold and bought scap...         194   \n",
       "1508461  you do realize that not all businesses can be ...          63   \n",
       "1508462  the neighbor isnt going to do anything stupid ...          50   \n",
       "1508463  i was this guy running a landscaping business ...         137   \n",
       "1508464  its free to dig and lay brick youre a low inte...          64   \n",
       "\n",
       "               type  ... Sanctity_Vice  Care_total  Fairness_total  \\\n",
       "0        submission  ...          0.00        0.00            0.00   \n",
       "1        submission  ...          0.00        2.59            0.00   \n",
       "2        submission  ...          0.00        2.05            0.00   \n",
       "3        submission  ...          0.17        2.24            0.17   \n",
       "4        submission  ...          0.53        1.43            0.00   \n",
       "...             ...  ...           ...         ...             ...   \n",
       "1508460     comment  ...          0.52        0.52            0.52   \n",
       "1508461     comment  ...          0.00        0.00            0.00   \n",
       "1508462     comment  ...          0.00        0.00            0.00   \n",
       "1508463     comment  ...          0.00        0.00            0.73   \n",
       "1508464     comment  ...          0.00        0.00            0.00   \n",
       "\n",
       "         Loyalty_total  Authority_total  Sanctity_total  Virtue_total  \\\n",
       "0                 0.00             0.00            0.00          0.00   \n",
       "1                 0.86             0.00            0.00          3.45   \n",
       "2                 0.00             0.00            0.00          2.05   \n",
       "3                 0.34             0.00            0.69          2.75   \n",
       "4                 0.00             0.00            1.06          0.89   \n",
       "...                ...              ...             ...           ...   \n",
       "1508460           0.00             1.55            0.52          2.07   \n",
       "1508461           0.00             3.17            1.59          4.76   \n",
       "1508462           0.00             0.00            0.00          0.00   \n",
       "1508463           0.00             1.46            0.00          2.19   \n",
       "1508464           0.00             0.00            3.13          3.13   \n",
       "\n",
       "         Vice_total  Foundations_total_score        Subreddit  \n",
       "0              0.00                     0.00  selfimprovement  \n",
       "1              0.00                     3.45  selfimprovement  \n",
       "2              0.00                     2.05  selfimprovement  \n",
       "3              0.69                     3.44  selfimprovement  \n",
       "4              1.60                     2.49  selfimprovement  \n",
       "...             ...                      ...              ...  \n",
       "1508460        1.04                     3.11       homeowners  \n",
       "1508461        0.00                     4.76       homeowners  \n",
       "1508462        0.00                     0.00       homeowners  \n",
       "1508463        0.00                     2.19       homeowners  \n",
       "1508464        0.00                     3.13       homeowners  \n",
       "\n",
       "[1508465 rows x 44 columns]"
      ]
     },
     "execution_count": 14,
     "metadata": {},
     "output_type": "execute_result"
    }
   ],
   "source": [
    "all_reddits"
   ]
  },
  {
   "cell_type": "code",
   "execution_count": 15,
   "metadata": {},
   "outputs": [],
   "source": [
    "all_reddits.to_csv(\"data/engineered_morality.csv\")"
   ]
  },
  {
   "cell_type": "markdown",
   "metadata": {},
   "source": [
    "Ensure correct parsing"
   ]
  },
  {
   "cell_type": "code",
   "execution_count": 16,
   "metadata": {},
   "outputs": [
    {
     "name": "stderr",
     "output_type": "stream",
     "text": [
      "/var/folders/5q/yq3hk8g1793ckqmn2n3xpr6c0000gn/T/ipykernel_3127/3948405493.py:1: DtypeWarning: Columns (11) have mixed types. Specify dtype option on import or set low_memory=False.\n",
      "  saved_csv = pd.read_csv(\"data/engineered_morality.csv\")\n"
     ]
    },
    {
     "name": "stdout",
     "output_type": "stream",
     "text": [
      "(1508465, 44)\n",
      "(1508465, 45)\n"
     ]
    }
   ],
   "source": [
    "saved_csv = pd.read_csv(\"data/engineered_morality.csv\")\n",
    "\n",
    "print(all_reddits.shape)\n",
    "print(saved_csv.shape)"
   ]
  }
 ],
 "metadata": {
  "kernelspec": {
   "display_name": "thesis10",
   "language": "python",
   "name": "python3"
  },
  "language_info": {
   "codemirror_mode": {
    "name": "ipython",
    "version": 3
   },
   "file_extension": ".py",
   "mimetype": "text/x-python",
   "name": "python",
   "nbconvert_exporter": "python",
   "pygments_lexer": "ipython3",
   "version": "3.10.14"
  },
  "orig_nbformat": 4
 },
 "nbformat": 4,
 "nbformat_minor": 2
}
