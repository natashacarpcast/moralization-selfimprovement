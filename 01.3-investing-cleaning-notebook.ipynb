{
 "cells": [
  {
   "cell_type": "code",
   "execution_count": 1,
   "metadata": {},
   "outputs": [
    {
     "name": "stderr",
     "output_type": "stream",
     "text": [
      "/var/folders/5q/yq3hk8g1793ckqmn2n3xpr6c0000gn/T/ipykernel_7601/1210054291.py:8: FutureWarning: data_manager option is deprecated and will be removed in a future version. Only the BlockManager will be available.\n",
      "  pd.reset_option('all')\n",
      "/var/folders/5q/yq3hk8g1793ckqmn2n3xpr6c0000gn/T/ipykernel_7601/1210054291.py:8: FutureWarning: use_inf_as_na option is deprecated and will be removed in a future version. Convert inf values to NaN before operating instead.\n",
      "  pd.reset_option('all')\n"
     ]
    }
   ],
   "source": [
    "import pandas as pd\n",
    "import matplotlib.pyplot as plt\n",
    "import re\n",
    "from datetime import datetime\n",
    "from langdetect import detect \n",
    "import html\n",
    "\n",
    "pd.reset_option('all')"
   ]
  },
  {
   "cell_type": "markdown",
   "metadata": {},
   "source": [
    "## Raw data"
   ]
  },
  {
   "cell_type": "markdown",
   "metadata": {},
   "source": [
    "- score: number of upvotes minus number of downvotes\n",
    "- link_id (for comments): id of the submission to which the comment responded"
   ]
  },
  {
   "cell_type": "code",
   "execution_count": 2,
   "metadata": {},
   "outputs": [],
   "source": [
    "submissions_raw = pd.read_csv(\"raw/investing_submissions.csv\")\n",
    "comments_raw = pd.read_csv(\"raw/investing_comments.csv\")"
   ]
  },
  {
   "cell_type": "code",
   "execution_count": 3,
   "metadata": {},
   "outputs": [
    {
     "data": {
      "text/html": [
       "<div>\n",
       "<style scoped>\n",
       "    .dataframe tbody tr th:only-of-type {\n",
       "        vertical-align: middle;\n",
       "    }\n",
       "\n",
       "    .dataframe tbody tr th {\n",
       "        vertical-align: top;\n",
       "    }\n",
       "\n",
       "    .dataframe thead th {\n",
       "        text-align: right;\n",
       "    }\n",
       "</style>\n",
       "<table border=\"1\" class=\"dataframe\">\n",
       "  <thead>\n",
       "    <tr style=\"text-align: right;\">\n",
       "      <th></th>\n",
       "      <th>id</th>\n",
       "      <th>created</th>\n",
       "      <th>author</th>\n",
       "      <th>score</th>\n",
       "      <th>selftext</th>\n",
       "      <th>num_comments</th>\n",
       "      <th>link</th>\n",
       "    </tr>\n",
       "  </thead>\n",
       "  <tbody>\n",
       "    <tr>\n",
       "      <th>0</th>\n",
       "      <td>6c6hw</td>\n",
       "      <td>2008-03-15 07:21</td>\n",
       "      <td>u/yuckatan</td>\n",
       "      <td>2</td>\n",
       "      <td>NaN</td>\n",
       "      <td>1</td>\n",
       "      <td>https://www.reddit.com/r/investing/comments/6c...</td>\n",
       "    </tr>\n",
       "    <tr>\n",
       "      <th>1</th>\n",
       "      <td>6cmtr</td>\n",
       "      <td>2008-03-19 07:18</td>\n",
       "      <td>u/Escafane</td>\n",
       "      <td>1</td>\n",
       "      <td>NaN</td>\n",
       "      <td>0</td>\n",
       "      <td>https://www.reddit.com/r/investing/comments/6c...</td>\n",
       "    </tr>\n",
       "    <tr>\n",
       "      <th>2</th>\n",
       "      <td>6cmut</td>\n",
       "      <td>2008-03-19 07:28</td>\n",
       "      <td>u/Escafane</td>\n",
       "      <td>1</td>\n",
       "      <td>NaN</td>\n",
       "      <td>0</td>\n",
       "      <td>https://www.reddit.com/r/investing/comments/6c...</td>\n",
       "    </tr>\n",
       "    <tr>\n",
       "      <th>3</th>\n",
       "      <td>6cmxh</td>\n",
       "      <td>2008-03-19 07:49</td>\n",
       "      <td>u/Escafane</td>\n",
       "      <td>2</td>\n",
       "      <td>NaN</td>\n",
       "      <td>0</td>\n",
       "      <td>https://www.reddit.com/r/investing/comments/6c...</td>\n",
       "    </tr>\n",
       "    <tr>\n",
       "      <th>4</th>\n",
       "      <td>6cmyx</td>\n",
       "      <td>2008-03-19 08:02</td>\n",
       "      <td>u/Escafane</td>\n",
       "      <td>1</td>\n",
       "      <td>NaN</td>\n",
       "      <td>0</td>\n",
       "      <td>https://www.reddit.com/r/investing/comments/6c...</td>\n",
       "    </tr>\n",
       "  </tbody>\n",
       "</table>\n",
       "</div>"
      ],
      "text/plain": [
       "      id           created      author  score selftext  num_comments  \\\n",
       "0  6c6hw  2008-03-15 07:21  u/yuckatan      2      NaN             1   \n",
       "1  6cmtr  2008-03-19 07:18  u/Escafane      1      NaN             0   \n",
       "2  6cmut  2008-03-19 07:28  u/Escafane      1      NaN             0   \n",
       "3  6cmxh  2008-03-19 07:49  u/Escafane      2      NaN             0   \n",
       "4  6cmyx  2008-03-19 08:02  u/Escafane      1      NaN             0   \n",
       "\n",
       "                                                link  \n",
       "0  https://www.reddit.com/r/investing/comments/6c...  \n",
       "1  https://www.reddit.com/r/investing/comments/6c...  \n",
       "2  https://www.reddit.com/r/investing/comments/6c...  \n",
       "3  https://www.reddit.com/r/investing/comments/6c...  \n",
       "4  https://www.reddit.com/r/investing/comments/6c...  "
      ]
     },
     "execution_count": 3,
     "metadata": {},
     "output_type": "execute_result"
    }
   ],
   "source": [
    "submissions_raw.head()"
   ]
  },
  {
   "cell_type": "code",
   "execution_count": 4,
   "metadata": {},
   "outputs": [
    {
     "data": {
      "text/html": [
       "<div>\n",
       "<style scoped>\n",
       "    .dataframe tbody tr th:only-of-type {\n",
       "        vertical-align: middle;\n",
       "    }\n",
       "\n",
       "    .dataframe tbody tr th {\n",
       "        vertical-align: top;\n",
       "    }\n",
       "\n",
       "    .dataframe thead th {\n",
       "        text-align: right;\n",
       "    }\n",
       "</style>\n",
       "<table border=\"1\" class=\"dataframe\">\n",
       "  <thead>\n",
       "    <tr style=\"text-align: right;\">\n",
       "      <th></th>\n",
       "      <th>id</th>\n",
       "      <th>link_id</th>\n",
       "      <th>created</th>\n",
       "      <th>author</th>\n",
       "      <th>score</th>\n",
       "      <th>body</th>\n",
       "      <th>link</th>\n",
       "    </tr>\n",
       "  </thead>\n",
       "  <tbody>\n",
       "    <tr>\n",
       "      <th>0</th>\n",
       "      <td>c03g9j0</td>\n",
       "      <td>t3_6c6hw</td>\n",
       "      <td>2008-03-15 07:22</td>\n",
       "      <td>u/[deleted]</td>\n",
       "      <td>1</td>\n",
       "      <td>[deleted]</td>\n",
       "      <td>https://www.reddit.com/r/investing/comments/6c...</td>\n",
       "    </tr>\n",
       "    <tr>\n",
       "      <th>1</th>\n",
       "      <td>c03hwrh</td>\n",
       "      <td>t3_6ctth</td>\n",
       "      <td>2008-03-20 15:30</td>\n",
       "      <td>u/[deleted]</td>\n",
       "      <td>1</td>\n",
       "      <td>[deleted]</td>\n",
       "      <td>https://www.reddit.com/r/investing/comments/6c...</td>\n",
       "    </tr>\n",
       "    <tr>\n",
       "      <th>2</th>\n",
       "      <td>c03hwvj</td>\n",
       "      <td>t3_6ctth</td>\n",
       "      <td>2008-03-20 15:41</td>\n",
       "      <td>u/evilhero</td>\n",
       "      <td>1</td>\n",
       "      <td>p.s. It goes without saying that I'm long Veri...</td>\n",
       "      <td>https://www.reddit.com/r/investing/comments/6c...</td>\n",
       "    </tr>\n",
       "    <tr>\n",
       "      <th>3</th>\n",
       "      <td>c03idyn</td>\n",
       "      <td>t3_6cxcc</td>\n",
       "      <td>2008-03-22 10:00</td>\n",
       "      <td>u/[deleted]</td>\n",
       "      <td>1</td>\n",
       "      <td>[deleted]</td>\n",
       "      <td>https://www.reddit.com/r/investing/comments/6c...</td>\n",
       "    </tr>\n",
       "    <tr>\n",
       "      <th>4</th>\n",
       "      <td>c04zsc3</td>\n",
       "      <td>t3_6vp5k</td>\n",
       "      <td>2008-08-10 10:31</td>\n",
       "      <td>u/[deleted]</td>\n",
       "      <td>1</td>\n",
       "      <td>[deleted]</td>\n",
       "      <td>https://www.reddit.com/r/investing/comments/6v...</td>\n",
       "    </tr>\n",
       "  </tbody>\n",
       "</table>\n",
       "</div>"
      ],
      "text/plain": [
       "        id   link_id           created       author  score  \\\n",
       "0  c03g9j0  t3_6c6hw  2008-03-15 07:22  u/[deleted]      1   \n",
       "1  c03hwrh  t3_6ctth  2008-03-20 15:30  u/[deleted]      1   \n",
       "2  c03hwvj  t3_6ctth  2008-03-20 15:41   u/evilhero      1   \n",
       "3  c03idyn  t3_6cxcc  2008-03-22 10:00  u/[deleted]      1   \n",
       "4  c04zsc3  t3_6vp5k  2008-08-10 10:31  u/[deleted]      1   \n",
       "\n",
       "                                                body  \\\n",
       "0                                          [deleted]   \n",
       "1                                          [deleted]   \n",
       "2  p.s. It goes without saying that I'm long Veri...   \n",
       "3                                          [deleted]   \n",
       "4                                          [deleted]   \n",
       "\n",
       "                                                link  \n",
       "0  https://www.reddit.com/r/investing/comments/6c...  \n",
       "1  https://www.reddit.com/r/investing/comments/6c...  \n",
       "2  https://www.reddit.com/r/investing/comments/6c...  \n",
       "3  https://www.reddit.com/r/investing/comments/6c...  \n",
       "4  https://www.reddit.com/r/investing/comments/6v...  "
      ]
     },
     "execution_count": 4,
     "metadata": {},
     "output_type": "execute_result"
    }
   ],
   "source": [
    "comments_raw.head()"
   ]
  },
  {
   "cell_type": "markdown",
   "metadata": {},
   "source": [
    "## Data Cleaning"
   ]
  },
  {
   "cell_type": "markdown",
   "metadata": {},
   "source": [
    "### Missing values"
   ]
  },
  {
   "cell_type": "code",
   "execution_count": 5,
   "metadata": {},
   "outputs": [],
   "source": [
    "def remove_missing_data(raw_df, column):\n",
    "    '''\n",
    "    Filters all entries that have [removed] or [deleted] in their body/self \n",
    "    text column (as applicable). Also filters NaN values.\n",
    "    \n",
    "    Input: \n",
    "        - raw_df: Pandas dataframe\n",
    "        - column: Target column to look for missing values\n",
    "    \n",
    "    Returns:\n",
    "        - Cleaned dataframe\n",
    "    '''\n",
    "\n",
    "    print(\"DataFrame shape before cleaning:\", raw_df.shape)\n",
    "\n",
    "    #Remove rows with values of \"[removed]\" or \"[deleted]\" on body/self text\n",
    "    to_filter = [\"[removed]\", \"[deleted]\", \"\\[deleted\\]\"]\n",
    "    mask = ~raw_df[column].isin(to_filter)\n",
    "    filtered_df = raw_df[mask]\n",
    "\n",
    "    print(\"DataFrame shape after filtering removed values:\", \n",
    "                                                 filtered_df.shape)\n",
    "    \n",
    "    #Filter NaN\n",
    "    filtered_df = filtered_df.dropna(subset=[column])\n",
    "    print(\"DataFrame shape after filtering NaN values:\", filtered_df.shape)\n",
    "\n",
    "    return filtered_df"
   ]
  },
  {
   "cell_type": "code",
   "execution_count": 6,
   "metadata": {},
   "outputs": [
    {
     "name": "stdout",
     "output_type": "stream",
     "text": [
      "DataFrame shape before cleaning: (355893, 7)\n",
      "DataFrame shape after filtering removed values: (178534, 7)\n",
      "DataFrame shape after filtering NaN values: (153656, 7)\n"
     ]
    },
    {
     "data": {
      "text/html": [
       "<div>\n",
       "<style scoped>\n",
       "    .dataframe tbody tr th:only-of-type {\n",
       "        vertical-align: middle;\n",
       "    }\n",
       "\n",
       "    .dataframe tbody tr th {\n",
       "        vertical-align: top;\n",
       "    }\n",
       "\n",
       "    .dataframe thead th {\n",
       "        text-align: right;\n",
       "    }\n",
       "</style>\n",
       "<table border=\"1\" class=\"dataframe\">\n",
       "  <thead>\n",
       "    <tr style=\"text-align: right;\">\n",
       "      <th></th>\n",
       "      <th>id</th>\n",
       "      <th>created</th>\n",
       "      <th>author</th>\n",
       "      <th>score</th>\n",
       "      <th>selftext</th>\n",
       "      <th>num_comments</th>\n",
       "      <th>link</th>\n",
       "    </tr>\n",
       "  </thead>\n",
       "  <tbody>\n",
       "    <tr>\n",
       "      <th>532</th>\n",
       "      <td>8zc24</td>\n",
       "      <td>2009-07-08 11:08</td>\n",
       "      <td>u/dning</td>\n",
       "      <td>1</td>\n",
       "      <td>Free money for those that deposit enough funds!</td>\n",
       "      <td>0</td>\n",
       "      <td>https://www.reddit.com/r/investing/comments/8z...</td>\n",
       "    </tr>\n",
       "    <tr>\n",
       "      <th>663</th>\n",
       "      <td>96jqg</td>\n",
       "      <td>2009-08-01 01:09</td>\n",
       "      <td>u/[deleted]</td>\n",
       "      <td>1</td>\n",
       "      <td>I'm looking into making some small share buys ...</td>\n",
       "      <td>3</td>\n",
       "      <td>https://www.reddit.com/r/investing/comments/96...</td>\n",
       "    </tr>\n",
       "    <tr>\n",
       "      <th>708</th>\n",
       "      <td>998zv</td>\n",
       "      <td>2009-08-10 10:39</td>\n",
       "      <td>u/IndustrialEngineer</td>\n",
       "      <td>8</td>\n",
       "      <td>I'm considering investing a small amount of mo...</td>\n",
       "      <td>11</td>\n",
       "      <td>https://www.reddit.com/r/investing/comments/99...</td>\n",
       "    </tr>\n",
       "    <tr>\n",
       "      <th>805</th>\n",
       "      <td>9ghpv</td>\n",
       "      <td>2009-09-02 03:08</td>\n",
       "      <td>u/moscowvirgin</td>\n",
       "      <td>0</td>\n",
       "      <td>What is the best month to buy and sell shares ...</td>\n",
       "      <td>1</td>\n",
       "      <td>https://www.reddit.com/r/investing/comments/9g...</td>\n",
       "    </tr>\n",
       "    <tr>\n",
       "      <th>855</th>\n",
       "      <td>9ivio</td>\n",
       "      <td>2009-09-09 11:50</td>\n",
       "      <td>u/ctreia</td>\n",
       "      <td>0</td>\n",
       "      <td>The economy couldn’t be better for some people...</td>\n",
       "      <td>0</td>\n",
       "      <td>https://www.reddit.com/r/investing/comments/9i...</td>\n",
       "    </tr>\n",
       "    <tr>\n",
       "      <th>...</th>\n",
       "      <td>...</td>\n",
       "      <td>...</td>\n",
       "      <td>...</td>\n",
       "      <td>...</td>\n",
       "      <td>...</td>\n",
       "      <td>...</td>\n",
       "      <td>...</td>\n",
       "    </tr>\n",
       "    <tr>\n",
       "      <th>355881</th>\n",
       "      <td>18vho8v</td>\n",
       "      <td>2023-12-31 15:32</td>\n",
       "      <td>u/herpaderp9999</td>\n",
       "      <td>1</td>\n",
       "      <td>Recently, I took over an account and removed t...</td>\n",
       "      <td>2</td>\n",
       "      <td>https://www.reddit.com/r/investing/comments/18...</td>\n",
       "    </tr>\n",
       "    <tr>\n",
       "      <th>355882</th>\n",
       "      <td>18vhy52</td>\n",
       "      <td>2023-12-31 15:46</td>\n",
       "      <td>u/streetskaterln91</td>\n",
       "      <td>85</td>\n",
       "      <td>Any recommendations? I'm thinking about openin...</td>\n",
       "      <td>71</td>\n",
       "      <td>https://www.reddit.com/r/investing/comments/18...</td>\n",
       "    </tr>\n",
       "    <tr>\n",
       "      <th>355883</th>\n",
       "      <td>18vi2ji</td>\n",
       "      <td>2023-12-31 15:53</td>\n",
       "      <td>u/milkcircle</td>\n",
       "      <td>1</td>\n",
       "      <td>I unexpectedly realized that the first paychec...</td>\n",
       "      <td>6</td>\n",
       "      <td>https://www.reddit.com/r/investing/comments/18...</td>\n",
       "    </tr>\n",
       "    <tr>\n",
       "      <th>355888</th>\n",
       "      <td>18vim1y</td>\n",
       "      <td>2023-12-31 16:20</td>\n",
       "      <td>u/tactical_llama2</td>\n",
       "      <td>1</td>\n",
       "      <td>I moved to the states with my wife just over a...</td>\n",
       "      <td>2</td>\n",
       "      <td>https://www.reddit.com/r/investing/comments/18...</td>\n",
       "    </tr>\n",
       "    <tr>\n",
       "      <th>355889</th>\n",
       "      <td>18vj259</td>\n",
       "      <td>2023-12-31 16:43</td>\n",
       "      <td>u/velothree</td>\n",
       "      <td>4</td>\n",
       "      <td>I know that Excel or Google sheets have the li...</td>\n",
       "      <td>2</td>\n",
       "      <td>https://www.reddit.com/r/investing/comments/18...</td>\n",
       "    </tr>\n",
       "  </tbody>\n",
       "</table>\n",
       "<p>153656 rows × 7 columns</p>\n",
       "</div>"
      ],
      "text/plain": [
       "             id           created                author  score  \\\n",
       "532       8zc24  2009-07-08 11:08               u/dning      1   \n",
       "663       96jqg  2009-08-01 01:09           u/[deleted]      1   \n",
       "708       998zv  2009-08-10 10:39  u/IndustrialEngineer      8   \n",
       "805       9ghpv  2009-09-02 03:08        u/moscowvirgin      0   \n",
       "855       9ivio  2009-09-09 11:50              u/ctreia      0   \n",
       "...         ...               ...                   ...    ...   \n",
       "355881  18vho8v  2023-12-31 15:32       u/herpaderp9999      1   \n",
       "355882  18vhy52  2023-12-31 15:46    u/streetskaterln91     85   \n",
       "355883  18vi2ji  2023-12-31 15:53          u/milkcircle      1   \n",
       "355888  18vim1y  2023-12-31 16:20     u/tactical_llama2      1   \n",
       "355889  18vj259  2023-12-31 16:43           u/velothree      4   \n",
       "\n",
       "                                                 selftext  num_comments  \\\n",
       "532       Free money for those that deposit enough funds!             0   \n",
       "663     I'm looking into making some small share buys ...             3   \n",
       "708     I'm considering investing a small amount of mo...            11   \n",
       "805     What is the best month to buy and sell shares ...             1   \n",
       "855     The economy couldn’t be better for some people...             0   \n",
       "...                                                   ...           ...   \n",
       "355881  Recently, I took over an account and removed t...             2   \n",
       "355882  Any recommendations? I'm thinking about openin...            71   \n",
       "355883  I unexpectedly realized that the first paychec...             6   \n",
       "355888  I moved to the states with my wife just over a...             2   \n",
       "355889  I know that Excel or Google sheets have the li...             2   \n",
       "\n",
       "                                                     link  \n",
       "532     https://www.reddit.com/r/investing/comments/8z...  \n",
       "663     https://www.reddit.com/r/investing/comments/96...  \n",
       "708     https://www.reddit.com/r/investing/comments/99...  \n",
       "805     https://www.reddit.com/r/investing/comments/9g...  \n",
       "855     https://www.reddit.com/r/investing/comments/9i...  \n",
       "...                                                   ...  \n",
       "355881  https://www.reddit.com/r/investing/comments/18...  \n",
       "355882  https://www.reddit.com/r/investing/comments/18...  \n",
       "355883  https://www.reddit.com/r/investing/comments/18...  \n",
       "355888  https://www.reddit.com/r/investing/comments/18...  \n",
       "355889  https://www.reddit.com/r/investing/comments/18...  \n",
       "\n",
       "[153656 rows x 7 columns]"
      ]
     },
     "execution_count": 6,
     "metadata": {},
     "output_type": "execute_result"
    }
   ],
   "source": [
    "submissions_filtered1 = remove_missing_data(submissions_raw, \"selftext\")\n",
    "submissions_filtered1"
   ]
  },
  {
   "cell_type": "code",
   "execution_count": 7,
   "metadata": {},
   "outputs": [
    {
     "name": "stdout",
     "output_type": "stream",
     "text": [
      "DataFrame shape before cleaning: (5639491, 7)\n",
      "DataFrame shape after filtering removed values: (5150369, 7)\n",
      "DataFrame shape after filtering NaN values: (5150192, 7)\n"
     ]
    },
    {
     "data": {
      "text/html": [
       "<div>\n",
       "<style scoped>\n",
       "    .dataframe tbody tr th:only-of-type {\n",
       "        vertical-align: middle;\n",
       "    }\n",
       "\n",
       "    .dataframe tbody tr th {\n",
       "        vertical-align: top;\n",
       "    }\n",
       "\n",
       "    .dataframe thead th {\n",
       "        text-align: right;\n",
       "    }\n",
       "</style>\n",
       "<table border=\"1\" class=\"dataframe\">\n",
       "  <thead>\n",
       "    <tr style=\"text-align: right;\">\n",
       "      <th></th>\n",
       "      <th>id</th>\n",
       "      <th>link_id</th>\n",
       "      <th>created</th>\n",
       "      <th>author</th>\n",
       "      <th>score</th>\n",
       "      <th>body</th>\n",
       "      <th>link</th>\n",
       "    </tr>\n",
       "  </thead>\n",
       "  <tbody>\n",
       "    <tr>\n",
       "      <th>2</th>\n",
       "      <td>c03hwvj</td>\n",
       "      <td>t3_6ctth</td>\n",
       "      <td>2008-03-20 15:41</td>\n",
       "      <td>u/evilhero</td>\n",
       "      <td>1</td>\n",
       "      <td>p.s. It goes without saying that I'm long Veri...</td>\n",
       "      <td>https://www.reddit.com/r/investing/comments/6c...</td>\n",
       "    </tr>\n",
       "    <tr>\n",
       "      <th>7</th>\n",
       "      <td>c04ztc9</td>\n",
       "      <td>t3_6vp5k</td>\n",
       "      <td>2008-08-10 12:12</td>\n",
       "      <td>u/qquicksilver</td>\n",
       "      <td>3</td>\n",
       "      <td>Vegas / Drugs / Hookers</td>\n",
       "      <td>https://www.reddit.com/r/investing/comments/6v...</td>\n",
       "    </tr>\n",
       "    <tr>\n",
       "      <th>9</th>\n",
       "      <td>c04ztq5</td>\n",
       "      <td>t3_6vp5k</td>\n",
       "      <td>2008-08-10 12:51</td>\n",
       "      <td>u/mycall</td>\n",
       "      <td>0</td>\n",
       "      <td>not necessarily in that order</td>\n",
       "      <td>https://www.reddit.com/r/investing/comments/6v...</td>\n",
       "    </tr>\n",
       "    <tr>\n",
       "      <th>10</th>\n",
       "      <td>c04ztqb</td>\n",
       "      <td>t3_6vp5k</td>\n",
       "      <td>2008-08-10 12:52</td>\n",
       "      <td>u/radhruin</td>\n",
       "      <td>1</td>\n",
       "      <td>Get a Roth IRA and put that entire amount (plu...</td>\n",
       "      <td>https://www.reddit.com/r/investing/comments/6v...</td>\n",
       "    </tr>\n",
       "    <tr>\n",
       "      <th>12</th>\n",
       "      <td>c04zvs8</td>\n",
       "      <td>t3_6vp5k</td>\n",
       "      <td>2008-08-10 16:05</td>\n",
       "      <td>u/radhruin</td>\n",
       "      <td>1</td>\n",
       "      <td>At this point in your life you don't want shor...</td>\n",
       "      <td>https://www.reddit.com/r/investing/comments/6v...</td>\n",
       "    </tr>\n",
       "    <tr>\n",
       "      <th>...</th>\n",
       "      <td>...</td>\n",
       "      <td>...</td>\n",
       "      <td>...</td>\n",
       "      <td>...</td>\n",
       "      <td>...</td>\n",
       "      <td>...</td>\n",
       "      <td>...</td>\n",
       "    </tr>\n",
       "    <tr>\n",
       "      <th>5639486</th>\n",
       "      <td>kfro5dm</td>\n",
       "      <td>t3_18vf1xf</td>\n",
       "      <td>2023-12-31 17:54</td>\n",
       "      <td>u/Slayer41285</td>\n",
       "      <td>1</td>\n",
       "      <td>If I was 60 today I would get around $6000 a m...</td>\n",
       "      <td>https://www.reddit.com/r/investing/comments/18...</td>\n",
       "    </tr>\n",
       "    <tr>\n",
       "      <th>5639487</th>\n",
       "      <td>kfro7r1</td>\n",
       "      <td>t3_18vh2do</td>\n",
       "      <td>2023-12-31 17:55</td>\n",
       "      <td>u/bkweathe</td>\n",
       "      <td>7</td>\n",
       "      <td>For a house down payment in a few years, yes!\\...</td>\n",
       "      <td>https://www.reddit.com/r/investing/comments/18...</td>\n",
       "    </tr>\n",
       "    <tr>\n",
       "      <th>5639488</th>\n",
       "      <td>kfro9wy</td>\n",
       "      <td>t3_18vf1xf</td>\n",
       "      <td>2023-12-31 17:55</td>\n",
       "      <td>u/TheSarp101</td>\n",
       "      <td>1</td>\n",
       "      <td>Oh wow, that is really nice!</td>\n",
       "      <td>https://www.reddit.com/r/investing/comments/18...</td>\n",
       "    </tr>\n",
       "    <tr>\n",
       "      <th>5639489</th>\n",
       "      <td>kfroeej</td>\n",
       "      <td>t3_18vfe0c</td>\n",
       "      <td>2023-12-31 17:56</td>\n",
       "      <td>u/Beautibulb_Tamer</td>\n",
       "      <td>1</td>\n",
       "      <td>Those are crazy returns. Care to share the tik...</td>\n",
       "      <td>https://www.reddit.com/r/investing/comments/18...</td>\n",
       "    </tr>\n",
       "    <tr>\n",
       "      <th>5639490</th>\n",
       "      <td>kfropcc</td>\n",
       "      <td>t3_18vh2do</td>\n",
       "      <td>2023-12-31 17:58</td>\n",
       "      <td>u/Misaiato</td>\n",
       "      <td>2</td>\n",
       "      <td>Goldman Sachs: https://www.marcus.com/us/en/sa...</td>\n",
       "      <td>https://www.reddit.com/r/investing/comments/18...</td>\n",
       "    </tr>\n",
       "  </tbody>\n",
       "</table>\n",
       "<p>5150192 rows × 7 columns</p>\n",
       "</div>"
      ],
      "text/plain": [
       "              id     link_id           created              author  score  \\\n",
       "2        c03hwvj    t3_6ctth  2008-03-20 15:41          u/evilhero      1   \n",
       "7        c04ztc9    t3_6vp5k  2008-08-10 12:12      u/qquicksilver      3   \n",
       "9        c04ztq5    t3_6vp5k  2008-08-10 12:51            u/mycall      0   \n",
       "10       c04ztqb    t3_6vp5k  2008-08-10 12:52          u/radhruin      1   \n",
       "12       c04zvs8    t3_6vp5k  2008-08-10 16:05          u/radhruin      1   \n",
       "...          ...         ...               ...                 ...    ...   \n",
       "5639486  kfro5dm  t3_18vf1xf  2023-12-31 17:54       u/Slayer41285      1   \n",
       "5639487  kfro7r1  t3_18vh2do  2023-12-31 17:55          u/bkweathe      7   \n",
       "5639488  kfro9wy  t3_18vf1xf  2023-12-31 17:55        u/TheSarp101      1   \n",
       "5639489  kfroeej  t3_18vfe0c  2023-12-31 17:56  u/Beautibulb_Tamer      1   \n",
       "5639490  kfropcc  t3_18vh2do  2023-12-31 17:58          u/Misaiato      2   \n",
       "\n",
       "                                                      body  \\\n",
       "2        p.s. It goes without saying that I'm long Veri...   \n",
       "7                                  Vegas / Drugs / Hookers   \n",
       "9                           not necessarily in that order    \n",
       "10       Get a Roth IRA and put that entire amount (plu...   \n",
       "12       At this point in your life you don't want shor...   \n",
       "...                                                    ...   \n",
       "5639486  If I was 60 today I would get around $6000 a m...   \n",
       "5639487  For a house down payment in a few years, yes!\\...   \n",
       "5639488                       Oh wow, that is really nice!   \n",
       "5639489  Those are crazy returns. Care to share the tik...   \n",
       "5639490  Goldman Sachs: https://www.marcus.com/us/en/sa...   \n",
       "\n",
       "                                                      link  \n",
       "2        https://www.reddit.com/r/investing/comments/6c...  \n",
       "7        https://www.reddit.com/r/investing/comments/6v...  \n",
       "9        https://www.reddit.com/r/investing/comments/6v...  \n",
       "10       https://www.reddit.com/r/investing/comments/6v...  \n",
       "12       https://www.reddit.com/r/investing/comments/6v...  \n",
       "...                                                    ...  \n",
       "5639486  https://www.reddit.com/r/investing/comments/18...  \n",
       "5639487  https://www.reddit.com/r/investing/comments/18...  \n",
       "5639488  https://www.reddit.com/r/investing/comments/18...  \n",
       "5639489  https://www.reddit.com/r/investing/comments/18...  \n",
       "5639490  https://www.reddit.com/r/investing/comments/18...  \n",
       "\n",
       "[5150192 rows x 7 columns]"
      ]
     },
     "execution_count": 7,
     "metadata": {},
     "output_type": "execute_result"
    }
   ],
   "source": [
    "comments_filtered1 = remove_missing_data(comments_raw, \"body\")\n",
    "comments_filtered1"
   ]
  },
  {
   "cell_type": "markdown",
   "metadata": {},
   "source": [
    "### Duplicates"
   ]
  },
  {
   "cell_type": "code",
   "execution_count": 8,
   "metadata": {},
   "outputs": [
    {
     "name": "stdout",
     "output_type": "stream",
     "text": [
      "Submissions df shape before filtering duplicates: (153656, 7)\n",
      "Submissions df shape after filtering duplicates: (148889, 7)\n",
      "Comments df shape before filtering duplicates: (5150192, 7)\n",
      "Comments df shape after filtering duplicates: (4807797, 7)\n"
     ]
    }
   ],
   "source": [
    "submissions_filtered2 = submissions_filtered1.drop_duplicates(subset=['selftext'])\n",
    "comments_filtered2 = comments_filtered1.drop_duplicates(subset=['body'])\n",
    "\n",
    "print(\"Submissions df shape before filtering duplicates:\", \n",
    "                             submissions_filtered1.shape)\n",
    "    \n",
    "print(\"Submissions df shape after filtering duplicates:\", \n",
    "                             submissions_filtered2.shape)\n",
    "\n",
    "print(\"Comments df shape before filtering duplicates:\", \n",
    "                             comments_filtered1.shape)\n",
    "    \n",
    "print(\"Comments df shape after filtering duplicates:\", \n",
    "                             comments_filtered2.shape)\n"
   ]
  },
  {
   "cell_type": "markdown",
   "metadata": {},
   "source": [
    "### Clean text "
   ]
  },
  {
   "cell_type": "code",
   "execution_count": 9,
   "metadata": {},
   "outputs": [
    {
     "name": "stderr",
     "output_type": "stream",
     "text": [
      "/var/folders/5q/yq3hk8g1793ckqmn2n3xpr6c0000gn/T/ipykernel_7601/1548817189.py:51: SettingWithCopyWarning: \n",
      "A value is trying to be set on a copy of a slice from a DataFrame.\n",
      "Try using .loc[row_indexer,col_indexer] = value instead\n",
      "\n",
      "See the caveats in the documentation: https://pandas.pydata.org/pandas-docs/stable/user_guide/indexing.html#returning-a-view-versus-a-copy\n",
      "  submissions_filtered2[\"cleaned_text\"] = submissions_filtered2[\"selftext\"].apply(lambda x: clean_text(x))\n",
      "/var/folders/5q/yq3hk8g1793ckqmn2n3xpr6c0000gn/T/ipykernel_7601/1548817189.py:52: SettingWithCopyWarning: \n",
      "A value is trying to be set on a copy of a slice from a DataFrame.\n",
      "Try using .loc[row_indexer,col_indexer] = value instead\n",
      "\n",
      "See the caveats in the documentation: https://pandas.pydata.org/pandas-docs/stable/user_guide/indexing.html#returning-a-view-versus-a-copy\n",
      "  comments_filtered2[\"cleaned_text\"] = comments_filtered2[\"body\"].apply(lambda x: clean_text(x))\n"
     ]
    }
   ],
   "source": [
    "#https://www.w3schools.com/python/ref_string_translate.asp\n",
    "#https://stackoverflow.com/questions/265960/best-way-to-strip-punctuation-from-a-string\n",
    "\n",
    "def clean_text(s):\n",
    "    '''\n",
    "    Cleans text\n",
    "    \n",
    "        Inputs:\n",
    "            - s (string)\n",
    "            \n",
    "        Returns:\n",
    "            - cleaned string\n",
    "    '''\n",
    "\n",
    "    # Decode HTML entities (e.g., &amp;#x200B)\n",
    "    text = html.unescape(s)\n",
    "\n",
    "    # Decode again for any remaining HTML entities like &#x200B;\n",
    "    text = html.unescape(text)\n",
    "    \n",
    "    # Remove links\n",
    "    text = re.sub(r'http\\S+|www\\S+', '', text)\n",
    "\n",
    "    # Remove zero-width spaces explicitly\n",
    "    text = text.replace('\\u200B', '') \n",
    "\n",
    "    # Remove non-ASCII characters\n",
    "    text = re.sub(r'[^\\x00-\\x7F]+', '', text)\n",
    "\n",
    "    # Remove words that have numbers\n",
    "    text = re.sub(r'\\b\\w*\\d\\w*\\b', '', text)\n",
    "\n",
    "    # Remove apostrophes without adding space\n",
    "    text = re.sub(r\"'\", '', text)  \n",
    "\n",
    "    # Replace all other punctuation with space \n",
    "    text = re.sub(r\"[^\\w\\s]\", ' ', text) \n",
    "    \n",
    "    # Remove line breaks\n",
    "    text = text.replace('\\n', ' ').replace('\\r', ' ')\n",
    "\n",
    "    # Collapse multiple spaces into a single space\n",
    "    text = re.sub(r'\\s+', ' ', text).strip()\n",
    "\n",
    "    # Lowercase\n",
    "    text = text.lower()\n",
    "\n",
    "    # Remove unnecessary whitespace\n",
    "    return text.strip()\n",
    "    \n",
    "submissions_filtered2[\"cleaned_text\"] = submissions_filtered2[\"selftext\"].apply(lambda x: clean_text(x))\n",
    "comments_filtered2[\"cleaned_text\"] = comments_filtered2[\"body\"].apply(lambda x: clean_text(x))"
   ]
  },
  {
   "cell_type": "markdown",
   "metadata": {},
   "source": [
    "### Delete very short texts"
   ]
  },
  {
   "cell_type": "code",
   "execution_count": 10,
   "metadata": {},
   "outputs": [
    {
     "name": "stderr",
     "output_type": "stream",
     "text": [
      "/var/folders/5q/yq3hk8g1793ckqmn2n3xpr6c0000gn/T/ipykernel_7601/2268340447.py:2: SettingWithCopyWarning: \n",
      "A value is trying to be set on a copy of a slice from a DataFrame.\n",
      "Try using .loc[row_indexer,col_indexer] = value instead\n",
      "\n",
      "See the caveats in the documentation: https://pandas.pydata.org/pandas-docs/stable/user_guide/indexing.html#returning-a-view-versus-a-copy\n",
      "  submissions_filtered2['word_count'] = submissions_filtered2['cleaned_text'].apply(lambda x: len(x.split()))\n",
      "/var/folders/5q/yq3hk8g1793ckqmn2n3xpr6c0000gn/T/ipykernel_7601/2268340447.py:3: SettingWithCopyWarning: \n",
      "A value is trying to be set on a copy of a slice from a DataFrame.\n",
      "Try using .loc[row_indexer,col_indexer] = value instead\n",
      "\n",
      "See the caveats in the documentation: https://pandas.pydata.org/pandas-docs/stable/user_guide/indexing.html#returning-a-view-versus-a-copy\n",
      "  comments_filtered2['word_count'] = comments_filtered2['cleaned_text'].apply(lambda x: len(x.split()))\n"
     ]
    },
    {
     "name": "stdout",
     "output_type": "stream",
     "text": [
      "Submissions shape before dropping short texts: (148889, 9)\n",
      "Submissions shape after dropping short texts: (93222, 9)\n",
      "Comments shape before dropping short texts: (4807797, 9)\n",
      "Comments shape after dropping short texts: (1323007, 9)\n"
     ]
    }
   ],
   "source": [
    "#Create column with word count to identify short texts\n",
    "submissions_filtered2['word_count'] = submissions_filtered2['cleaned_text'].apply(lambda x: len(x.split()))\n",
    "comments_filtered2['word_count'] = comments_filtered2['cleaned_text'].apply(lambda x: len(x.split()))\n",
    "\n",
    "#Filter\n",
    "print(\"Submissions shape before dropping short texts:\", submissions_filtered2.shape)\n",
    "submissions_filtered3 = submissions_filtered2[submissions_filtered2.word_count >= 50]\n",
    "print(\"Submissions shape after dropping short texts:\", submissions_filtered3.shape)\n",
    "\n",
    "print(\"Comments shape before dropping short texts:\", comments_filtered2.shape)\n",
    "comments_filtered3 = comments_filtered2[comments_filtered2.word_count >= 50]\n",
    "print(\"Comments shape after dropping short texts:\", comments_filtered3.shape)"
   ]
  },
  {
   "cell_type": "markdown",
   "metadata": {},
   "source": [
    "### Sample down comments to reduce computation complexity from language detector. Keep around the same number of comments than on the self improvement corpus."
   ]
  },
  {
   "cell_type": "code",
   "execution_count": 11,
   "metadata": {},
   "outputs": [],
   "source": [
    "comments_sampled = comments_filtered3.sample(410000)"
   ]
  },
  {
   "cell_type": "markdown",
   "metadata": {},
   "source": [
    "### Remove non-english posts"
   ]
  },
  {
   "cell_type": "code",
   "execution_count": 12,
   "metadata": {},
   "outputs": [
    {
     "name": "stderr",
     "output_type": "stream",
     "text": [
      "/var/folders/5q/yq3hk8g1793ckqmn2n3xpr6c0000gn/T/ipykernel_7601/3827429750.py:22: SettingWithCopyWarning: \n",
      "A value is trying to be set on a copy of a slice from a DataFrame.\n",
      "Try using .loc[row_indexer,col_indexer] = value instead\n",
      "\n",
      "See the caveats in the documentation: https://pandas.pydata.org/pandas-docs/stable/user_guide/indexing.html#returning-a-view-versus-a-copy\n",
      "  submissions_filtered3['in_english'] = submissions_filtered3['cleaned_text'].apply(lambda x: checks_language(x))\n"
     ]
    }
   ],
   "source": [
    "def checks_language(text):\n",
    "    '''\n",
    "    Checks if the language of the text is english or not\n",
    "    \n",
    "        Inputs:\n",
    "            - s (string)\n",
    "            \n",
    "        Returns:\n",
    "            - Boolean (True if text is in english)\n",
    "    '''\n",
    "\n",
    "    #If there's a problem with the text, simply return False\n",
    "    try: \n",
    "        lang = detect(text)\n",
    "    except:\n",
    "        return False \n",
    "    \n",
    "    if lang == \"en\":\n",
    "        return True\n",
    "    return False\n",
    "\n",
    "submissions_filtered3['in_english'] = submissions_filtered3['cleaned_text'].apply(lambda x: checks_language(x))\n",
    "comments_sampled['in_english'] = comments_sampled['cleaned_text'].apply(lambda x: checks_language(x))"
   ]
  },
  {
   "cell_type": "markdown",
   "metadata": {},
   "source": [
    "Filter and only keep entries in english"
   ]
  },
  {
   "cell_type": "code",
   "execution_count": 13,
   "metadata": {},
   "outputs": [],
   "source": [
    "submissions_filtered4 = submissions_filtered3[submissions_filtered3.in_english]\n",
    "comments_filtered4 = comments_sampled[comments_sampled.in_english]"
   ]
  },
  {
   "cell_type": "markdown",
   "metadata": {},
   "source": [
    "## Data engineering"
   ]
  },
  {
   "cell_type": "markdown",
   "metadata": {},
   "source": [
    "### Combine submissions and comments"
   ]
  },
  {
   "cell_type": "code",
   "execution_count": 14,
   "metadata": {},
   "outputs": [
    {
     "name": "stderr",
     "output_type": "stream",
     "text": [
      "/var/folders/5q/yq3hk8g1793ckqmn2n3xpr6c0000gn/T/ipykernel_7601/640623063.py:2: SettingWithCopyWarning: \n",
      "A value is trying to be set on a copy of a slice from a DataFrame.\n",
      "Try using .loc[row_indexer,col_indexer] = value instead\n",
      "\n",
      "See the caveats in the documentation: https://pandas.pydata.org/pandas-docs/stable/user_guide/indexing.html#returning-a-view-versus-a-copy\n",
      "  submissions_filtered4[\"type\"] = \"submission\"\n",
      "/var/folders/5q/yq3hk8g1793ckqmn2n3xpr6c0000gn/T/ipykernel_7601/640623063.py:3: SettingWithCopyWarning: \n",
      "A value is trying to be set on a copy of a slice from a DataFrame.\n",
      "Try using .loc[row_indexer,col_indexer] = value instead\n",
      "\n",
      "See the caveats in the documentation: https://pandas.pydata.org/pandas-docs/stable/user_guide/indexing.html#returning-a-view-versus-a-copy\n",
      "  comments_filtered4[\"type\"] = \"comment\"\n"
     ]
    },
    {
     "data": {
      "text/html": [
       "<div>\n",
       "<style scoped>\n",
       "    .dataframe tbody tr th:only-of-type {\n",
       "        vertical-align: middle;\n",
       "    }\n",
       "\n",
       "    .dataframe tbody tr th {\n",
       "        vertical-align: top;\n",
       "    }\n",
       "\n",
       "    .dataframe thead th {\n",
       "        text-align: right;\n",
       "    }\n",
       "</style>\n",
       "<table border=\"1\" class=\"dataframe\">\n",
       "  <thead>\n",
       "    <tr style=\"text-align: right;\">\n",
       "      <th></th>\n",
       "      <th>id</th>\n",
       "      <th>created</th>\n",
       "      <th>author</th>\n",
       "      <th>score</th>\n",
       "      <th>body</th>\n",
       "      <th>num_comments</th>\n",
       "      <th>link</th>\n",
       "      <th>cleaned_text</th>\n",
       "      <th>word_count</th>\n",
       "      <th>in_english</th>\n",
       "      <th>type</th>\n",
       "      <th>link_id</th>\n",
       "    </tr>\n",
       "  </thead>\n",
       "  <tbody>\n",
       "    <tr>\n",
       "      <th>0</th>\n",
       "      <td>96jqg</td>\n",
       "      <td>2009-08-01 01:09</td>\n",
       "      <td>u/[deleted]</td>\n",
       "      <td>1</td>\n",
       "      <td>I'm looking into making some small share buys ...</td>\n",
       "      <td>3.0</td>\n",
       "      <td>https://www.reddit.com/r/investing/comments/96...</td>\n",
       "      <td>im looking into making some small share buys t...</td>\n",
       "      <td>86</td>\n",
       "      <td>True</td>\n",
       "      <td>submission</td>\n",
       "      <td>NaN</td>\n",
       "    </tr>\n",
       "    <tr>\n",
       "      <th>1</th>\n",
       "      <td>9ivio</td>\n",
       "      <td>2009-09-09 11:50</td>\n",
       "      <td>u/ctreia</td>\n",
       "      <td>0</td>\n",
       "      <td>The economy couldn’t be better for some people...</td>\n",
       "      <td>0.0</td>\n",
       "      <td>https://www.reddit.com/r/investing/comments/9i...</td>\n",
       "      <td>the economy couldnt be better for some people ...</td>\n",
       "      <td>99</td>\n",
       "      <td>True</td>\n",
       "      <td>submission</td>\n",
       "      <td>NaN</td>\n",
       "    </tr>\n",
       "    <tr>\n",
       "      <th>2</th>\n",
       "      <td>9snu1</td>\n",
       "      <td>2009-10-10 02:06</td>\n",
       "      <td>u/Facepuncher</td>\n",
       "      <td>3</td>\n",
       "      <td>This was about maybe 6-7 years ago, I am think...</td>\n",
       "      <td>3.0</td>\n",
       "      <td>https://www.reddit.com/r/investing/comments/9s...</td>\n",
       "      <td>this was about maybe years ago i am thinking t...</td>\n",
       "      <td>51</td>\n",
       "      <td>True</td>\n",
       "      <td>submission</td>\n",
       "      <td>NaN</td>\n",
       "    </tr>\n",
       "    <tr>\n",
       "      <th>3</th>\n",
       "      <td>bs358</td>\n",
       "      <td>2010-04-16 20:42</td>\n",
       "      <td>u/theshadow47</td>\n",
       "      <td>2</td>\n",
       "      <td>So I'm sober as a judge, about to go to sleep ...</td>\n",
       "      <td>2.0</td>\n",
       "      <td>https://www.reddit.com/r/investing/comments/bs...</td>\n",
       "      <td>so im sober as a judge about to go to sleep wh...</td>\n",
       "      <td>107</td>\n",
       "      <td>True</td>\n",
       "      <td>submission</td>\n",
       "      <td>NaN</td>\n",
       "    </tr>\n",
       "    <tr>\n",
       "      <th>4</th>\n",
       "      <td>c0q9t</td>\n",
       "      <td>2010-05-06 14:39</td>\n",
       "      <td>u/downpymt</td>\n",
       "      <td>7</td>\n",
       "      <td>I just sold my first house (a project house th...</td>\n",
       "      <td>9.0</td>\n",
       "      <td>https://www.reddit.com/r/investing/comments/c0...</td>\n",
       "      <td>i just sold my first house a project house tha...</td>\n",
       "      <td>84</td>\n",
       "      <td>True</td>\n",
       "      <td>submission</td>\n",
       "      <td>NaN</td>\n",
       "    </tr>\n",
       "    <tr>\n",
       "      <th>...</th>\n",
       "      <td>...</td>\n",
       "      <td>...</td>\n",
       "      <td>...</td>\n",
       "      <td>...</td>\n",
       "      <td>...</td>\n",
       "      <td>...</td>\n",
       "      <td>...</td>\n",
       "      <td>...</td>\n",
       "      <td>...</td>\n",
       "      <td>...</td>\n",
       "      <td>...</td>\n",
       "      <td>...</td>\n",
       "    </tr>\n",
       "    <tr>\n",
       "      <th>503153</th>\n",
       "      <td>hyzb27m</td>\n",
       "      <td>2022-03-01 17:51</td>\n",
       "      <td>u/8ean</td>\n",
       "      <td>1</td>\n",
       "      <td>There is so many speculation from the rich and...</td>\n",
       "      <td>NaN</td>\n",
       "      <td>https://www.reddit.com/r/investing/comments/t4...</td>\n",
       "      <td>there is so many speculation from the rich and...</td>\n",
       "      <td>116</td>\n",
       "      <td>True</td>\n",
       "      <td>comment</td>\n",
       "      <td>t3_t44j5g</td>\n",
       "    </tr>\n",
       "    <tr>\n",
       "      <th>503154</th>\n",
       "      <td>fm4a4ja</td>\n",
       "      <td>2020-04-01 09:06</td>\n",
       "      <td>u/optimal_substructure</td>\n",
       "      <td>1</td>\n",
       "      <td>Most of the 'investors' I know, including at t...</td>\n",
       "      <td>NaN</td>\n",
       "      <td>https://www.reddit.com/r/investing/comments/fs...</td>\n",
       "      <td>most of the investors i know including at the ...</td>\n",
       "      <td>259</td>\n",
       "      <td>True</td>\n",
       "      <td>comment</td>\n",
       "      <td>t3_fs8lji</td>\n",
       "    </tr>\n",
       "    <tr>\n",
       "      <th>503155</th>\n",
       "      <td>h2zfu6h</td>\n",
       "      <td>2021-06-25 06:28</td>\n",
       "      <td>u/pragmojo</td>\n",
       "      <td>8</td>\n",
       "      <td>It's not about the F150 itself, it's about oth...</td>\n",
       "      <td>NaN</td>\n",
       "      <td>https://www.reddit.com/r/investing/comments/o7...</td>\n",
       "      <td>its not about the itself its about other autom...</td>\n",
       "      <td>65</td>\n",
       "      <td>True</td>\n",
       "      <td>comment</td>\n",
       "      <td>t3_o7f1yr</td>\n",
       "    </tr>\n",
       "    <tr>\n",
       "      <th>503156</th>\n",
       "      <td>cn08e2v</td>\n",
       "      <td>2014-12-19 22:22</td>\n",
       "      <td>u/penisc0lada</td>\n",
       "      <td>1</td>\n",
       "      <td>I'm just a college student, so I'm sure someon...</td>\n",
       "      <td>NaN</td>\n",
       "      <td>https://www.reddit.com/r/investing/comments/2p...</td>\n",
       "      <td>im just a college student so im sure someone c...</td>\n",
       "      <td>455</td>\n",
       "      <td>True</td>\n",
       "      <td>comment</td>\n",
       "      <td>t3_2psfva</td>\n",
       "    </tr>\n",
       "    <tr>\n",
       "      <th>503157</th>\n",
       "      <td>cl8nrtr</td>\n",
       "      <td>2014-10-13 18:19</td>\n",
       "      <td>u/glsmerch</td>\n",
       "      <td>1</td>\n",
       "      <td>Agree with others. You will need the money in ...</td>\n",
       "      <td>NaN</td>\n",
       "      <td>https://www.reddit.com/r/investing/comments/2j...</td>\n",
       "      <td>agree with others you will need the money in o...</td>\n",
       "      <td>70</td>\n",
       "      <td>True</td>\n",
       "      <td>comment</td>\n",
       "      <td>t3_2j5g3d</td>\n",
       "    </tr>\n",
       "  </tbody>\n",
       "</table>\n",
       "<p>503158 rows × 12 columns</p>\n",
       "</div>"
      ],
      "text/plain": [
       "             id           created                  author  score  \\\n",
       "0         96jqg  2009-08-01 01:09             u/[deleted]      1   \n",
       "1         9ivio  2009-09-09 11:50                u/ctreia      0   \n",
       "2         9snu1  2009-10-10 02:06           u/Facepuncher      3   \n",
       "3         bs358  2010-04-16 20:42           u/theshadow47      2   \n",
       "4         c0q9t  2010-05-06 14:39              u/downpymt      7   \n",
       "...         ...               ...                     ...    ...   \n",
       "503153  hyzb27m  2022-03-01 17:51                  u/8ean      1   \n",
       "503154  fm4a4ja  2020-04-01 09:06  u/optimal_substructure      1   \n",
       "503155  h2zfu6h  2021-06-25 06:28              u/pragmojo      8   \n",
       "503156  cn08e2v  2014-12-19 22:22           u/penisc0lada      1   \n",
       "503157  cl8nrtr  2014-10-13 18:19              u/glsmerch      1   \n",
       "\n",
       "                                                     body  num_comments  \\\n",
       "0       I'm looking into making some small share buys ...           3.0   \n",
       "1       The economy couldn’t be better for some people...           0.0   \n",
       "2       This was about maybe 6-7 years ago, I am think...           3.0   \n",
       "3       So I'm sober as a judge, about to go to sleep ...           2.0   \n",
       "4       I just sold my first house (a project house th...           9.0   \n",
       "...                                                   ...           ...   \n",
       "503153  There is so many speculation from the rich and...           NaN   \n",
       "503154  Most of the 'investors' I know, including at t...           NaN   \n",
       "503155  It's not about the F150 itself, it's about oth...           NaN   \n",
       "503156  I'm just a college student, so I'm sure someon...           NaN   \n",
       "503157  Agree with others. You will need the money in ...           NaN   \n",
       "\n",
       "                                                     link  \\\n",
       "0       https://www.reddit.com/r/investing/comments/96...   \n",
       "1       https://www.reddit.com/r/investing/comments/9i...   \n",
       "2       https://www.reddit.com/r/investing/comments/9s...   \n",
       "3       https://www.reddit.com/r/investing/comments/bs...   \n",
       "4       https://www.reddit.com/r/investing/comments/c0...   \n",
       "...                                                   ...   \n",
       "503153  https://www.reddit.com/r/investing/comments/t4...   \n",
       "503154  https://www.reddit.com/r/investing/comments/fs...   \n",
       "503155  https://www.reddit.com/r/investing/comments/o7...   \n",
       "503156  https://www.reddit.com/r/investing/comments/2p...   \n",
       "503157  https://www.reddit.com/r/investing/comments/2j...   \n",
       "\n",
       "                                             cleaned_text  word_count  \\\n",
       "0       im looking into making some small share buys t...          86   \n",
       "1       the economy couldnt be better for some people ...          99   \n",
       "2       this was about maybe years ago i am thinking t...          51   \n",
       "3       so im sober as a judge about to go to sleep wh...         107   \n",
       "4       i just sold my first house a project house tha...          84   \n",
       "...                                                   ...         ...   \n",
       "503153  there is so many speculation from the rich and...         116   \n",
       "503154  most of the investors i know including at the ...         259   \n",
       "503155  its not about the itself its about other autom...          65   \n",
       "503156  im just a college student so im sure someone c...         455   \n",
       "503157  agree with others you will need the money in o...          70   \n",
       "\n",
       "        in_english        type    link_id  \n",
       "0             True  submission        NaN  \n",
       "1             True  submission        NaN  \n",
       "2             True  submission        NaN  \n",
       "3             True  submission        NaN  \n",
       "4             True  submission        NaN  \n",
       "...            ...         ...        ...  \n",
       "503153        True     comment  t3_t44j5g  \n",
       "503154        True     comment  t3_fs8lji  \n",
       "503155        True     comment  t3_o7f1yr  \n",
       "503156        True     comment  t3_2psfva  \n",
       "503157        True     comment  t3_2j5g3d  \n",
       "\n",
       "[503158 rows x 12 columns]"
      ]
     },
     "execution_count": 14,
     "metadata": {},
     "output_type": "execute_result"
    }
   ],
   "source": [
    "#Create column to identify them later\n",
    "submissions_filtered4[\"type\"] = \"submission\"\n",
    "comments_filtered4[\"type\"] = \"comment\"\n",
    "\n",
    "#Concatenate\n",
    "submissions_new = submissions_filtered4.rename(columns={'selftext': 'body'}, inplace=False)\n",
    "complete_data = pd.concat([submissions_new, comments_filtered4], ignore_index=True)\n",
    "complete_data\n"
   ]
  },
  {
   "cell_type": "markdown",
   "metadata": {},
   "source": [
    "### Create year and month columns"
   ]
  },
  {
   "cell_type": "code",
   "execution_count": 15,
   "metadata": {},
   "outputs": [],
   "source": [
    "def extract_time(date_string):\n",
    "    '''\n",
    "    Extracts year and month of publication from the \"created column\n",
    "    \n",
    "    Input:\n",
    "        - date_string: date and hour of publication\n",
    "        \n",
    "    Returns:\n",
    "        (tuple): year and date of publication'''\n",
    "    date_object = datetime.strptime(date_string, \"%Y-%m-%d %H:%M\")\n",
    "\n",
    "    return date_object.year, date_object.month\n",
    "\n",
    "complete_data[['year', 'month']] = complete_data['created'].apply\\\n",
    "                                           (lambda x: pd.Series(extract_time(x)))"
   ]
  },
  {
   "cell_type": "markdown",
   "metadata": {},
   "source": [
    "## Exploratory Data Analysis"
   ]
  },
  {
   "cell_type": "markdown",
   "metadata": {},
   "source": [
    "### Documents' length"
   ]
  },
  {
   "cell_type": "code",
   "execution_count": 16,
   "metadata": {},
   "outputs": [
    {
     "name": "stdout",
     "output_type": "stream",
     "text": [
      "Average number of words: 116.88213046398944\n"
     ]
    },
    {
     "data": {
      "image/png": "[encoded data removed]",
      "text/plain": [
       "<Figure size 800x600 with 1 Axes>"
      ]
     },
     "metadata": {},
     "output_type": "display_data"
    }
   ],
   "source": [
    "average_length = complete_data['word_count'].mean()\n",
    "print(f\"Average number of words: {average_length}\")\n",
    "\n",
    "# Create a boxplot of the word counts\n",
    "plt.figure(figsize=(8, 6))\n",
    "submissions_filtered3[\"word_count\"].plot(kind='box')\n",
    "plt.title('Length of texts')\n",
    "plt.ylabel('Number of words')\n",
    "plt.show()"
   ]
  },
  {
   "cell_type": "code",
   "execution_count": 17,
   "metadata": {},
   "outputs": [
    {
     "data": {
      "image/png": "[encoded data removed]",
      "text/plain": [
       "<Figure size 800x600 with 1 Axes>"
      ]
     },
     "metadata": {},
     "output_type": "display_data"
    }
   ],
   "source": [
    "# Take a closer look\n",
    "plt.figure(figsize=(8, 6))\n",
    "complete_data[\"word_count\"].plot(kind='box')\n",
    "plt.title('Length of texts (Zoomed)')\n",
    "plt.ylabel('Number of words')\n",
    "plt.ylim(0, 500)  \n",
    "plt.show()"
   ]
  },
  {
   "cell_type": "markdown",
   "metadata": {},
   "source": [
    "### Year of publication distribution"
   ]
  },
  {
   "cell_type": "code",
   "execution_count": 18,
   "metadata": {},
   "outputs": [
    {
     "data": {
      "image/png": "[encoded data removed]",
      "text/plain": [
       "<Figure size 640x480 with 1 Axes>"
      ]
     },
     "metadata": {},
     "output_type": "display_data"
    }
   ],
   "source": [
    "year_counts = complete_data['year'].value_counts().sort_index()\n",
    "\n",
    "year_counts.plot(kind='bar')\n",
    "plt.xlabel('Year')\n",
    "plt.ylabel('Number of total entries')\n",
    "plt.title('Participation in the subreddit over time')\n",
    "plt.show()"
   ]
  },
  {
   "cell_type": "markdown",
   "metadata": {},
   "source": [
    "### Observe number of participants in the forum"
   ]
  },
  {
   "cell_type": "code",
   "execution_count": 19,
   "metadata": {},
   "outputs": [
    {
     "name": "stdout",
     "output_type": "stream",
     "text": [
      "136072 unique authors\n"
     ]
    }
   ],
   "source": [
    "authors = complete_data[\"author\"]\n",
    "print(\"{} unique authors\".format(len(set(authors))))\n"
   ]
  },
  {
   "cell_type": "markdown",
   "metadata": {},
   "source": [
    "## Export final df"
   ]
  },
  {
   "cell_type": "code",
   "execution_count": 20,
   "metadata": {},
   "outputs": [],
   "source": [
    "#Exclude title and body columns from final data as they create some issues with the parsing of\n",
    "#the CSV. Also delete in_english column since it won't be useful anymore\n",
    "final_data = complete_data.drop([\"body\", \"in_english\"], axis=1, inplace=False)"
   ]
  },
  {
   "cell_type": "code",
   "execution_count": 21,
   "metadata": {},
   "outputs": [],
   "source": [
    "final_data.to_csv('cleaned/investing_cleaned.csv')"
   ]
  },
  {
   "cell_type": "markdown",
   "metadata": {},
   "source": [
    "Ensure correct parsing"
   ]
  },
  {
   "cell_type": "code",
   "execution_count": 22,
   "metadata": {},
   "outputs": [
    {
     "name": "stderr",
     "output_type": "stream",
     "text": [
      "/var/folders/5q/yq3hk8g1793ckqmn2n3xpr6c0000gn/T/ipykernel_7601/3723282458.py:1: DtypeWarning: Columns (10) have mixed types. Specify dtype option on import or set low_memory=False.\n",
      "  saved_csv = pd.read_csv(\"cleaned/investing_cleaned.csv\")\n"
     ]
    }
   ],
   "source": [
    "saved_csv = pd.read_csv(\"cleaned/investing_cleaned.csv\")"
   ]
  },
  {
   "cell_type": "code",
   "execution_count": 23,
   "metadata": {},
   "outputs": [
    {
     "name": "stdout",
     "output_type": "stream",
     "text": [
      "(503158, 12)\n",
      "(503158, 13)\n"
     ]
    }
   ],
   "source": [
    "print(final_data.shape)\n",
    "print(saved_csv.shape)"
   ]
  }
 ],
 "metadata": {
  "kernelspec": {
   "display_name": "thesis10",
   "language": "python",
   "name": "python3"
  },
  "language_info": {
   "codemirror_mode": {
    "name": "ipython",
    "version": 3
   },
   "file_extension": ".py",
   "mimetype": "text/x-python",
   "name": "python",
   "nbconvert_exporter": "python",
   "pygments_lexer": "ipython3",
   "version": "3.10.14"
  },
  "orig_nbformat": 4
 },
 "nbformat": 4,
 "nbformat_minor": 2
}
