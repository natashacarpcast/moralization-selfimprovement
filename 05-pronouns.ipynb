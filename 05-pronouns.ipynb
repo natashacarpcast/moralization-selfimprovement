{
 "cells": [
  {
   "cell_type": "markdown",
   "metadata": {},
   "source": [
    "### Set up"
   ]
  },
  {
   "cell_type": "code",
   "execution_count": 4,
   "metadata": {},
   "outputs": [],
   "source": [
    "import pandas as pd"
   ]
  },
  {
   "cell_type": "code",
   "execution_count": 5,
   "metadata": {},
   "outputs": [
    {
     "name": "stderr",
     "output_type": "stream",
     "text": [
      "/var/folders/5q/yq3hk8g1793ckqmn2n3xpr6c0000gn/T/ipykernel_12244/3337900666.py:1: DtypeWarning: Columns (10) have mixed types. Specify dtype option on import or set low_memory=False.\n",
      "  data = pd.read_csv(\"data/pronouns_data.csv\")\n"
     ]
    }
   ],
   "source": [
    "data = pd.read_csv(\"data/pronouns_data.csv\")"
   ]
  },
  {
   "cell_type": "code",
   "execution_count": 7,
   "metadata": {},
   "outputs": [
    {
     "data": {
      "text/html": [
       "<div>\n",
       "<style scoped>\n",
       "    .dataframe tbody tr th:only-of-type {\n",
       "        vertical-align: middle;\n",
       "    }\n",
       "\n",
       "    .dataframe tbody tr th {\n",
       "        vertical-align: top;\n",
       "    }\n",
       "\n",
       "    .dataframe thead th {\n",
       "        text-align: right;\n",
       "    }\n",
       "</style>\n",
       "<table border=\"1\" class=\"dataframe\">\n",
       "  <thead>\n",
       "    <tr style=\"text-align: right;\">\n",
       "      <th></th>\n",
       "      <th>Unnamed: 0</th>\n",
       "      <th>id</th>\n",
       "      <th>created</th>\n",
       "      <th>author</th>\n",
       "      <th>score</th>\n",
       "      <th>num_comments</th>\n",
       "      <th>link</th>\n",
       "      <th>cleaned_text</th>\n",
       "      <th>word_count</th>\n",
       "      <th>type</th>\n",
       "      <th>...</th>\n",
       "      <th>Authority_Vice</th>\n",
       "      <th>Sanctity_Virtue</th>\n",
       "      <th>Sanctity_Vice</th>\n",
       "      <th>Segment</th>\n",
       "      <th>i</th>\n",
       "      <th>you</th>\n",
       "      <th>shehe</th>\n",
       "      <th>they</th>\n",
       "      <th>tone_pos</th>\n",
       "      <th>tone_neg</th>\n",
       "    </tr>\n",
       "  </thead>\n",
       "  <tbody>\n",
       "    <tr>\n",
       "      <th>0</th>\n",
       "      <td>0</td>\n",
       "      <td>hk5r2</td>\n",
       "      <td>2011-05-25 17:27</td>\n",
       "      <td>u/[deleted]</td>\n",
       "      <td>1</td>\n",
       "      <td>3.0</td>\n",
       "      <td>https://www.reddit.com/r/selfimprovement/comme...</td>\n",
       "      <td>i had an appointment today with the dentist ov...</td>\n",
       "      <td>65</td>\n",
       "      <td>submission</td>\n",
       "      <td>...</td>\n",
       "      <td>0.0</td>\n",
       "      <td>0.00</td>\n",
       "      <td>0.00</td>\n",
       "      <td>1</td>\n",
       "      <td>12.31</td>\n",
       "      <td>0.00</td>\n",
       "      <td>0.00</td>\n",
       "      <td>1.54</td>\n",
       "      <td>0.00</td>\n",
       "      <td>0.00</td>\n",
       "    </tr>\n",
       "    <tr>\n",
       "      <th>1</th>\n",
       "      <td>1</td>\n",
       "      <td>iqimz</td>\n",
       "      <td>2011-07-15 11:15</td>\n",
       "      <td>u/dustinsmusings</td>\n",
       "      <td>3</td>\n",
       "      <td>0.0</td>\n",
       "      <td>https://www.reddit.com/r/selfimprovement/comme...</td>\n",
       "      <td>i created this site several months ago and i s...</td>\n",
       "      <td>116</td>\n",
       "      <td>submission</td>\n",
       "      <td>...</td>\n",
       "      <td>0.0</td>\n",
       "      <td>0.00</td>\n",
       "      <td>0.00</td>\n",
       "      <td>1</td>\n",
       "      <td>7.76</td>\n",
       "      <td>0.86</td>\n",
       "      <td>0.00</td>\n",
       "      <td>0.00</td>\n",
       "      <td>8.62</td>\n",
       "      <td>0.86</td>\n",
       "    </tr>\n",
       "    <tr>\n",
       "      <th>2</th>\n",
       "      <td>2</td>\n",
       "      <td>pfzt5</td>\n",
       "      <td>2012-02-08 01:40</td>\n",
       "      <td>u/aeoz</td>\n",
       "      <td>6</td>\n",
       "      <td>4.0</td>\n",
       "      <td>https://www.reddit.com/r/selfimprovement/comme...</td>\n",
       "      <td>hello everyone  i have recently took over this...</td>\n",
       "      <td>194</td>\n",
       "      <td>submission</td>\n",
       "      <td>...</td>\n",
       "      <td>0.0</td>\n",
       "      <td>0.00</td>\n",
       "      <td>0.00</td>\n",
       "      <td>1</td>\n",
       "      <td>3.61</td>\n",
       "      <td>1.55</td>\n",
       "      <td>0.00</td>\n",
       "      <td>0.00</td>\n",
       "      <td>8.25</td>\n",
       "      <td>0.00</td>\n",
       "    </tr>\n",
       "    <tr>\n",
       "      <th>3</th>\n",
       "      <td>3</td>\n",
       "      <td>pk714</td>\n",
       "      <td>2012-02-10 19:16</td>\n",
       "      <td>u/[deleted]</td>\n",
       "      <td>1</td>\n",
       "      <td>0.0</td>\n",
       "      <td>https://www.reddit.com/r/selfimprovement/comme...</td>\n",
       "      <td>i grew up with body dysmorphia eating disorder...</td>\n",
       "      <td>583</td>\n",
       "      <td>submission</td>\n",
       "      <td>...</td>\n",
       "      <td>0.0</td>\n",
       "      <td>0.51</td>\n",
       "      <td>0.17</td>\n",
       "      <td>1</td>\n",
       "      <td>12.18</td>\n",
       "      <td>0.69</td>\n",
       "      <td>0.00</td>\n",
       "      <td>0.17</td>\n",
       "      <td>4.63</td>\n",
       "      <td>2.74</td>\n",
       "    </tr>\n",
       "    <tr>\n",
       "      <th>4</th>\n",
       "      <td>4</td>\n",
       "      <td>q0q8x</td>\n",
       "      <td>2012-02-22 03:24</td>\n",
       "      <td>u/[deleted]</td>\n",
       "      <td>1</td>\n",
       "      <td>0.0</td>\n",
       "      <td>https://www.reddit.com/r/selfimprovement/comme...</td>\n",
       "      <td>i have to ask when do you get to a point where...</td>\n",
       "      <td>558</td>\n",
       "      <td>submission</td>\n",
       "      <td>...</td>\n",
       "      <td>0.0</td>\n",
       "      <td>0.54</td>\n",
       "      <td>0.54</td>\n",
       "      <td>1</td>\n",
       "      <td>14.34</td>\n",
       "      <td>0.54</td>\n",
       "      <td>0.18</td>\n",
       "      <td>0.18</td>\n",
       "      <td>3.76</td>\n",
       "      <td>2.69</td>\n",
       "    </tr>\n",
       "  </tbody>\n",
       "</table>\n",
       "<p>5 rows × 38 columns</p>\n",
       "</div>"
      ],
      "text/plain": [
       "   Unnamed: 0     id           created            author  score  num_comments  \\\n",
       "0           0  hk5r2  2011-05-25 17:27       u/[deleted]      1           3.0   \n",
       "1           1  iqimz  2011-07-15 11:15  u/dustinsmusings      3           0.0   \n",
       "2           2  pfzt5  2012-02-08 01:40            u/aeoz      6           4.0   \n",
       "3           3  pk714  2012-02-10 19:16       u/[deleted]      1           0.0   \n",
       "4           4  q0q8x  2012-02-22 03:24       u/[deleted]      1           0.0   \n",
       "\n",
       "                                                link  \\\n",
       "0  https://www.reddit.com/r/selfimprovement/comme...   \n",
       "1  https://www.reddit.com/r/selfimprovement/comme...   \n",
       "2  https://www.reddit.com/r/selfimprovement/comme...   \n",
       "3  https://www.reddit.com/r/selfimprovement/comme...   \n",
       "4  https://www.reddit.com/r/selfimprovement/comme...   \n",
       "\n",
       "                                        cleaned_text  word_count        type  \\\n",
       "0  i had an appointment today with the dentist ov...          65  submission   \n",
       "1  i created this site several months ago and i s...         116  submission   \n",
       "2  hello everyone  i have recently took over this...         194  submission   \n",
       "3  i grew up with body dysmorphia eating disorder...         583  submission   \n",
       "4  i have to ask when do you get to a point where...         558  submission   \n",
       "\n",
       "   ... Authority_Vice  Sanctity_Virtue  Sanctity_Vice  Segment      i   you  \\\n",
       "0  ...            0.0             0.00           0.00        1  12.31  0.00   \n",
       "1  ...            0.0             0.00           0.00        1   7.76  0.86   \n",
       "2  ...            0.0             0.00           0.00        1   3.61  1.55   \n",
       "3  ...            0.0             0.51           0.17        1  12.18  0.69   \n",
       "4  ...            0.0             0.54           0.54        1  14.34  0.54   \n",
       "\n",
       "   shehe  they  tone_pos  tone_neg  \n",
       "0   0.00  1.54      0.00      0.00  \n",
       "1   0.00  0.00      8.62      0.86  \n",
       "2   0.00  0.00      8.25      0.00  \n",
       "3   0.00  0.17      4.63      2.74  \n",
       "4   0.18  0.18      3.76      2.69  \n",
       "\n",
       "[5 rows x 38 columns]"
      ]
     },
     "execution_count": 7,
     "metadata": {},
     "output_type": "execute_result"
    }
   ],
   "source": [
    "data.head(5)"
   ]
  },
  {
   "cell_type": "markdown",
   "metadata": {},
   "source": [
    "### Check distribution of pronouns variables"
   ]
  },
  {
   "cell_type": "code",
   "execution_count": 11,
   "metadata": {},
   "outputs": [
    {
     "data": {
      "text/plain": [
       "count    507516.000000\n",
       "mean          5.862133\n",
       "std           4.912093\n",
       "min           0.000000\n",
       "25%           1.500000\n",
       "50%           4.820000\n",
       "75%           9.800000\n",
       "max          32.990000\n",
       "Name: i, dtype: float64"
      ]
     },
     "execution_count": 11,
     "metadata": {},
     "output_type": "execute_result"
    }
   ],
   "source": [
    "data.i.describe()"
   ]
  },
  {
   "cell_type": "code",
   "execution_count": 10,
   "metadata": {},
   "outputs": [
    {
     "data": {
      "text/plain": [
       "count    507516.000000\n",
       "mean          4.508260\n",
       "std           4.017575\n",
       "min           0.000000\n",
       "25%           0.830000\n",
       "50%           3.820000\n",
       "75%           7.390000\n",
       "max          35.710000\n",
       "Name: you, dtype: float64"
      ]
     },
     "execution_count": 10,
     "metadata": {},
     "output_type": "execute_result"
    }
   ],
   "source": [
    "data.you.describe()"
   ]
  },
  {
   "cell_type": "code",
   "execution_count": 12,
   "metadata": {},
   "outputs": [
    {
     "data": {
      "text/plain": [
       "count    507516.000000\n",
       "mean          0.474740\n",
       "std           1.461936\n",
       "min           0.000000\n",
       "25%           0.000000\n",
       "50%           0.000000\n",
       "75%           0.000000\n",
       "max          24.000000\n",
       "Name: shehe, dtype: float64"
      ]
     },
     "execution_count": 12,
     "metadata": {},
     "output_type": "execute_result"
    }
   ],
   "source": [
    "data.shehe.describe()"
   ]
  },
  {
   "cell_type": "code",
   "execution_count": 13,
   "metadata": {},
   "outputs": [
    {
     "data": {
      "text/plain": [
       "count    507516.000000\n",
       "mean          0.795824\n",
       "std           1.365469\n",
       "min           0.000000\n",
       "25%           0.000000\n",
       "50%           0.000000\n",
       "75%           1.180000\n",
       "max          33.330000\n",
       "Name: they, dtype: float64"
      ]
     },
     "execution_count": 13,
     "metadata": {},
     "output_type": "execute_result"
    }
   ],
   "source": [
    "data.they.describe()"
   ]
  },
  {
   "cell_type": "markdown",
   "metadata": {},
   "source": [
    "The distributions shows that there's more first person language than second or third language."
   ]
  },
  {
   "cell_type": "markdown",
   "metadata": {},
   "source": [
    "### Explore different cut offs points for categorizing posts by predominantly using first language vs not."
   ]
  },
  {
   "cell_type": "code",
   "execution_count": null,
   "metadata": {},
   "outputs": [],
   "source": [
    "with pd.option_context('display.max_colwidth', None):\n",
    "    display(data[data.i > 0.20].sort_values(by=\"i\", ascending=True)[[\"id\", \"type\", \"cleaned_text\",\"i\", \"shehe\", \"they\"]][0:5])"
   ]
  },
  {
   "cell_type": "markdown",
   "metadata": {},
   "source": [
    "At this point the posts are still not very \"I\" focused."
   ]
  },
  {
   "cell_type": "code",
   "execution_count": 27,
   "metadata": {},
   "outputs": [
    {
     "data": {
      "text/html": [
       "<div>\n",
       "<style scoped>\n",
       "    .dataframe tbody tr th:only-of-type {\n",
       "        vertical-align: middle;\n",
       "    }\n",
       "\n",
       "    .dataframe tbody tr th {\n",
       "        vertical-align: top;\n",
       "    }\n",
       "\n",
       "    .dataframe thead th {\n",
       "        text-align: right;\n",
       "    }\n",
       "</style>\n",
       "<table border=\"1\" class=\"dataframe\">\n",
       "  <thead>\n",
       "    <tr style=\"text-align: right;\">\n",
       "      <th></th>\n",
       "      <th>id</th>\n",
       "      <th>type</th>\n",
       "      <th>cleaned_text</th>\n",
       "      <th>i</th>\n",
       "      <th>shehe</th>\n",
       "      <th>they</th>\n",
       "    </tr>\n",
       "  </thead>\n",
       "  <tbody>\n",
       "    <tr>\n",
       "      <th>158526</th>\n",
       "      <td>e9jnegc</td>\n",
       "      <td>comment</td>\n",
       "      <td>try to revise your sleep schedule and diet   its astonishing how much these two factors can affect your memory and focus   start of by getting 8h of sleep for a couple of days with early wakeups drink before and after your sleep   eat a healthy breakfast or pick up a protein shake followed by a generous lunch have a normal size meal if you feel moody or prompt to anxiety try to cut on sugar and prefer proteins over carbs but keep in mind that sugar will help you when you feel like losing focus  you will need to practice tasks which require you to maintain a certain level of concentration something such as studying writing planning working be aware that writing an email reading news going through your social media fead stimulates a fake sens of concentration its a fact to whom i cant find a specific reference but the general idea is to begin a task which really pushes you to think rather than doing a task on autopilot   when it comes to social interactions and humour you will need to workout something on the go like joining a group of students or a sport association</td>\n",
       "      <td>0.51</td>\n",
       "      <td>0.0</td>\n",
       "      <td>0.00</td>\n",
       "    </tr>\n",
       "    <tr>\n",
       "      <th>228710</th>\n",
       "      <td>g654rhe</td>\n",
       "      <td>comment</td>\n",
       "      <td>i think you arent full of hate but you are displaying a lot of entitlement  you are into wwe so lets use that as a frame of reference  a lot of these legendary champions had to hustle and work hard and grind at it for years to get a shot to even work for that company they would have to work lousy shows for lousy pay in lousy towns to get the chance to hopefully be squashed at a house show  they all felt they deserved better but instead of hating where they were at they worked happily at their goals and dreams grinding away because they hated the thought of doing anything except following their passion   find what really drives you and makes you feel good about yourself pursue it relentlessly be willing to suffer for it use the sense of dissatisfaction you feel to fuel you to make your world a better place you feel proud of being in   no one will stop you from hating the world but if you can channel that anger and dissatisfaction into something productive for yourself and others the whole world could witness the emergence of a new champion  respect</td>\n",
       "      <td>0.51</td>\n",
       "      <td>0.0</td>\n",
       "      <td>4.04</td>\n",
       "    </tr>\n",
       "    <tr>\n",
       "      <th>358255</th>\n",
       "      <td>ip00lo6</td>\n",
       "      <td>comment</td>\n",
       "      <td>i would way the first step is to look at things realistically and simple at the same time alot of times we always consider what if scenarios which not all the time but sometimes create a false narrative and creates mistakes  1 if things cant be controlled let life takes it flow hardship and pain is a reminder that we are in a position for knowledge and improvement  2 dont be a pushover unless you enjoy it understand what you want in your life and strive toward it through improvement and good character plus good karma goes a long way  3 learn to relax and think of the good a mentality that traps alot of people in relations to work friendship girlfriendboyfriend etc is the notion of one bad experience making a judgement for our whole life its harder to remember the 10 good memories vs 1 shit memory because sometimes we take it for granted or were overwhelmed by our current situation take a moment from time to time to think of the positive memories you had and remind yourself that this wont be the last that why it happened in the first place  gl</td>\n",
       "      <td>0.51</td>\n",
       "      <td>0.0</td>\n",
       "      <td>0.00</td>\n",
       "    </tr>\n",
       "    <tr>\n",
       "      <th>131804</th>\n",
       "      <td>dmkx5l4</td>\n",
       "      <td>comment</td>\n",
       "      <td>i think you start with accepting yourself for who and what you are next you start being positive as possible no matter what if you feel you are at rock bottom there is only one way to go and that is up you can even take being bullied as a positive if you are being bullied that is an opportunity to stand up for yourself and improve on your courage and bravery when being challenged improve on yourself in anyway possible realize that this world is a blank canvas where we paint whatever we want it isnt totally shit nor is it totally rainbows and unicorns either its more in the middle grey and dull if you worry about the comments on social media about who you are or what you may be youll be wasting time on this earth when you can be using it to embrace yourself and have happiness when in the end it doesnt matter we all die in the end use your time here on this earth to the fullest or dont have it your way   be honest with yourself be positive always improve yourself and expect nothing good from anyone</td>\n",
       "      <td>0.51</td>\n",
       "      <td>0.0</td>\n",
       "      <td>0.00</td>\n",
       "    </tr>\n",
       "    <tr>\n",
       "      <th>200181</th>\n",
       "      <td>fdr8278</td>\n",
       "      <td>comment</td>\n",
       "      <td>none of the studies show long term impact we just dont have enough research to show long term effects 10 20 etc years of being on the diet evolutionarily speaking our ancestors did not remain in a ketogenic state 247 yes they experiences keto for periods of time especially while fasting for extended periods this is where we get into the debate of whether chronic or cyclical keto would be more beneficial also for certain individuals keto can be very risky esp for women it has a lot of effects on the endocrine system and can adversely affect womens health again this does not mean all women wont benefit from keto but there are many who would be negatively impacted by it also for individuals who are underweight keto can be a bad call  obviously the standard american diet sad is horrible for you im not advocating a sad there are many other diets out there though that can be beneficial ie paleo slow carb vegetarian if done right to just straight up say everyone should do keto is irresponsible keto can be very good for you but its not the end all be all</td>\n",
       "      <td>0.51</td>\n",
       "      <td>0.0</td>\n",
       "      <td>0.51</td>\n",
       "    </tr>\n",
       "  </tbody>\n",
       "</table>\n",
       "</div>"
      ],
      "text/plain": [
       "             id     type  \\\n",
       "158526  e9jnegc  comment   \n",
       "228710  g654rhe  comment   \n",
       "358255  ip00lo6  comment   \n",
       "131804  dmkx5l4  comment   \n",
       "200181  fdr8278  comment   \n",
       "\n",
       "                                                                                                                                                                                                                                                                                                                                                                                                                                                                                                                                                                                                                                                                                                                                                                                                                                                                                                                                                                                                                                                                                                                     cleaned_text  \\\n",
       "158526  try to revise your sleep schedule and diet   its astonishing how much these two factors can affect your memory and focus   start of by getting 8h of sleep for a couple of days with early wakeups drink before and after your sleep   eat a healthy breakfast or pick up a protein shake followed by a generous lunch have a normal size meal if you feel moody or prompt to anxiety try to cut on sugar and prefer proteins over carbs but keep in mind that sugar will help you when you feel like losing focus  you will need to practice tasks which require you to maintain a certain level of concentration something such as studying writing planning working be aware that writing an email reading news going through your social media fead stimulates a fake sens of concentration its a fact to whom i cant find a specific reference but the general idea is to begin a task which really pushes you to think rather than doing a task on autopilot   when it comes to social interactions and humour you will need to workout something on the go like joining a group of students or a sport association   \n",
       "228710                    i think you arent full of hate but you are displaying a lot of entitlement  you are into wwe so lets use that as a frame of reference  a lot of these legendary champions had to hustle and work hard and grind at it for years to get a shot to even work for that company they would have to work lousy shows for lousy pay in lousy towns to get the chance to hopefully be squashed at a house show  they all felt they deserved better but instead of hating where they were at they worked happily at their goals and dreams grinding away because they hated the thought of doing anything except following their passion   find what really drives you and makes you feel good about yourself pursue it relentlessly be willing to suffer for it use the sense of dissatisfaction you feel to fuel you to make your world a better place you feel proud of being in   no one will stop you from hating the world but if you can channel that anger and dissatisfaction into something productive for yourself and others the whole world could witness the emergence of a new champion  respect   \n",
       "358255                         i would way the first step is to look at things realistically and simple at the same time alot of times we always consider what if scenarios which not all the time but sometimes create a false narrative and creates mistakes  1 if things cant be controlled let life takes it flow hardship and pain is a reminder that we are in a position for knowledge and improvement  2 dont be a pushover unless you enjoy it understand what you want in your life and strive toward it through improvement and good character plus good karma goes a long way  3 learn to relax and think of the good a mentality that traps alot of people in relations to work friendship girlfriendboyfriend etc is the notion of one bad experience making a judgement for our whole life its harder to remember the 10 good memories vs 1 shit memory because sometimes we take it for granted or were overwhelmed by our current situation take a moment from time to time to think of the positive memories you had and remind yourself that this wont be the last that why it happened in the first place  gl   \n",
       "131804                                                                        i think you start with accepting yourself for who and what you are next you start being positive as possible no matter what if you feel you are at rock bottom there is only one way to go and that is up you can even take being bullied as a positive if you are being bullied that is an opportunity to stand up for yourself and improve on your courage and bravery when being challenged improve on yourself in anyway possible realize that this world is a blank canvas where we paint whatever we want it isnt totally shit nor is it totally rainbows and unicorns either its more in the middle grey and dull if you worry about the comments on social media about who you are or what you may be youll be wasting time on this earth when you can be using it to embrace yourself and have happiness when in the end it doesnt matter we all die in the end use your time here on this earth to the fullest or dont have it your way   be honest with yourself be positive always improve yourself and expect nothing good from anyone   \n",
       "200181                     none of the studies show long term impact we just dont have enough research to show long term effects 10 20 etc years of being on the diet evolutionarily speaking our ancestors did not remain in a ketogenic state 247 yes they experiences keto for periods of time especially while fasting for extended periods this is where we get into the debate of whether chronic or cyclical keto would be more beneficial also for certain individuals keto can be very risky esp for women it has a lot of effects on the endocrine system and can adversely affect womens health again this does not mean all women wont benefit from keto but there are many who would be negatively impacted by it also for individuals who are underweight keto can be a bad call  obviously the standard american diet sad is horrible for you im not advocating a sad there are many other diets out there though that can be beneficial ie paleo slow carb vegetarian if done right to just straight up say everyone should do keto is irresponsible keto can be very good for you but its not the end all be all   \n",
       "\n",
       "           i  shehe  they  \n",
       "158526  0.51    0.0  0.00  \n",
       "228710  0.51    0.0  4.04  \n",
       "358255  0.51    0.0  0.00  \n",
       "131804  0.51    0.0  0.00  \n",
       "200181  0.51    0.0  0.51  "
      ]
     },
     "metadata": {},
     "output_type": "display_data"
    }
   ],
   "source": [
    "with pd.option_context('display.max_colwidth', None):\n",
    "    display(data[data.i > 0.50].sort_values(by=\"i\", ascending=True)[[\"id\", \"type\", \"cleaned_text\",\"i\", \"shehe\", \"they\"]][0:5])"
   ]
  },
  {
   "cell_type": "markdown",
   "metadata": {},
   "source": [
    "Still not very \"I\" focused"
   ]
  },
  {
   "cell_type": "code",
   "execution_count": 30,
   "metadata": {},
   "outputs": [
    {
     "data": {
      "text/html": [
       "<div>\n",
       "<style scoped>\n",
       "    .dataframe tbody tr th:only-of-type {\n",
       "        vertical-align: middle;\n",
       "    }\n",
       "\n",
       "    .dataframe tbody tr th {\n",
       "        vertical-align: top;\n",
       "    }\n",
       "\n",
       "    .dataframe thead th {\n",
       "        text-align: right;\n",
       "    }\n",
       "</style>\n",
       "<table border=\"1\" class=\"dataframe\">\n",
       "  <thead>\n",
       "    <tr style=\"text-align: right;\">\n",
       "      <th></th>\n",
       "      <th>id</th>\n",
       "      <th>type</th>\n",
       "      <th>cleaned_text</th>\n",
       "      <th>i</th>\n",
       "      <th>shehe</th>\n",
       "      <th>they</th>\n",
       "    </tr>\n",
       "  </thead>\n",
       "  <tbody>\n",
       "    <tr>\n",
       "      <th>37998</th>\n",
       "      <td>lbcobx</td>\n",
       "      <td>submission</td>\n",
       "      <td>even if consciously you say you want your situation to be different often times our subconscious mind actually prefers the situation we are in then to the one we think we want in our minds  if youre struggling with your social lifedating lifeconfidence in yourself you probably want big changes in your life however  your subconscious mind doesnt want to   put you in situations where youll be uncomfortable  risk embarrassing yourself  hurt your sense of selfidentity  get rejected by people  so it will do everything it can to make sure that doesnt happen by sabotaging you and your efforts in ways you probably already know  the first step is to become aware you have to be aware that this is happening and then you have to make a choice  do you want to accept your subconscious minds version of yourself  or do you want to truly change  if you truly want to change i commend you it takes a lot of courage to admit that to yourself if you need helping knowing what the next step is reach out to me i know what its like to really struggle with your social lifeconfidence so maybe i can help  cheers</td>\n",
       "      <td>2.01</td>\n",
       "      <td>0.00</td>\n",
       "      <td>0.00</td>\n",
       "    </tr>\n",
       "    <tr>\n",
       "      <th>110338</th>\n",
       "      <td>cu6ldnt</td>\n",
       "      <td>comment</td>\n",
       "      <td>man at least you have a clear idea of what the problem is and where it came from  thats a great start   keep meditating on it and try to apply mindfulness to your social interactions so that eventually youre aware of your tendency to do this and can become aware of it in the moment when its happening try to observe the emotions that provoke this to happen and see if you can find a way to see their irrationality and form the intention to let them go   maybe take up some activityvolunteering that forces you to listen to people and get comfortable with silence   i think this stuff is really hard and i dont really have specific advice about actions to take but mostly i dont think you need to worry about it too much dont give yourself more anxiety about it than it already causes  you are on the right track just by being aware of it and forming the intention to change i think time will take care of it if you keep meditating and focusing on what you see as your true nature before it was altered ie a person who can listen without anxiety</td>\n",
       "      <td>2.01</td>\n",
       "      <td>0.00</td>\n",
       "      <td>1.01</td>\n",
       "    </tr>\n",
       "    <tr>\n",
       "      <th>363638</th>\n",
       "      <td>irnc2w0</td>\n",
       "      <td>comment</td>\n",
       "      <td>please be cautious about being an international student in community college i only know about the experience of international students in california  specifically los angeles   according to some of them its harder for them to get scholarships and theyre not legally allowed to work in the us unless theyre working at school doing some kind of work study   i hope that you dont have to support yourself alone in the us while youre being a community college student make sure when enrolling you find all the information you can about your school and international students make sure you fill out your financial aid application i think it opened a few days ago you do not want the school to play around with your money if you submitted late everything in the universe will work against you from getting any kind of financial aid if you submit that application late</td>\n",
       "      <td>2.01</td>\n",
       "      <td>0.00</td>\n",
       "      <td>2.68</td>\n",
       "    </tr>\n",
       "    <tr>\n",
       "      <th>408469</th>\n",
       "      <td>j8n1rno</td>\n",
       "      <td>comment</td>\n",
       "      <td>first of all is this the objective truth or do you suffer from body dysmorphia  many have already said a lot so heres my take im a former victim of bullying in middle school who was told in front of others how ugly i am and was greeted with monkey sounds probably couldnt work as a model nowadays either but havent heard that in decades   get a fitting hair style  workoutbuild muscles become fit  maybe do yoga or even facial yoga  get a good skin care routine natural if possible  eat healthily  find any food triggers that may cause unclean skin  find a clothing style that really matches who you are  if you want matching jewellery  engage in some interesting hobbies achieve in other areas and feel good about it  if you have myopia get glasses that look really good on you or contact lenses  ampx200b  best of luck</td>\n",
       "      <td>2.01</td>\n",
       "      <td>0.00</td>\n",
       "      <td>0.00</td>\n",
       "    </tr>\n",
       "    <tr>\n",
       "      <th>370841</th>\n",
       "      <td>iuyefmj</td>\n",
       "      <td>comment</td>\n",
       "      <td>isnt it a sad day for our culture when we have to address sex in a possible relationship before we barely know them the fact that you felt you needed to address it verifies to me how oversaturated and obsessed it has become and that you needed to let him know your boundary        dont you think you your error was allowing yourself to be in a drunken state and alone with him that created the awkward time in your apartment        i think you made a wise decision to back away and not attend the next party your wisdom is evident when your revealed you thought it would be hurtful to you if you had sex with him i perceive that you think having sex with someone is more than just a physical encounter for fun without consequences i feel the same for all changes that occur once sex is put ahead of the traditional progression in a relationship        i believe there are 11 steps to physical intimacy here is an except from 11 stages of physical intimacy in a new relationship that you can locate if you search the title that explains those steps        the stages of physical intimacy in a relationship is a process that defines the steps we naturally go through as we develop our levels of intimacy with our romantic partners the steps start out being pretty straightforward and seemingly ordinary between strangers  and grow into the most intimate of actions between a couple  sexual intercourse        when you quickly avoid these steps and jump to intercourse in a relationship i believe you set yourself up for the awkward scenario you are trying to avoid at school there are some values and virtue for saving ourselves for a marriage partner        would love to hear your thoughts</td>\n",
       "      <td>2.01</td>\n",
       "      <td>1.01</td>\n",
       "      <td>0.34</td>\n",
       "    </tr>\n",
       "  </tbody>\n",
       "</table>\n",
       "</div>"
      ],
      "text/plain": [
       "             id        type  \\\n",
       "37998    lbcobx  submission   \n",
       "110338  cu6ldnt     comment   \n",
       "363638  irnc2w0     comment   \n",
       "408469  j8n1rno     comment   \n",
       "370841  iuyefmj     comment   \n",
       "\n",
       "                                                                                                                                                                                                                                                                                                                                                                                                                                                                                                                                                                                                                                                                                                                                                                                                                                                                                                                                                                                                                                                                                                                                                                                                                                                                                                                                                                                                                                                                                                                                                                                                                                                                                                                                                     cleaned_text  \\\n",
       "37998                                                                                                                                                                                                                                                                                                                                                                                                                                                                                                                                                                                                                even if consciously you say you want your situation to be different often times our subconscious mind actually prefers the situation we are in then to the one we think we want in our minds  if youre struggling with your social lifedating lifeconfidence in yourself you probably want big changes in your life however  your subconscious mind doesnt want to   put you in situations where youll be uncomfortable  risk embarrassing yourself  hurt your sense of selfidentity  get rejected by people  so it will do everything it can to make sure that doesnt happen by sabotaging you and your efforts in ways you probably already know  the first step is to become aware you have to be aware that this is happening and then you have to make a choice  do you want to accept your subconscious minds version of yourself  or do you want to truly change  if you truly want to change i commend you it takes a lot of courage to admit that to yourself if you need helping knowing what the next step is reach out to me i know what its like to really struggle with your social lifeconfidence so maybe i can help  cheers   \n",
       "110338                                                                                                                                                                                                                                                                                                                                                                                                                                                                                                                                                                                                                                                                      man at least you have a clear idea of what the problem is and where it came from  thats a great start   keep meditating on it and try to apply mindfulness to your social interactions so that eventually youre aware of your tendency to do this and can become aware of it in the moment when its happening try to observe the emotions that provoke this to happen and see if you can find a way to see their irrationality and form the intention to let them go   maybe take up some activityvolunteering that forces you to listen to people and get comfortable with silence   i think this stuff is really hard and i dont really have specific advice about actions to take but mostly i dont think you need to worry about it too much dont give yourself more anxiety about it than it already causes  you are on the right track just by being aware of it and forming the intention to change i think time will take care of it if you keep meditating and focusing on what you see as your true nature before it was altered ie a person who can listen without anxiety   \n",
       "363638                                                                                                                                                                                                                                                                                                                                                                                                                                                                                                                                                                                                                                                                                                                                                                                                                                                             please be cautious about being an international student in community college i only know about the experience of international students in california  specifically los angeles   according to some of them its harder for them to get scholarships and theyre not legally allowed to work in the us unless theyre working at school doing some kind of work study   i hope that you dont have to support yourself alone in the us while youre being a community college student make sure when enrolling you find all the information you can about your school and international students make sure you fill out your financial aid application i think it opened a few days ago you do not want the school to play around with your money if you submitted late everything in the universe will work against you from getting any kind of financial aid if you submit that application late   \n",
       "408469                                                                                                                                                                                                                                                                                                                                                                                                                                                                                                                                                                                                                                                                                                                                                                                                                                                                                                       first of all is this the objective truth or do you suffer from body dysmorphia  many have already said a lot so heres my take im a former victim of bullying in middle school who was told in front of others how ugly i am and was greeted with monkey sounds probably couldnt work as a model nowadays either but havent heard that in decades   get a fitting hair style  workoutbuild muscles become fit  maybe do yoga or even facial yoga  get a good skin care routine natural if possible  eat healthily  find any food triggers that may cause unclean skin  find a clothing style that really matches who you are  if you want matching jewellery  engage in some interesting hobbies achieve in other areas and feel good about it  if you have myopia get glasses that look really good on you or contact lenses  ampx200b  best of luck   \n",
       "370841  isnt it a sad day for our culture when we have to address sex in a possible relationship before we barely know them the fact that you felt you needed to address it verifies to me how oversaturated and obsessed it has become and that you needed to let him know your boundary        dont you think you your error was allowing yourself to be in a drunken state and alone with him that created the awkward time in your apartment        i think you made a wise decision to back away and not attend the next party your wisdom is evident when your revealed you thought it would be hurtful to you if you had sex with him i perceive that you think having sex with someone is more than just a physical encounter for fun without consequences i feel the same for all changes that occur once sex is put ahead of the traditional progression in a relationship        i believe there are 11 steps to physical intimacy here is an except from 11 stages of physical intimacy in a new relationship that you can locate if you search the title that explains those steps        the stages of physical intimacy in a relationship is a process that defines the steps we naturally go through as we develop our levels of intimacy with our romantic partners the steps start out being pretty straightforward and seemingly ordinary between strangers  and grow into the most intimate of actions between a couple  sexual intercourse        when you quickly avoid these steps and jump to intercourse in a relationship i believe you set yourself up for the awkward scenario you are trying to avoid at school there are some values and virtue for saving ourselves for a marriage partner        would love to hear your thoughts   \n",
       "\n",
       "           i  shehe  they  \n",
       "37998   2.01   0.00  0.00  \n",
       "110338  2.01   0.00  1.01  \n",
       "363638  2.01   0.00  2.68  \n",
       "408469  2.01   0.00  0.00  \n",
       "370841  2.01   1.01  0.34  "
      ]
     },
     "metadata": {},
     "output_type": "display_data"
    }
   ],
   "source": [
    "with pd.option_context('display.max_colwidth', None):\n",
    "    display(data[data.i > 2].sort_values(by=\"i\", ascending=True)[[\"id\", \"type\", \"cleaned_text\",\"i\", \"shehe\", \"they\"]][0:5])"
   ]
  },
  {
   "cell_type": "markdown",
   "metadata": {},
   "source": [
    "Still not very \"I\" focused"
   ]
  },
  {
   "cell_type": "code",
   "execution_count": 34,
   "metadata": {},
   "outputs": [
    {
     "data": {
      "text/html": [
       "<div>\n",
       "<style scoped>\n",
       "    .dataframe tbody tr th:only-of-type {\n",
       "        vertical-align: middle;\n",
       "    }\n",
       "\n",
       "    .dataframe tbody tr th {\n",
       "        vertical-align: top;\n",
       "    }\n",
       "\n",
       "    .dataframe thead th {\n",
       "        text-align: right;\n",
       "    }\n",
       "</style>\n",
       "<table border=\"1\" class=\"dataframe\">\n",
       "  <thead>\n",
       "    <tr style=\"text-align: right;\">\n",
       "      <th></th>\n",
       "      <th>id</th>\n",
       "      <th>type</th>\n",
       "      <th>cleaned_text</th>\n",
       "      <th>i</th>\n",
       "      <th>shehe</th>\n",
       "      <th>they</th>\n",
       "    </tr>\n",
       "  </thead>\n",
       "  <tbody>\n",
       "    <tr>\n",
       "      <th>16180</th>\n",
       "      <td>aqby3d</td>\n",
       "      <td>submission</td>\n",
       "      <td>so i feel like at least for me growing up the entire notion of happiness has been muddled and packaged in such commercial ways that for up until a long time in my life im 24 i likely confused it with hedonism pleasureseeking objects or experiences such as gadgets or more vacation time over the last year or so having gone through a painful breakup  and gradually rediscovering all the reasons i should value myself ive begun to read more for leisure graduated from university with a second degree begun exercising more eating better drinking less coffee and certainly meeting up with friends and pinging acquaintances from the past  what have i learned that although im susceptible to my anxiety on random days even when i cant make any sense of why i feel a certain why ive learned that all in all im making progress to achieving my goals and for a long time my anxiety left me paralyzed to the point i wasnt even sure if i could even muster up the courage to speak that into words the reality is we need to focus our energies on meaningful things things that are personally enriching as a start we cannot even think about being a contributing member to society if we dont have this first step on lock  writing in a journal and challenging your negative thoughts helps a ton also   two random tidbits that really helped me selfimprove even despite the off anxious days that sneak up on me still  1 be as forgiving and courteous to yourself as you would if you had a friend who described what your anxiety felt like would you criticize them to death like you may to yourself its disproportionate  you are amazing just the way you are but you can always do better reason with your mind constructively dont bash it  2 be as close to the person your younger self wouldve wanted to have been inspired by yes my younger self would question if drinking alcohol is a bad thing but i obviously dont mean it from that angle the virtues and values and principles you reflect now  think of whether that would put a smile on the younger kid in yous face be your own superhero mold your present and curate your own future with everything thats in your control the rest dont sweat it  tldr happiness is just a sense of peace and literally the absence of a racing mind not actually possessing things work on yourself compassionately to shape your future the rest will follow  you got this   ps reddit has helped me in so many ways because ill meet likeminded people and random strangers advice can sometimes be incredibly empowering keep using this community for positive reasons even if you decide to cut out other social media</td>\n",
       "      <td>5.51</td>\n",
       "      <td>0.00</td>\n",
       "      <td>0.21</td>\n",
       "    </tr>\n",
       "    <tr>\n",
       "      <th>380650</th>\n",
       "      <td>iyos6hl</td>\n",
       "      <td>comment</td>\n",
       "      <td>what works for me     every time it happens and it will happen sometimes several times a day i picture this perfectionist drill sarge type boss wannabe hammering me about any mistake shortcoming misalignment whatnot thats less than perfect and trying to blame me and make me feel insufficient and that i should just quit     i tell him out loud and snickering or even outright snarling at him perfect is the enemy of possible now you will stfu you idealist idiot and let me revel in this beautiful small but possible thing ive accomplished  im accomplishing youre not allowed sabotaging me anymore     it might feel ridiculous at first but after a while it becomes second nature after a time i began to identify who were the persons behind these thoughts we all acquire during childhood they mostly help us check and hold ourselves accountable psychologists call this the super ego but us perfectionists blow them out of proportion     in time you can even begin to embrace the mistakes and learn from them small mistakes are the best they teach you how to do better and even show you unintended possibilities both right and wrong and how to avoid the wrong ones     try to grade the mistakes and bear in mind only truly catastrophic ones with fatal irreparable consequences get a 100 weight most will always be way below 30 when considered realistically only punish yourself for very grave ones above maybe 80     let me know if i can be of further use hope it helps</td>\n",
       "      <td>5.51</td>\n",
       "      <td>0.79</td>\n",
       "      <td>1.57</td>\n",
       "    </tr>\n",
       "    <tr>\n",
       "      <th>483251</th>\n",
       "      <td>k4kebti</td>\n",
       "      <td>comment</td>\n",
       "      <td>to answer your question yes theres hope as long as youre conscious i mean literally like not in a coma theres always hope   someone else recommended these subreddits and im going to as well  rcptsd remotionalneglect rsocialskills rnarcissisticparents    i grew up in a similar situation the major difference being religion was the tool my parents used to keep me from having friends and force me to think certain things for me i had to leave town and start a new life because of that i dont have a college degree i spent a few years quite poor and did too many drugs to get by however its been about 6 years since i started taking my life more seriously and im doing very well i do better than my peers in many ways particularly financial and emotionally   you should take some of the advice mentioned and get your hygiene under control but the area youll see the most impact in is getting away from abusive situations and exerting your autonomy once you begin learning about who you are and find some peace everything else will start falling into place   i recommend doing this at all costs education home money friends etc i would draw the line only at homelessness try not to burn the bridge with your parents so you could stay with them temporarily if youre plan doesnt work out if you end up sleeping in your car for more than a night or two go back to the beginning and try something else  churches 12step recovery meetings womens shelters even homeless shelters are all great resources show up to any of those places sober and tell people whats going on someone will find you a place to stay and other essentials i wish i knew this earlier there are a ton of resources out there for people in your situation you just have to find the people that are relevant enough   even if someone isnt an alcoholic or addict and shows up to aa or na asking for help in some other area like escaping abuse they get helped out   other commenters covered the practical advice already so im skipping that purposefully dont underestimate the power of getting into a routine though  i wish you the best of luck</td>\n",
       "      <td>5.51</td>\n",
       "      <td>0.00</td>\n",
       "      <td>0.52</td>\n",
       "    </tr>\n",
       "    <tr>\n",
       "      <th>368700</th>\n",
       "      <td>ityf8hz</td>\n",
       "      <td>comment</td>\n",
       "      <td>hello omg op same here not only one but half of the group talaga i support them here and there i even spend a lot of money just to show my support sometimes like for example when theyre joining a contest tas nanalo sila or sasabak palang ill treat them or pay for their expenses to show that im really proud of them but kung ako naman nanalo kahit ni isang congrats wala talaga likeeee arghh naiiyak din ako minsan kasi yung reply pa most of the time weh charot sana all woahhh baka nag cheat ka lang like i get it mas matalino sila sakin but hindi naman din ako ganoon ka bobo and nadadala din naman ako sa honor list  haysss hugs for ya op</td>\n",
       "      <td>5.51</td>\n",
       "      <td>0.00</td>\n",
       "      <td>3.94</td>\n",
       "    </tr>\n",
       "    <tr>\n",
       "      <th>452969</th>\n",
       "      <td>jsmi813</td>\n",
       "      <td>comment</td>\n",
       "      <td>counsellingtherapy if you possibly can they will help you see things through a more impartial lens and learn how to be compassionate towards yourself its hard when youre not used to it but being kind to yourself is the true basis of strength and resilience you need to believe in yourself and care about yourself in order to do good things for yourself and one of those things is ignoring the judgmentcomments of others   also if this isnt an option for you at the moment try speaking to yourself actually literally out loud ideally in the mirror as if you were talking to your best friend or someone else you deeply care about find some phrases or affirmations that resonate with you and repeat them to yourself aloud it will take you a while to get anything from it but it will start to change your selftalk   im not great with affirmations i find them cheesy  but i use im calm im okay its okay its going to be okay i can do hard things i do hard stuff all the time this last one was extra true when i was going through a hard time cos i felt like everything was hard  phrases that resonate with me include dont accept criticism from people you wouldnt go to for advice  time you enjoy wasting is not wasted time this one got me out of bullying myself for not being productive at all times what other people think about me is none of my business</td>\n",
       "      <td>5.51</td>\n",
       "      <td>0.00</td>\n",
       "      <td>1.18</td>\n",
       "    </tr>\n",
       "  </tbody>\n",
       "</table>\n",
       "</div>"
      ],
      "text/plain": [
       "             id        type  \\\n",
       "16180    aqby3d  submission   \n",
       "380650  iyos6hl     comment   \n",
       "483251  k4kebti     comment   \n",
       "368700  ityf8hz     comment   \n",
       "452969  jsmi813     comment   \n",
       "\n",
       "                                                                                                                                                                                                                                                                                                                                                                                                                                                                                                                                                                                                                                                                                                                                                                                                                                                                                                                                                                                                                                                                                                                                                                                                                                                                                                                                                                                                                                                                                                                                                                                                                                                                                                                                                                                                                                                                                                                                                                                                                                                                                                                                                                                                                                                                                                                                                                                                                                                                                                                                                                                                                                                                                                                  cleaned_text  \\\n",
       "16180   so i feel like at least for me growing up the entire notion of happiness has been muddled and packaged in such commercial ways that for up until a long time in my life im 24 i likely confused it with hedonism pleasureseeking objects or experiences such as gadgets or more vacation time over the last year or so having gone through a painful breakup  and gradually rediscovering all the reasons i should value myself ive begun to read more for leisure graduated from university with a second degree begun exercising more eating better drinking less coffee and certainly meeting up with friends and pinging acquaintances from the past  what have i learned that although im susceptible to my anxiety on random days even when i cant make any sense of why i feel a certain why ive learned that all in all im making progress to achieving my goals and for a long time my anxiety left me paralyzed to the point i wasnt even sure if i could even muster up the courage to speak that into words the reality is we need to focus our energies on meaningful things things that are personally enriching as a start we cannot even think about being a contributing member to society if we dont have this first step on lock  writing in a journal and challenging your negative thoughts helps a ton also   two random tidbits that really helped me selfimprove even despite the off anxious days that sneak up on me still  1 be as forgiving and courteous to yourself as you would if you had a friend who described what your anxiety felt like would you criticize them to death like you may to yourself its disproportionate  you are amazing just the way you are but you can always do better reason with your mind constructively dont bash it  2 be as close to the person your younger self wouldve wanted to have been inspired by yes my younger self would question if drinking alcohol is a bad thing but i obviously dont mean it from that angle the virtues and values and principles you reflect now  think of whether that would put a smile on the younger kid in yous face be your own superhero mold your present and curate your own future with everything thats in your control the rest dont sweat it  tldr happiness is just a sense of peace and literally the absence of a racing mind not actually possessing things work on yourself compassionately to shape your future the rest will follow  you got this   ps reddit has helped me in so many ways because ill meet likeminded people and random strangers advice can sometimes be incredibly empowering keep using this community for positive reasons even if you decide to cut out other social media   \n",
       "380650                                                                                                                                                                                                                                                                                                                                                                                                                                                                                                                                                                                                                                                                                                                                                                                                                                                                                                                                                                                                                                                                                                                                                                                             what works for me     every time it happens and it will happen sometimes several times a day i picture this perfectionist drill sarge type boss wannabe hammering me about any mistake shortcoming misalignment whatnot thats less than perfect and trying to blame me and make me feel insufficient and that i should just quit     i tell him out loud and snickering or even outright snarling at him perfect is the enemy of possible now you will stfu you idealist idiot and let me revel in this beautiful small but possible thing ive accomplished  im accomplishing youre not allowed sabotaging me anymore     it might feel ridiculous at first but after a while it becomes second nature after a time i began to identify who were the persons behind these thoughts we all acquire during childhood they mostly help us check and hold ourselves accountable psychologists call this the super ego but us perfectionists blow them out of proportion     in time you can even begin to embrace the mistakes and learn from them small mistakes are the best they teach you how to do better and even show you unintended possibilities both right and wrong and how to avoid the wrong ones     try to grade the mistakes and bear in mind only truly catastrophic ones with fatal irreparable consequences get a 100 weight most will always be way below 30 when considered realistically only punish yourself for very grave ones above maybe 80     let me know if i can be of further use hope it helps   \n",
       "483251                                                                                                                                                                                                                                                                                                                                                                                                                                                                                                                                      to answer your question yes theres hope as long as youre conscious i mean literally like not in a coma theres always hope   someone else recommended these subreddits and im going to as well  rcptsd remotionalneglect rsocialskills rnarcissisticparents    i grew up in a similar situation the major difference being religion was the tool my parents used to keep me from having friends and force me to think certain things for me i had to leave town and start a new life because of that i dont have a college degree i spent a few years quite poor and did too many drugs to get by however its been about 6 years since i started taking my life more seriously and im doing very well i do better than my peers in many ways particularly financial and emotionally   you should take some of the advice mentioned and get your hygiene under control but the area youll see the most impact in is getting away from abusive situations and exerting your autonomy once you begin learning about who you are and find some peace everything else will start falling into place   i recommend doing this at all costs education home money friends etc i would draw the line only at homelessness try not to burn the bridge with your parents so you could stay with them temporarily if youre plan doesnt work out if you end up sleeping in your car for more than a night or two go back to the beginning and try something else  churches 12step recovery meetings womens shelters even homeless shelters are all great resources show up to any of those places sober and tell people whats going on someone will find you a place to stay and other essentials i wish i knew this earlier there are a ton of resources out there for people in your situation you just have to find the people that are relevant enough   even if someone isnt an alcoholic or addict and shows up to aa or na asking for help in some other area like escaping abuse they get helped out   other commenters covered the practical advice already so im skipping that purposefully dont underestimate the power of getting into a routine though  i wish you the best of luck   \n",
       "368700                                                                                                                                                                                                                                                                                                                                                                                                                                                                                                                                                                                                                                                                                                                                                                                                                                                                                                                                                                                                                                                                                                                                                                                                                                                                                                                                                                                                                                                                                                                                                                                                                                                                                                                                                                                                                                                                                                                                                                                                                                                       hello omg op same here not only one but half of the group talaga i support them here and there i even spend a lot of money just to show my support sometimes like for example when theyre joining a contest tas nanalo sila or sasabak palang ill treat them or pay for their expenses to show that im really proud of them but kung ako naman nanalo kahit ni isang congrats wala talaga likeeee arghh naiiyak din ako minsan kasi yung reply pa most of the time weh charot sana all woahhh baka nag cheat ka lang like i get it mas matalino sila sakin but hindi naman din ako ganoon ka bobo and nadadala din naman ako sa honor list  haysss hugs for ya op   \n",
       "452969                                                                                                                                                                                                                                                                                                                                                                                                                                                                                                                                                                                                                                                                                                                                                                                                                                                                                                                                                                                                                                                                                                                                                                                                                                                                                                                    counsellingtherapy if you possibly can they will help you see things through a more impartial lens and learn how to be compassionate towards yourself its hard when youre not used to it but being kind to yourself is the true basis of strength and resilience you need to believe in yourself and care about yourself in order to do good things for yourself and one of those things is ignoring the judgmentcomments of others   also if this isnt an option for you at the moment try speaking to yourself actually literally out loud ideally in the mirror as if you were talking to your best friend or someone else you deeply care about find some phrases or affirmations that resonate with you and repeat them to yourself aloud it will take you a while to get anything from it but it will start to change your selftalk   im not great with affirmations i find them cheesy  but i use im calm im okay its okay its going to be okay i can do hard things i do hard stuff all the time this last one was extra true when i was going through a hard time cos i felt like everything was hard  phrases that resonate with me include dont accept criticism from people you wouldnt go to for advice  time you enjoy wasting is not wasted time this one got me out of bullying myself for not being productive at all times what other people think about me is none of my business   \n",
       "\n",
       "           i  shehe  they  \n",
       "16180   5.51   0.00  0.21  \n",
       "380650  5.51   0.79  1.57  \n",
       "483251  5.51   0.00  0.52  \n",
       "368700  5.51   0.00  3.94  \n",
       "452969  5.51   0.00  1.18  "
      ]
     },
     "metadata": {},
     "output_type": "display_data"
    }
   ],
   "source": [
    "with pd.option_context('display.max_colwidth', None):\n",
    "    display(data[data.i > 5.5].sort_values(by=\"i\", ascending=True)[[\"id\", \"type\", \"cleaned_text\",\"i\", \"shehe\", \"they\"]][0:5])"
   ]
  },
  {
   "cell_type": "markdown",
   "metadata": {},
   "source": [
    "5.5 looks like a good cut off point. Every post above it is gonna be categorized as predominanty first-person focused."
   ]
  },
  {
   "cell_type": "code",
   "execution_count": 39,
   "metadata": {},
   "outputs": [],
   "source": [
    "data[\"person_focus\"] = data[\"i\"].apply(lambda x: \"First person\" if x > 5.5 else \"Not first person\")"
   ]
  },
  {
   "cell_type": "markdown",
   "metadata": {},
   "source": [
    "### See distribution"
   ]
  },
  {
   "cell_type": "code",
   "execution_count": 40,
   "metadata": {},
   "outputs": [
    {
     "data": {
      "text/plain": [
       "person_focus\n",
       "Not first person    272700\n",
       "First person        234816\n",
       "Name: count, dtype: int64"
      ]
     },
     "execution_count": 40,
     "metadata": {},
     "output_type": "execute_result"
    }
   ],
   "source": [
    "data.person_focus.value_counts()"
   ]
  },
  {
   "cell_type": "markdown",
   "metadata": {},
   "source": [
    "Almost evenly distributed! Save in csv"
   ]
  },
  {
   "cell_type": "code",
   "execution_count": 41,
   "metadata": {},
   "outputs": [],
   "source": [
    "data.to_csv(\"data/person-analysis-completedata.csv\")"
   ]
  },
  {
   "cell_type": "markdown",
   "metadata": {},
   "source": [
    "Merge with topics (reduced) data and save as well"
   ]
  },
  {
   "cell_type": "code",
   "execution_count": 47,
   "metadata": {},
   "outputs": [
    {
     "name": "stderr",
     "output_type": "stream",
     "text": [
      "/var/folders/5q/yq3hk8g1793ckqmn2n3xpr6c0000gn/T/ipykernel_12244/1410063574.py:1: DtypeWarning: Columns (9) have mixed types. Specify dtype option on import or set low_memory=False.\n",
      "  topics = pd.read_csv(\"data/final_data.csv\")[[\"id\",\"dominant_topic\"]]\n"
     ]
    }
   ],
   "source": [
    "topics = pd.read_csv(\"data/final_data.csv\")[[\"id\",\"dominant_topic\"]]"
   ]
  },
  {
   "cell_type": "code",
   "execution_count": 49,
   "metadata": {},
   "outputs": [],
   "source": [
    "merged = data.merge(topics, how=\"inner\", on=\"id\")"
   ]
  },
  {
   "cell_type": "code",
   "execution_count": 52,
   "metadata": {},
   "outputs": [],
   "source": [
    "merged.to_csv(\"data/final_data2_with_pronouns.csv\")"
   ]
  }
 ],
 "metadata": {
  "kernelspec": {
   "display_name": "thesis10",
   "language": "python",
   "name": "python3"
  },
  "language_info": {
   "codemirror_mode": {
    "name": "ipython",
    "version": 3
   },
   "file_extension": ".py",
   "mimetype": "text/x-python",
   "name": "python",
   "nbconvert_exporter": "python",
   "pygments_lexer": "ipython3",
   "version": "3.10.14"
  },
  "orig_nbformat": 4
 },
 "nbformat": 4,
 "nbformat_minor": 2
}
